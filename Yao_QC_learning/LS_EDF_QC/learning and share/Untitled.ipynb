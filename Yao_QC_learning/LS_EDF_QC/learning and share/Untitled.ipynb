{
 "cells": [
  {
   "cell_type": "code",
   "execution_count": 1,
   "id": "8bf30713-b2a5-4cb6-a3c2-762a3636da79",
   "metadata": {},
   "outputs": [],
   "source": [
    "using Pkg"
   ]
  },
  {
   "cell_type": "code",
   "execution_count": 2,
   "id": "8316575d-0528-4753-a541-cf6e478bb8bc",
   "metadata": {},
   "outputs": [
    {
     "name": "stderr",
     "output_type": "stream",
     "text": [
      "\u001b[32m\u001b[1m  Activating\u001b[22m\u001b[39m project at `~/Julia_learning_repo/Yao_QC_learning/LS_EDF_QC`\n"
     ]
    }
   ],
   "source": [
    "Pkg.activate(\"../\")"
   ]
  },
  {
   "cell_type": "code",
   "execution_count": 3,
   "id": "be870913-4d03-42ed-899d-559fe948c4f3",
   "metadata": {},
   "outputs": [],
   "source": [
    "using Yao\n",
    "using YaoPlots"
   ]
  },
  {
   "cell_type": "code",
   "execution_count": 4,
   "id": "dcf56675-bbdd-4268-af98-781ecb570540",
   "metadata": {},
   "outputs": [],
   "source": [
    "using StatsBase: Histogram, fit\n",
    "using BitBasis"
   ]
  },
  {
   "cell_type": "code",
   "execution_count": 5,
   "id": "32dbd057-9c0d-4853-b87f-5b771511ed44",
   "metadata": {},
   "outputs": [
    {
     "data": {
      "text/plain": [
       "Plots.GRBackend()"
      ]
     },
     "execution_count": 5,
     "metadata": {},
     "output_type": "execute_result"
    }
   ],
   "source": [
    "using Plots: bar, scatter!, gr; gr()"
   ]
  },
  {
   "cell_type": "code",
   "execution_count": null,
   "id": "15bfd884-b213-4192-acce-76e8a736b33a",
   "metadata": {},
   "outputs": [],
   "source": []
  }
 ],
 "metadata": {
  "kernelspec": {
   "display_name": "Julia 1.9.0-beta2",
   "language": "julia",
   "name": "julia-1.9"
  },
  "language_info": {
   "file_extension": ".jl",
   "mimetype": "application/julia",
   "name": "julia",
   "version": "1.9.0"
  }
 },
 "nbformat": 4,
 "nbformat_minor": 5
}
