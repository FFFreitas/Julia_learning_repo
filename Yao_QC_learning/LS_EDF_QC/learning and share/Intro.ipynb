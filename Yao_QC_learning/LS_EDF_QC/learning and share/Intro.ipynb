{
 "cells": [
  {
   "cell_type": "code",
   "execution_count": 1,
   "id": "d1ed4da3-c287-44e6-86c5-b22738b5a585",
   "metadata": {
    "slideshow": {
     "slide_type": "skip"
    }
   },
   "outputs": [],
   "source": [
    "using Pkg"
   ]
  },
  {
   "cell_type": "code",
   "execution_count": 2,
   "id": "eb1b70f1-97ac-48c1-87d7-4cc9416c7b25",
   "metadata": {
    "slideshow": {
     "slide_type": "skip"
    }
   },
   "outputs": [
    {
     "name": "stderr",
     "output_type": "stream",
     "text": [
      "\u001b[32m\u001b[1m  Activating\u001b[22m\u001b[39m project at `~/Julia_learning_repo/Yao_QC_learning/LS_EDF_QC`\n"
     ]
    }
   ],
   "source": [
    "Pkg.activate(\"../\")"
   ]
  },
  {
   "cell_type": "code",
   "execution_count": 3,
   "id": "90241e62-b32e-4f20-9f79-a3077122dcd2",
   "metadata": {
    "slideshow": {
     "slide_type": "skip"
    }
   },
   "outputs": [],
   "source": [
    "using Yao\n",
    "using YaoPlots"
   ]
  },
  {
   "cell_type": "code",
   "execution_count": 4,
   "id": "998d3840-8529-4728-82c7-5da530c4796b",
   "metadata": {
    "slideshow": {
     "slide_type": "skip"
    }
   },
   "outputs": [],
   "source": [
    "using StatsBase: Histogram, fit\n",
    "using BitBasis"
   ]
  },
  {
   "cell_type": "code",
   "execution_count": 5,
   "id": "e4546a1e-12f4-4d5b-9c47-f3f478200995",
   "metadata": {
    "slideshow": {
     "slide_type": "skip"
    }
   },
   "outputs": [
    {
     "data": {
      "text/plain": [
       "Plots.GRBackend()"
      ]
     },
     "execution_count": 5,
     "metadata": {},
     "output_type": "execute_result"
    }
   ],
   "source": [
    "using Plots: bar, scatter!, gr; gr()"
   ]
  },
  {
   "cell_type": "markdown",
   "id": "e5b30392-b9f3-4fe1-b4c4-881a48353aa3",
   "metadata": {
    "slideshow": {
     "slide_type": "slide"
    }
   },
   "source": [
    "## 1. Splitting information into bits\n",
    "\n",
    "The first thing we need to know about is the idea of bits. These are designed to be the world’s simplest alphabet. With only two characters, 0 and 1, we can represent any piece of information.\n",
    "\n",
    "One example is numbers. You are probably used to representing a number through a string of the ten digits 0, 1, 2, 3, 4, 5, 6, 7, 8, and 9. In this string of digits, each digit represents how many times the number contains a certain power of ten. For example, when we write 9213, we mean\n",
    "\n",
    "$$ 9000 + 200 + 10 + 3 $$\n",
    "\n",
    "or, expressed in a way that emphasizes the powers of ten\n",
    "\n",
    "$$ (9 \\times 10^{3}) + (2 \\times 10^{2}) + (1 \\times 10^{1}) + (3 \\times 10^{0}) $$\n",
    "\n",
    "Though we usually use this system based on the number 10, we can just as easily use one based on any other number. The binary number system, for example, is based on the number two. This means using the two characters 0 and 1 to express numbers as multiples of powers of two. For example, 9213 becomes 10001111111101, since\n",
    "\n",
    "$$ 9213 = (1 \\times 2^{13}) + (0 \\times 2^{12}) + (0 \\times 2^{11}) + (0 \\times 2^{10}) + (1 \\times 2^{9}) + (1 \\times 2^{8}) + (1 \\times 2^{7}) + (1 \\times 2^{6}) + (1 \\times 2^{5}) + (1 \\times 2^{4}) + (1 \\times 2^{3}) + (1 \\times 2^{2}) + (0 \\times 2^{1}) + (1 \\times 2^{0})$$  \n",
    "\n",
    "In this we are expressing numbers as multiples of 2, 4, 8, 16, 32, etc. instead of 10, 100, 1000, etc.\n",
    "\n"
   ]
  },
  {
   "cell_type": "code",
   "execution_count": 6,
   "id": "2852571c-2971-4b3e-8fd0-d35cdadfa44d",
   "metadata": {
    "slideshow": {
     "slide_type": "subslide"
    }
   },
   "outputs": [
    {
     "data": {
      "text/plain": [
       "\"0010001111111101\""
      ]
     },
     "execution_count": 6,
     "metadata": {},
     "output_type": "execute_result"
    }
   ],
   "source": [
    "bitstring(Int16(9213))"
   ]
  },
  {
   "cell_type": "code",
   "execution_count": 7,
   "id": "b5896db0-2c3c-46d6-b8cd-1c13ec717c35",
   "metadata": {},
   "outputs": [
    {
     "data": {
      "text/plain": [
       "14-element Vector{Int64}:\n",
       " 1\n",
       " 1\n",
       " 1\n",
       " 0\n",
       " 0\n",
       " 0\n",
       " 0\n",
       " 0\n",
       " 0\n",
       " 0\n",
       " 1\n",
       " 0\n",
       " 0\n",
       " 1"
      ]
     },
     "execution_count": 7,
     "metadata": {},
     "output_type": "execute_result"
    }
   ],
   "source": [
    "digits(9223, base=2)"
   ]
  },
  {
   "cell_type": "markdown",
   "id": "4aa72314-3f51-4f2e-9dd3-99e0572d23a1",
   "metadata": {
    "slideshow": {
     "slide_type": "slide"
    }
   },
   "source": [
    "We can represent any information as binary strings, and in fact we do store and process information using this system.\n",
    "\n",
    "For example, there is a way to represent any text using bits. For any letter, number, or punctuation mark you want to use, you can find a corresponding string of at most eight bits using this table. Though these are quite arbitrary, this is a widely agreed-upon standard. In fact, it's what was used to transmit this article to you through the internet.\n",
    "\n",
    "but you might say: Duh!, I already know this, so what is so special about this?\n",
    "\n",
    "Like our standard digital computers, quantum computers are based on this same basic idea. The main difference is that they use qubits, an extension of the bit to quantum mechanics. \n",
    " "
   ]
  },
  {
   "cell_type": "markdown",
   "id": "09f0d6b4-5540-4733-a3e0-8cb9b33fd8f9",
   "metadata": {
    "slideshow": {
     "slide_type": "slide"
    }
   },
   "source": [
    "## The Qubit\n",
    "\n",
    "A quantum bit or qubit is a two-level quantum mechanical system and is represented by quantum states. Any quantum particle that can be measured in two discrete states could be used as a qubit\n",
    "\n",
    "e.g:"
   ]
  },
  {
   "cell_type": "markdown",
   "id": "b0a88172-2d06-425e-a240-8f702fddfb32",
   "metadata": {
    "slideshow": {
     "slide_type": "subslide"
    }
   },
   "source": [
    "### Trapped ions\n",
    "<div>\n",
    "<center>\n",
    "<img src=\"https://thumbs.gfycat.com/PinkQuarterlyEagle-max-1mb.gif\" width=\"700\"/>\n",
    "</center>\n",
    "</div>\n",
    "\n",
    "Who uses:\n",
    "\n",
    "[Quantinium](https://www.quantinuum.com/)\n",
    "\n",
    "[IonQ](https://ionq.com/)\n",
    "\n",
    "[QUANTUM FACTORY]()\n",
    "\n",
    "[ALPINE QUANTUM TECHNOLOGIES](https://www.aqt.eu/)\n",
    "\n",
    "[OXFORD IONICS](www.oxionics.com)\n",
    "\n",
    "[ELEQTRON](https://eleqtron.com/en/)\n",
    "\n",
    "[Honeywell](https://www.honeywell.com/us/en/company/quantum)\n"
   ]
  },
  {
   "cell_type": "markdown",
   "id": "692ebad0-0e03-4430-ad94-5b02c460f644",
   "metadata": {
    "slideshow": {
     "slide_type": "subslide"
    }
   },
   "source": [
    "### Polarized photons\n",
    "\n",
    "<div>\n",
    "<center>\n",
    "<img src=\"https://www.allaboutcircuits.com/uploads/articles/Salience_Labs_processor.gif\" width=\"700\"/>\n",
    "</center>\n",
    "</div>\n",
    "\n",
    "Who uses:\n",
    "\n",
    "[Xanadu](https://www.xanadu.ai/)\n",
    "\n",
    "[ORCA Computing](https://www.orcacomputing.com/)\n",
    "\n",
    "[QUIX QUANTUM](https://www.quixquantum.com/)\n",
    "\n",
    "[PSIQUANTUM](https://psiquantum.com/)"
   ]
  },
  {
   "cell_type": "markdown",
   "id": "2a733e58-b7b5-476d-b9ff-e03e9da9e347",
   "metadata": {
    "slideshow": {
     "slide_type": "subslide"
    }
   },
   "source": [
    "### Electrons spin currents\n",
    "<div>\n",
    "<center>\n",
    "<img src=\"https://www.popsci.com/uploads/2022/09/06/giphy-1.gif\" width=\"700\"/>\n",
    "</center>\n",
    "</div>\n",
    "\n",
    "Who uses:\n",
    "\n",
    "[IBM](https://www.ibm.com/blogs/research/2020/01/quantum-limited-amplifiers/)\n",
    "\n",
    "[Google](https://quantumai.google/)\n",
    "\n",
    "[Intel](https://www.intel.com/content/www/us/en/research/quantum-computing.html)\n",
    "\n",
    "[Rigetti](https://www.rigetti.com/)"
   ]
  },
  {
   "cell_type": "markdown",
   "id": "b22c4d53-8bea-4e0d-80f5-fb35a84e36c5",
   "metadata": {
    "slideshow": {
     "slide_type": "slide"
    }
   },
   "source": [
    "# Mathematical representation of qubits\n",
    "\n",
    "Under the hood, the mathematical framework of quantum computing is linear algebra. A qubit is represented by a state, which is a column vector of two elements. The two most basic ones are the analogues of a bit's \"0\" and \"1\" state, which are represented by the following two vectors:"
   ]
  },
  {
   "cell_type": "code",
   "execution_count": 8,
   "id": "54739553-7703-4163-8733-03c7ec7bee9c",
   "metadata": {},
   "outputs": [
    {
     "data": {
      "text/plain": [
       "2×1 adjoint(::Matrix{Int64}) with eltype Int64:\n",
       " 1\n",
       " 0"
      ]
     },
     "execution_count": 8,
     "metadata": {},
     "output_type": "execute_result"
    }
   ],
   "source": [
    "̄Zero_state = Int[1 0]'"
   ]
  },
  {
   "cell_type": "code",
   "execution_count": 9,
   "id": "e03595c8-ddba-4aae-a485-87bd748c77b4",
   "metadata": {},
   "outputs": [
    {
     "data": {
      "text/plain": [
       "2×1 adjoint(::Matrix{Int64}) with eltype Int64:\n",
       " 0\n",
       " 1"
      ]
     },
     "execution_count": 9,
     "metadata": {},
     "output_type": "execute_result"
    }
   ],
   "source": [
    "One_state = Int[0 1]'"
   ]
  },
  {
   "cell_type": "markdown",
   "id": "905a1794-2908-424d-acbc-5dd58312f01d",
   "metadata": {
    "slideshow": {
     "slide_type": "slide"
    }
   },
   "source": [
    "This is tedious to write, though, so in quantum computing (and more generally, in quantum mechanics) we use a type of shorthand notation called Dirac notation, or bra-ket notation. The state vector of a qubit is called a ket, the notation for which is . What goes in between the  and  is a label to denote particular state. The two states above, in bra-ket notation, are expressed like so:\n",
    "\n",
    "\\begin{align}\n",
    "& \\vert 0\\rangle = \\begin{bmatrix} 1 \\\\ 0 \\end{bmatrix} \\ \\ \\ \\vert 1\\rangle = \\begin{bmatrix} 0 \\\\ 1 \\end{bmatrix}\n",
    "\\end{align}\n",
    " \n"
   ]
  },
  {
   "cell_type": "markdown",
   "id": "30e9821b-f6a6-4600-a06f-848ce41f4119",
   "metadata": {
    "slideshow": {
     "slide_type": "subslide"
    }
   },
   "source": [
    "Quite often, we see the notation $\\vert \\psi \\rangle$ , which represents a qubit in some arbitrary state labelled by $\\psi$.\n",
    "\n",
    "Bra-ket notation gets its name for a reason: for every ket, there is an associated bra. A bra is like a ket turned on its side. It is a row vector, where each element in the vector is the complex conjugate of the corresponding element in the ket. (More formally, a bra is the conjugate transpose of a ket.) The notation for bras is the reverse of the notation for kets:\n"
   ]
  },
  {
   "cell_type": "code",
   "execution_count": 10,
   "id": "c3f67e81-2914-4502-bdaf-e205c1e950f5",
   "metadata": {
    "slideshow": {
     "slide_type": "subslide"
    }
   },
   "outputs": [
    {
     "data": {
      "text/plain": [
       "1×2 Matrix{Int64}:\n",
       " 1  0"
      ]
     },
     "execution_count": 10,
     "metadata": {},
     "output_type": "execute_result"
    }
   ],
   "source": [
    "Zero_dagger_state = Int[1 0]  "
   ]
  },
  {
   "cell_type": "code",
   "execution_count": 11,
   "id": "a4e82ccd-1c16-4ec9-b743-aeb9c11e3976",
   "metadata": {},
   "outputs": [
    {
     "data": {
      "text/plain": [
       "1×2 Matrix{Int64}:\n",
       " 0  1"
      ]
     },
     "execution_count": 11,
     "metadata": {},
     "output_type": "execute_result"
    }
   ],
   "source": [
    "One_dagger_state = Int[0 1]"
   ]
  },
  {
   "cell_type": "markdown",
   "id": "cb373a77-76aa-4eb0-a623-313b5ece0102",
   "metadata": {},
   "source": [
    "\\begin{align}\n",
    "& \\langle 0\\vert = \\begin{bmatrix} 1 \\ \\ \\ 0 \\end{bmatrix} \\ \\ \\ \\langle 1 \\vert = \\begin{bmatrix} 0 \\ \\ \\ 1 \\end{bmatrix}\n",
    "\\end{align}\n",
    " "
   ]
  },
  {
   "cell_type": "markdown",
   "id": "b4e25ad7-8e1e-4cde-88d6-0a04c685f6a5",
   "metadata": {
    "slideshow": {
     "slide_type": "slide"
    }
   },
   "source": [
    "These two states, $\\vert 0\\rangle$  and $\\vert 1\\rangle$, are particularly important because they form a **basis**. In linear algebra, a basis is a set of vectors that spans a vector space; we can write anything else in that space as a linear combination of those basis vectors. Bases must consist of linearly independent vectors. A special case of this is when the basis vectors are orthogonal. Orthogonality can be checked by taking the inner product between two vectors, which is defined by the dot product. The same holds true for qubit states (with a bit of a twist).\n"
   ]
  },
  {
   "cell_type": "markdown",
   "id": "7408cedf-20b7-4c3f-9891-6221eedbfc84",
   "metadata": {
    "slideshow": {
     "slide_type": "subslide"
    }
   },
   "source": [
    "The inner product between two qubit states is computed by taking the dot product between the bra of one, and the ket of the other (they combine to form a \"bra-ket\" expression). We can do so to check that $\\vert 0\\rangle$  and $\\vert 1\\rangle$ are orthogonal:\n",
    "\n",
    "\\begin{align}\n",
    "& \\langle 0\\vert 1\\rangle = \\langle 1\\vert 0\\rangle = \\begin{bmatrix} 1 \\ \\ \\ 0 \\end{bmatrix} . \\begin{bmatrix} 0 \\\\ 1 \\end{bmatrix} \\\\\n",
    "& 1 . 0 + 0 . 1 = 0\n",
    "\\end{align}\n",
    " \n",
    "This is a special basis called the **computational basis**, and it is the most commonly-used basis in which to express quantum states."
   ]
  },
  {
   "cell_type": "markdown",
   "id": "f8d6c29a-a4e8-453c-b4b1-c870d44a52f4",
   "metadata": {
    "slideshow": {
     "slide_type": "slide"
    }
   },
   "source": [
    "Another feature of the computational basis is that its states are normalized to have length 1. You can compute the length of a qubit state vector just like you compute the length of a regular 2-dimensional vector; by computing its inner product with itself, and then taking the square root.\n",
    "\n",
    "\\begin{align}\n",
    "& \\sqrt{\\langle 1\\vert 1\\rangle} = \\sqrt{\\begin{bmatrix} 0 \\ \\ \\ 1 \\end{bmatrix} . \\begin{bmatrix} 0 \\\\ 1 \\end{bmatrix}} \\\\\n",
    "& \\sqrt{0 . 0 + 1 . 1} = 1\n",
    "\\end{align}\n",
    "\n",
    "\n",
    "<div>\n",
    "<center>\n",
    "<img src=\"https://media.tenor.com/lc4BrNeVGnMAAAAC/uau-whoa.gif\" width=\"700\"/>\n",
    "</center>\n",
    "</div>\n"
   ]
  },
  {
   "cell_type": "markdown",
   "id": "4840264a-2935-4480-a784-49e23ce290b8",
   "metadata": {
    "slideshow": {
     "slide_type": "slide"
    }
   },
   "source": [
    "## Superposition \n",
    "\n",
    "<div>\n",
    "<center>\n",
    "<img src=\"https://gideonwolfe.com/img/quantum/superposition.gif\" width=\"700\"/>\n",
    "</center>\n",
    "</div>\n",
    "\n",
    "A qubit is analogous to a classical bit in a classical computing system. The basic difference between the two is that in a classical system, a bit can take up values of either 0 or 1 as opposed to a qubit, which can take up a whole set of values between $\\vert 0\\rangle$ and $\\vert 1\\rangle$ representing the superposition. Mathematically, the state of a qubit in superposition is a linear combination of the basis states,\n",
    "\n",
    "$$\\vert \\psi \\rangle = \\alpha\\vert 0\\rangle + \\beta\\vert 1\\rangle = \\begin{bmatrix} \\alpha \\\\ \\beta \\end{bmatrix} $$\n",
    " "
   ]
  },
  {
   "cell_type": "markdown",
   "id": "468f02d2-1015-46ee-a60c-8fe1ca705c0b",
   "metadata": {
    "slideshow": {
     "slide_type": "slide"
    }
   },
   "source": [
    "where $\\alpha$ and $\\beta$ are complex numbers such that\n",
    "\n",
    "$$ \\alpha\\alpha^{\\dagger} + \\beta\\beta^{\\dagger} = 1$$\n",
    "\n",
    "These $\\alpha$ and $\\beta$ are called **amplitudes**, or **probability amplitudes**. The amplitudes carry information about the relative strength of $\\vert 0\\rangle$ and $\\vert 1\\rangle$ in the state.\n",
    "\n",
    "The key idea for a quantum bit to work is that we need a quantum system that has a ground state $\\vert g \\rangle$ (lowest energy state) and an excited state $\\vert e \\rangle$ (higher energy state).\n"
   ]
  },
  {
   "cell_type": "markdown",
   "id": "70506ed1-b1e0-4eec-a97f-ad8d441706a4",
   "metadata": {
    "slideshow": {
     "slide_type": "subslide"
    }
   },
   "source": [
    "_____\n",
    "Pro-tip. A common misconception is that a qubit in a superposition of two states is in both states at the same time. This is false; the qubit is only ever in one state. It's just that sometimes, that state may be a linear combination of the basis states.\n"
   ]
  },
  {
   "cell_type": "markdown",
   "id": "cbcb6804-d35e-4909-bc67-cd1f97c58ae0",
   "metadata": {
    "slideshow": {
     "slide_type": "slide"
    }
   },
   "source": [
    "## The State of Qubit\n",
    "\n",
    "<div>\n",
    "<center>\n",
    "<img src=\"https://qiskit.org/textbook/ch-algorithms/images/zbasis-counting.gif\" width=\"800\"/>\n",
    "</center>\n",
    "</div>\n",
    "\n",
    "\n",
    "The state of a classical bit is a number (0 or 1), the state of a qubit is a vector in a two-dimensional vector space. This vector space is also known as $state$ $space$. The state of a quantum system is given by a vector $\\vert \\psi(t)\\rangle$ that contains all possible information about the system at any given time.\n",
    "\n",
    "The vector $\\vert \\psi(t)\\rangle$ is a member of the Hilbert Space $\\mathcal{H}$ (more on this later) and can be a time variable (i.e., may change with time). \n",
    "\n"
   ]
  },
  {
   "cell_type": "markdown",
   "id": "c66b71ae-292c-4b0a-90cd-b7cf58c62639",
   "metadata": {
    "slideshow": {
     "slide_type": "slide"
    }
   },
   "source": [
    "## The Bloch sphere\n",
    "\n",
    "<div>\n",
    "<center>\n",
    "<img src=\"https://miro.medium.com/max/360/0*5g0fQQEwCgaU31fu.gif\" width=\"300\"/>\n",
    "</center>\n",
    "</div>\n",
    "\n",
    "\n",
    "The Bloch sphere is a three-dimensional geometric representation of qubit state space as points on the surface of an imaginary unit sphere. This is one of two ways of representing a qubit. The other way represents the qubit in Dirac notation. Simply put, the Bloch representation takes the two-dimensional (2-D) graph representation and depicts it in a 3-D representation with the state of a qubit represented by a point on the sphere.\n",
    "\n",
    "$$ \\vert \\psi\\rangle = \\cos\\left(\\frac{\\theta}{2}\\right)\\vert 0\\rangle + e^{i\\phi}\\sin\\left(\\frac{\\theta}{2}\\right) \\vert 1\\rangle$$\n",
    "\n",
    "The angle $\\phi$ of the Bloch sphere is called the azimuthal angle (or phase angle) and measured from the positive X axis to the projection of state $\\vert \\psi \\rangle$ onto the X − Y plane. Angle $\\theta$ is called the polar angle and is measured from the positive Z axis to the Bloch vector representing the state $\\vert \\psi\\rangle$."
   ]
  },
  {
   "cell_type": "markdown",
   "id": "7d2b0052-da56-40d3-89e5-2133aef523c5",
   "metadata": {
    "slideshow": {
     "slide_type": "slide"
    }
   },
   "source": [
    "## Measurement outcome probabilities\n",
    "\n",
    "Creating qubit states and putting them in superposition happens at the beginning of an algorithm. In order to perform a meaningful quantum computation, we'll need a way to get information from the qubits at the end of an algorithm. That is, we need a way to measure qubits. Measurement in quantum computing is probabilistic. When we measure, we can't see whether a qubit is in a superposition, rather we observe the qubit either in state $\\vert 0\\rangle$ or $\\vert 1\\rangle$ state. The amplitudes $\\alpha$ and $\\beta$ contain the information about the probability of each of those outcomes:\n",
    "\n",
    "\n",
    "\\begin{align}\n",
    "& \\text{Prob}(\\text{measure and observe})\\vert 0 \\rangle = \\vert\\alpha\\vert^2 \\\\\n",
    "& \\text{Prob}(\\text{measure and observe})\\vert 1 \\rangle = \\vert\\beta\\vert^2 \\\\\n",
    "\\end{align}"
   ]
  },
  {
   "cell_type": "markdown",
   "id": "babdb422-0b26-47f4-abea-619cd06c4204",
   "metadata": {
    "slideshow": {
     "slide_type": "subslide"
    }
   },
   "source": [
    "Colloquially, we often refer to observing the qubit in state $\\vert 0\\rangle$ after measurement as a \"measurement outcome of 0\", and similarly for $\\vert 0\\rangle$. In other words, if we measure a  $\\vert 0\\rangle$ we can map that to a classical \"0\" and if we measure a $\\vert 1\\rangle$ we can map that to a classical \"1\". After measurement, the qubit itself remains in the observed state. This means we can't tell right away what some original state $\\vert\\psi\\rangle = \\alpha\\vert 0\\rangle + \\beta\\vert 1\\rangle$ might have been. Measurement has given us just a single bit of information, 0 or 1, that we associate with the corresponding outcome. In order to determine the full state, we must take many, many measurements in order to estimate the outcome probabilities, and $\\alpha$ thus $\\beta$ and ."
   ]
  },
  {
   "cell_type": "markdown",
   "id": "90fa1a9b-54de-43d3-a7d1-c0516faba600",
   "metadata": {
    "slideshow": {
     "slide_type": "slide"
    }
   },
   "source": [
    "## Operations on qubit states\n",
    "\n",
    "Now that we have the starting and ending components of a quantum algorithm, we need the final ingredient that happens in between: the manipulation of qubit states. Qubit states are vectors, so we need a mathematical means of modifying a vector $\\vert \\psi \\rangle$ to produce another vector $\\vert \\psi' \\rangle$:\n",
    "\n",
    "$$ \\vert \\psi\\rangle = \\alpha\\vert 0\\rangle + \\beta\\vert 1\\rangle \\to \\vert \\psi'\\rangle = \\alpha'\\vert 0\\rangle + \\beta'\\vert 1\\rangle $$\n",
    "\n",
    "What sends a 2-dimensional vector to another 2-dimensional vector? Multiplication by a $2\\times 2$ matrix, $\\mathcal{U}$:\n",
    "\n",
    "$$ \\vert \\psi' \\rangle = \\mathcal{U}\\vert \\psi\\rangle$$\n",
    "\n"
   ]
  },
  {
   "cell_type": "markdown",
   "id": "980de5ae-829a-4db7-81ea-0e9f731e776f",
   "metadata": {
    "slideshow": {
     "slide_type": "subslide"
    }
   },
   "source": [
    "But not just any matrix will do. The matrix must preserve the normalization of the state. Even after an operation, the measurement outcome probabilities must sum to 1, i.e., $\\vert\\alpha'\\vert^2 + \\vert\\beta'\\vert^2 = 1$. There is a special class of matrices that preserves the length of quantum states: **unitary matrices**. Their defining property is that $\\mathcal{U}\\mathcal{U}^\\dagger = \\mathcal{I}$, where the $\\dagger$ indicates the taking complex conjugate of all elements in the transpose of $\\mathcal{U}$, and $\\mathcal{I}$ is the $2\\times 2$ identity matrix. As you progress through the rest of this module, you will become familiar with many common unitary operations."
   ]
  },
  {
   "cell_type": "markdown",
   "id": "55aa4f66-0970-4532-bdf6-12cfe94fc4f6",
   "metadata": {
    "slideshow": {
     "slide_type": "subslide"
    }
   },
   "source": [
    "## Observables and Operators\n",
    "\n",
    "In quantum computing, for any variable x that changes dynamically and can be measured physically as a quantity, there is a corresponding operator $\\mathcal{O}$ . The operator $\\mathcal{O}$ is Hermitian in nature.\n",
    "\n",
    "What a hell is an Hermitian operator?\n",
    "\n",
    "A: Hermitian operator is just a fancy physicist word for a self-dajoint operator.\n",
    "\n",
    "What a hell is a self-adjoint operator?\n",
    "\n",
    "Short answer -> is a matrix that is it owns transposed conjugate (obs. only works on the Hilbert space)\n",
    "\n",
    "e.g:\n",
    "\\begin{align}\n",
    "& \\begin{bmatrix} 0 & 1 \\\\ 1 & 0 \\end{bmatrix} \\\\\n",
    "& \\begin{bmatrix} 0 & -i \\\\ i & 0 \\end{bmatrix} \\\\ \n",
    "& \\begin{bmatrix} 1 & 0 \\\\ 0 & -1 \\end{bmatrix} \\\\\n",
    "\\end{align}\n",
    "  "
   ]
  },
  {
   "cell_type": "markdown",
   "id": "9dd9d778-4e23-46f5-8e90-e54dd8f976fd",
   "metadata": {
    "slideshow": {
     "slide_type": "slide"
    }
   },
   "source": [
    "## The Hilbert Space\n",
    "\n",
    "As we saw before, the vector $$ \\vert \\psi\\rangle = \\cos\\left(\\frac{\\theta}{2}\\right)\\vert 0\\rangle + e^{i\\phi}\\sin\\left(\\frac{\\theta}{2}\\right) \\vert 1\\rangle$$, we can simplify this by writing $\\vert \\psi\\rangle = \\alpha \\vert 0\\rangle + \\beta \\vert 1\\rangle$.\n",
    "\n",
    "What about the case we have a system with two qubits?\n",
    "\n",
    "$$\\vert \\psi\\rangle = \\alpha_1 \\vert 00\\rangle + \\alpha_2 \\vert 01\\rangle + \\alpha_3 \\vert 10\\rangle + \\alpha_4 \\vert 11\\rangle$$\n",
    "\n",
    "and infinite qubits?\n",
    "\n",
    "$$\\vert \\psi\\rangle = \\sum_{i=0}^{2^{N}-1}\\alpha_{i}\\vert i\\rangle$$\n",
    "\n",
    "just remember that $\\alpha_i$ is a complex number, $\\sum_{i}\\vert \\alpha_i \\vert^2 = 1$ and $\\langle i \\vert i \\rangle = 1$ and you are good to go."
   ]
  },
  {
   "cell_type": "markdown",
   "id": "48247f30-b519-43ab-8623-a0c7d6d9bd52",
   "metadata": {
    "slideshow": {
     "slide_type": "subslide"
    }
   },
   "source": [
    "## The Hilbert Space\n",
    "\n",
    "This raises a small problema, if we discribe our vector space as an infinit sum of this smaller therms, as in $\\vert \\psi\\rangle = \\sum_{i=0}^{2^{N}-1}\\alpha_{i}\\vert i\\rangle$, we might ended up outsit of our space, and this is a big problem!!\n",
    "\n",
    "and you ask, how so? (and probably what?)\n",
    "\n",
    "just to show, we can do the same vector space of polynomials:\n",
    "\n",
    "$$ \\vec{P} = \\frac{1}{0!} * (x^0) + \\frac{1}{1!} * (x^1) + \\frac{1}{2!}* (x^2) + \\frac{1}{3!}* (x^3) \\dots$$\n",
    "\n",
    "wait a second, this is the Taylor expansion for $e^x$!!! and it is outside of the polynomial space!!!\n",
    "\n",
    "In order to avoid the same problem with our quantum system, we enforce that the sum of the elements of the vector space converges to an element inside the vector space, i.e. has an inner product that is Cauchy complete. And this is a Hilbert space!!!, The Hilbert space  consists of a set of vectors ψ, ϕ, φ... and a set of scalars such as\n",
    "a, b, c, . . , which exhibit and follow the four properties.\n",
    "\n",
    "Ok, was this information usefull? maybe, probably not. But was cool to know."
   ]
  },
  {
   "cell_type": "markdown",
   "id": "875d6e6c-6cc8-4bb0-83f4-be9ad84d82c5",
   "metadata": {
    "slideshow": {
     "slide_type": "slide"
    }
   },
   "source": [
    "\n",
    "## Computation as a diagram \n",
    "\n",
    "Whether we are using qubits or bits, we need to manipulate them in order to turn the inputs we have into the outputs we need. For the simplest programs with very few bits, it is useful to represent this process in a diagram known as a circuit diagram. These have inputs on the left, outputs on the right, and operations represented by arcane symbols in between. These operations are called 'gates', mostly for historical reasons.\n",
    "\n",
    "Here's an example of what a circuit looks like for standard, bit-based computers. You aren't expected to understand what it does. It should simply give you an idea of what these circuits look like.\n",
    "\n",
    "![gates](https://qiskit.org/textbook/ch-states/images/classical_circuit.png)"
   ]
  },
  {
   "cell_type": "markdown",
   "id": "66e4872d-59a3-4a5a-b3e5-c5b9b8ced7a2",
   "metadata": {
    "slideshow": {
     "slide_type": "subslide"
    }
   },
   "source": [
    "For quantum computers, we use the same basic idea but have different conventions for how to represent inputs, outputs, and the symbols used for operations. Here is the quantum circuit that represents the same process as above."
   ]
  },
  {
   "cell_type": "markdown",
   "id": "902975a2-b24f-4126-bfc1-9b7f426d7793",
   "metadata": {
    "slideshow": {
     "slide_type": "subslide"
    }
   },
   "source": [
    "Quantum circuits are a way to visually depict the sequence of operations that are performed on qubits throughout the course of a computation. You can think of quantum circuits like a recipe, or set of instructions that tells you what to do to each qubit, and when to do it. By placing and performing the operations in a certain way, we can realize different quantum algorithms."
   ]
  },
  {
   "cell_type": "code",
   "execution_count": 6,
   "id": "0850d2d9-37b9-4536-896f-f11b8231021b",
   "metadata": {},
   "outputs": [
    {
     "data": {
      "image/svg+xml": [
       "<?xml version=\"1.0\" encoding=\"UTF-8\"?>\n",
       "<svg xmlns=\"http://www.w3.org/2000/svg\" xmlns:xlink=\"http://www.w3.org/1999/xlink\" width=\"306pt\" height=\"180pt\" viewBox=\"0 0 306 180\" version=\"1.1\">\n",
       "<defs>\n",
       "<g>\n",
       "<symbol overflow=\"visible\" id=\"glyph-5069570-0\">\n",
       "<path style=\"stroke:none;\" d=\"M 0.8125 2.828125 L 0.8125 -11.28125 L 8.8125 -11.28125 L 8.8125 2.828125 Z M 1.71875 1.9375 L 7.921875 1.9375 L 7.921875 -10.390625 L 1.71875 -10.390625 Z M 1.71875 1.9375 \"/>\n",
       "</symbol>\n",
       "<symbol overflow=\"visible\" id=\"glyph-5069570-1\">\n",
       "<path style=\"stroke:none;\" d=\"M 0.671875 -11.671875 L 2.375 -11.671875 L 4.9375 -7.265625 L 7.546875 -11.671875 L 9.234375 -11.671875 L 5.75 -6.1875 L 9.484375 0 L 7.796875 0 L 4.9375 -5.03125 L 1.84375 0 L 0.140625 0 L 4.046875 -6.1875 Z M 0.671875 -11.671875 \"/>\n",
       "</symbol>\n",
       "</g>\n",
       "</defs>\n",
       "<g id=\"surface4\">\n",
       "<path style=\"fill:none;stroke-width:1;stroke-linecap:butt;stroke-linejoin:miter;stroke:rgb(0%,0%,0%);stroke-opacity:1;stroke-miterlimit:10;\" d=\"M 39 34.5 L 39 10.5 L 63 10.5 L 63 34.5 Z M 39 34.5 \"/>\n",
       "<g style=\"fill:rgb(0%,0%,0%);fill-opacity:1;\">\n",
       "  <use xlink:href=\"#glyph-5069570-1\" x=\"46.183594\" y=\"28.332031\"/>\n",
       "</g>\n",
       "<path style=\"fill:none;stroke-width:1;stroke-linecap:butt;stroke-linejoin:miter;stroke:rgb(0%,0%,0%);stroke-opacity:1;stroke-miterlimit:10;\" d=\"M 25.5 22.5 L 39 22.5 \"/>\n",
       "<path style=\"fill:none;stroke-width:1;stroke-linecap:butt;stroke-linejoin:miter;stroke:rgb(0%,0%,0%);stroke-opacity:1;stroke-miterlimit:10;\" d=\"M 63 22.5 L 76.5 22.5 \"/>\n",
       "<path style=\"fill:none;stroke-width:1;stroke-linecap:butt;stroke-linejoin:miter;stroke:rgb(0%,0%,0%);stroke-opacity:1;stroke-miterlimit:10;\" d=\"M 39 79.5 L 39 55.5 L 63 55.5 L 63 79.5 Z M 39 79.5 \"/>\n",
       "<g style=\"fill:rgb(0%,0%,0%);fill-opacity:1;\">\n",
       "  <use xlink:href=\"#glyph-5069570-1\" x=\"46.183594\" y=\"73.332031\"/>\n",
       "</g>\n",
       "<path style=\"fill:none;stroke-width:1;stroke-linecap:butt;stroke-linejoin:miter;stroke:rgb(0%,0%,0%);stroke-opacity:1;stroke-miterlimit:10;\" d=\"M 25.5 67.5 L 39 67.5 \"/>\n",
       "<path style=\"fill:none;stroke-width:1;stroke-linecap:butt;stroke-linejoin:miter;stroke:rgb(0%,0%,0%);stroke-opacity:1;stroke-miterlimit:10;\" d=\"M 63 67.5 L 76.5 67.5 \"/>\n",
       "<path style=\" stroke:none;fill-rule:nonzero;fill:rgb(0%,0%,0%);fill-opacity:1;\" d=\"M 104.398438 22.5 C 104.398438 25.699219 99.601562 25.699219 99.601562 22.5 C 99.601562 19.300781 104.398438 19.300781 104.398438 22.5 \"/>\n",
       "<path style=\"fill:none;stroke-width:1;stroke-linecap:butt;stroke-linejoin:miter;stroke:rgb(0%,0%,0%);stroke-opacity:1;stroke-miterlimit:10;\" d=\"M 110.398438 112.5 C 110.398438 117.140625 106.640625 120.898438 102 120.898438 C 97.359375 120.898438 93.601562 117.140625 93.601562 112.5 C 93.601562 107.859375 97.359375 104.101562 102 104.101562 C 106.640625 104.101562 110.398438 107.859375 110.398438 112.5 \"/>\n",
       "<path style=\"fill:none;stroke-width:1;stroke-linecap:butt;stroke-linejoin:miter;stroke:rgb(0%,0%,0%);stroke-opacity:1;stroke-miterlimit:10;\" d=\"M 93.601562 112.5 L 110.398438 112.5 \"/>\n",
       "<path style=\"fill:none;stroke-width:1;stroke-linecap:butt;stroke-linejoin:miter;stroke:rgb(0%,0%,0%);stroke-opacity:1;stroke-miterlimit:10;\" d=\"M 102 104.101562 L 102 120.898438 \"/>\n",
       "<path style=\"fill:none;stroke-width:1;stroke-linecap:butt;stroke-linejoin:miter;stroke:rgb(0%,0%,0%);stroke-opacity:1;stroke-miterlimit:10;\" d=\"M 102 104.101562 L 102 24.898438 \"/>\n",
       "<path style=\"fill:none;stroke-width:1;stroke-linecap:butt;stroke-linejoin:miter;stroke:rgb(0%,0%,0%);stroke-opacity:1;stroke-miterlimit:10;\" d=\"M 76.5 22.5 L 99.601562 22.5 \"/>\n",
       "<path style=\"fill:none;stroke-width:1;stroke-linecap:butt;stroke-linejoin:miter;stroke:rgb(0%,0%,0%);stroke-opacity:1;stroke-miterlimit:10;\" d=\"M 104.398438 22.5 L 127.5 22.5 \"/>\n",
       "<path style=\"fill:none;stroke-width:1;stroke-linecap:butt;stroke-linejoin:miter;stroke:rgb(0%,0%,0%);stroke-opacity:1;stroke-miterlimit:10;\" d=\"M 25.5 112.5 L 93.601562 112.5 \"/>\n",
       "<path style=\"fill:none;stroke-width:1;stroke-linecap:butt;stroke-linejoin:miter;stroke:rgb(0%,0%,0%);stroke-opacity:1;stroke-miterlimit:10;\" d=\"M 110.398438 112.5 L 127.5 112.5 \"/>\n",
       "<path style=\"fill:none;stroke-width:1;stroke-linecap:butt;stroke-linejoin:miter;stroke:rgb(0%,0%,0%);stroke-opacity:1;stroke-miterlimit:10;\" d=\"M 76.5 67.5 L 127.5 67.5 \"/>\n",
       "<path style=\" stroke:none;fill-rule:nonzero;fill:rgb(0%,0%,0%);fill-opacity:1;\" d=\"M 155.398438 67.5 C 155.398438 70.699219 150.601562 70.699219 150.601562 67.5 C 150.601562 64.300781 155.398438 64.300781 155.398438 67.5 \"/>\n",
       "<path style=\"fill:none;stroke-width:1;stroke-linecap:butt;stroke-linejoin:miter;stroke:rgb(0%,0%,0%);stroke-opacity:1;stroke-miterlimit:10;\" d=\"M 161.398438 112.5 C 161.398438 117.140625 157.640625 120.898438 153 120.898438 C 148.359375 120.898438 144.601562 117.140625 144.601562 112.5 C 144.601562 107.859375 148.359375 104.101562 153 104.101562 C 157.640625 104.101562 161.398438 107.859375 161.398438 112.5 \"/>\n",
       "<path style=\"fill:none;stroke-width:1;stroke-linecap:butt;stroke-linejoin:miter;stroke:rgb(0%,0%,0%);stroke-opacity:1;stroke-miterlimit:10;\" d=\"M 144.601562 112.5 L 161.398438 112.5 \"/>\n",
       "<path style=\"fill:none;stroke-width:1;stroke-linecap:butt;stroke-linejoin:miter;stroke:rgb(0%,0%,0%);stroke-opacity:1;stroke-miterlimit:10;\" d=\"M 153 104.101562 L 153 120.898438 \"/>\n",
       "<path style=\"fill:none;stroke-width:1;stroke-linecap:butt;stroke-linejoin:miter;stroke:rgb(0%,0%,0%);stroke-opacity:1;stroke-miterlimit:10;\" d=\"M 153 104.101562 L 153 69.898438 \"/>\n",
       "<path style=\"fill:none;stroke-width:1;stroke-linecap:butt;stroke-linejoin:miter;stroke:rgb(0%,0%,0%);stroke-opacity:1;stroke-miterlimit:10;\" d=\"M 127.5 67.5 L 150.601562 67.5 \"/>\n",
       "<path style=\"fill:none;stroke-width:1;stroke-linecap:butt;stroke-linejoin:miter;stroke:rgb(0%,0%,0%);stroke-opacity:1;stroke-miterlimit:10;\" d=\"M 155.398438 67.5 L 178.5 67.5 \"/>\n",
       "<path style=\"fill:none;stroke-width:1;stroke-linecap:butt;stroke-linejoin:miter;stroke:rgb(0%,0%,0%);stroke-opacity:1;stroke-miterlimit:10;\" d=\"M 127.5 112.5 L 144.601562 112.5 \"/>\n",
       "<path style=\"fill:none;stroke-width:1;stroke-linecap:butt;stroke-linejoin:miter;stroke:rgb(0%,0%,0%);stroke-opacity:1;stroke-miterlimit:10;\" d=\"M 161.398438 112.5 L 178.5 112.5 \"/>\n",
       "<path style=\" stroke:none;fill-rule:nonzero;fill:rgb(0%,0%,0%);fill-opacity:1;\" d=\"M 206.398438 22.5 C 206.398438 25.699219 201.601562 25.699219 201.601562 22.5 C 201.601562 19.300781 206.398438 19.300781 206.398438 22.5 \"/>\n",
       "<path style=\" stroke:none;fill-rule:nonzero;fill:rgb(0%,0%,0%);fill-opacity:1;\" d=\"M 206.398438 67.5 C 206.398438 70.699219 201.601562 70.699219 201.601562 67.5 C 201.601562 64.300781 206.398438 64.300781 206.398438 67.5 \"/>\n",
       "<path style=\"fill:none;stroke-width:1;stroke-linecap:butt;stroke-linejoin:miter;stroke:rgb(0%,0%,0%);stroke-opacity:1;stroke-miterlimit:10;\" d=\"M 204 65.101562 L 204 24.898438 \"/>\n",
       "<path style=\"fill:none;stroke-width:1;stroke-linecap:butt;stroke-linejoin:miter;stroke:rgb(0%,0%,0%);stroke-opacity:1;stroke-miterlimit:10;\" d=\"M 212.398438 157.5 C 212.398438 162.140625 208.640625 165.898438 204 165.898438 C 199.359375 165.898438 195.601562 162.140625 195.601562 157.5 C 195.601562 152.859375 199.359375 149.101562 204 149.101562 C 208.640625 149.101562 212.398438 152.859375 212.398438 157.5 \"/>\n",
       "<path style=\"fill:none;stroke-width:1;stroke-linecap:butt;stroke-linejoin:miter;stroke:rgb(0%,0%,0%);stroke-opacity:1;stroke-miterlimit:10;\" d=\"M 195.601562 157.5 L 212.398438 157.5 \"/>\n",
       "<path style=\"fill:none;stroke-width:1;stroke-linecap:butt;stroke-linejoin:miter;stroke:rgb(0%,0%,0%);stroke-opacity:1;stroke-miterlimit:10;\" d=\"M 204 149.101562 L 204 165.898438 \"/>\n",
       "<path style=\"fill:none;stroke-width:1;stroke-linecap:butt;stroke-linejoin:miter;stroke:rgb(0%,0%,0%);stroke-opacity:1;stroke-miterlimit:10;\" d=\"M 204 149.101562 L 204 69.898438 \"/>\n",
       "<path style=\"fill:none;stroke-width:1;stroke-linecap:butt;stroke-linejoin:miter;stroke:rgb(0%,0%,0%);stroke-opacity:1;stroke-miterlimit:10;\" d=\"M 127.5 22.5 L 201.601562 22.5 \"/>\n",
       "<path style=\"fill:none;stroke-width:1;stroke-linecap:butt;stroke-linejoin:miter;stroke:rgb(0%,0%,0%);stroke-opacity:1;stroke-miterlimit:10;\" d=\"M 206.398438 22.5 L 229.5 22.5 \"/>\n",
       "<path style=\"fill:none;stroke-width:1;stroke-linecap:butt;stroke-linejoin:miter;stroke:rgb(0%,0%,0%);stroke-opacity:1;stroke-miterlimit:10;\" d=\"M 178.5 67.5 L 201.601562 67.5 \"/>\n",
       "<path style=\"fill:none;stroke-width:1;stroke-linecap:butt;stroke-linejoin:miter;stroke:rgb(0%,0%,0%);stroke-opacity:1;stroke-miterlimit:10;\" d=\"M 206.398438 67.5 L 229.5 67.5 \"/>\n",
       "<path style=\"fill:none;stroke-width:1;stroke-linecap:butt;stroke-linejoin:miter;stroke:rgb(0%,0%,0%);stroke-opacity:1;stroke-miterlimit:10;\" d=\"M 25.5 157.5 L 195.601562 157.5 \"/>\n",
       "<path style=\"fill:none;stroke-width:1;stroke-linecap:butt;stroke-linejoin:miter;stroke:rgb(0%,0%,0%);stroke-opacity:1;stroke-miterlimit:10;\" d=\"M 212.398438 157.5 L 229.5 157.5 \"/>\n",
       "<path style=\"fill:none;stroke-width:1;stroke-linecap:butt;stroke-linejoin:miter;stroke:rgb(0%,0%,0%);stroke-opacity:1;stroke-miterlimit:10;\" d=\"M 178.5 112.5 L 229.5 112.5 \"/>\n",
       "<path style=\"fill:none;stroke-width:1;stroke-linecap:butt;stroke-linejoin:miter;stroke:rgb(0%,0%,0%);stroke-opacity:1;stroke-miterlimit:10;\" d=\"M 243 124.5 L 243 100.5 L 267 100.5 L 267 124.5 Z M 243 124.5 \"/>\n",
       "<path style=\"fill:none;stroke-width:1;stroke-linecap:butt;stroke-linejoin:miter;stroke:rgb(0%,0%,0%);stroke-opacity:1;stroke-miterlimit:10;\" d=\"M 245.398438 118.5 C 245.398438 105.300781 264.601562 105.300781 264.601562 118.5 \"/>\n",
       "<path style=\"fill:none;stroke-width:1;stroke-linecap:butt;stroke-linejoin:miter;stroke:rgb(0%,0%,0%);stroke-opacity:1;stroke-miterlimit:10;\" d=\"M 255 118.5 L 263.398438 107.699219 \"/>\n",
       "<path style=\"fill:none;stroke-width:1;stroke-linecap:butt;stroke-linejoin:miter;stroke:rgb(0%,0%,0%);stroke-opacity:1;stroke-miterlimit:10;\" d=\"M 229.5 112.5 L 243 112.5 \"/>\n",
       "<path style=\"fill:none;stroke-width:1;stroke-linecap:butt;stroke-linejoin:miter;stroke:rgb(0%,0%,0%);stroke-opacity:1;stroke-miterlimit:10;\" d=\"M 267 112.5 L 280.5 112.5 \"/>\n",
       "<path style=\"fill:none;stroke-width:1;stroke-linecap:butt;stroke-linejoin:miter;stroke:rgb(0%,0%,0%);stroke-opacity:1;stroke-miterlimit:10;\" d=\"M 243 169.5 L 243 145.5 L 267 145.5 L 267 169.5 Z M 243 169.5 \"/>\n",
       "<path style=\"fill:none;stroke-width:1;stroke-linecap:butt;stroke-linejoin:miter;stroke:rgb(0%,0%,0%);stroke-opacity:1;stroke-miterlimit:10;\" d=\"M 245.398438 163.5 C 245.398438 150.300781 264.601562 150.300781 264.601562 163.5 \"/>\n",
       "<path style=\"fill:none;stroke-width:1;stroke-linecap:butt;stroke-linejoin:miter;stroke:rgb(0%,0%,0%);stroke-opacity:1;stroke-miterlimit:10;\" d=\"M 255 163.5 L 263.398438 152.699219 \"/>\n",
       "<path style=\"fill:none;stroke-width:1;stroke-linecap:butt;stroke-linejoin:miter;stroke:rgb(0%,0%,0%);stroke-opacity:1;stroke-miterlimit:10;\" d=\"M 229.5 157.5 L 243 157.5 \"/>\n",
       "<path style=\"fill:none;stroke-width:1;stroke-linecap:butt;stroke-linejoin:miter;stroke:rgb(0%,0%,0%);stroke-opacity:1;stroke-miterlimit:10;\" d=\"M 267 157.5 L 280.5 157.5 \"/>\n",
       "<path style=\"fill:none;stroke-width:1;stroke-linecap:butt;stroke-linejoin:miter;stroke:rgb(0%,0%,0%);stroke-opacity:1;stroke-miterlimit:10;\" d=\"M 280.5 22.5 L 229.5 22.5 \"/>\n",
       "<path style=\"fill:none;stroke-width:1;stroke-linecap:butt;stroke-linejoin:miter;stroke:rgb(0%,0%,0%);stroke-opacity:1;stroke-miterlimit:10;\" d=\"M 280.5 67.5 L 229.5 67.5 \"/>\n",
       "<path style=\"fill:none;stroke-width:1;stroke-linecap:butt;stroke-linejoin:miter;stroke:rgb(0%,0%,0%);stroke-opacity:1;stroke-miterlimit:10;\" d=\"M 280.5 112.5 L 280.5 112.5 \"/>\n",
       "<path style=\"fill:none;stroke-width:1;stroke-linecap:butt;stroke-linejoin:miter;stroke:rgb(0%,0%,0%);stroke-opacity:1;stroke-miterlimit:10;\" d=\"M 280.5 157.5 L 280.5 157.5 \"/>\n",
       "</g>\n",
       "</svg>\n"
      ],
      "text/plain": []
     },
     "execution_count": 6,
     "metadata": {},
     "output_type": "execute_result"
    }
   ],
   "source": [
    "circuit = chain(4, put(1 => X), put(2 => X), control(1, 3 => X),\n",
    "    control(2, 3 => X), control((1,2),4=>X), Measure(4, locs=3:4))\n",
    "plot(circuit)"
   ]
  },
  {
   "cell_type": "markdown",
   "id": "06da132c-c4db-415f-8b58-414c5cc00536",
   "metadata": {
    "slideshow": {
     "slide_type": "slide"
    }
   },
   "source": [
    "## Wires and registers\n",
    "A circuit starts with a collection of **wires** that represent a set of qubits. Qubits are ordered from top to bottom, and typically labelled numerically in the same order. We will label starting from 0 to match most quantum programming frameworks. A group of qubits together is called a **quantum register**."
   ]
  },
  {
   "cell_type": "code",
   "execution_count": 9,
   "id": "5b757556-ea25-44bb-b9ab-f9cfa43cedc5",
   "metadata": {},
   "outputs": [
    {
     "data": {
      "image/svg+xml": [
       "<?xml version=\"1.0\" encoding=\"UTF-8\"?>\n",
       "<svg xmlns=\"http://www.w3.org/2000/svg\" xmlns:xlink=\"http://www.w3.org/1999/xlink\" width=\"102pt\" height=\"135pt\" viewBox=\"0 0 102 135\" version=\"1.1\">\n",
       "<defs>\n",
       "<g>\n",
       "<symbol overflow=\"visible\" id=\"glyph-3597070-0\">\n",
       "<path style=\"stroke:none;\" d=\"M 0.8125 2.828125 L 0.8125 -11.28125 L 8.8125 -11.28125 L 8.8125 2.828125 Z M 1.71875 1.9375 L 7.921875 1.9375 L 7.921875 -10.390625 L 1.71875 -10.390625 Z M 1.71875 1.9375 \"/>\n",
       "</symbol>\n",
       "<symbol overflow=\"visible\" id=\"glyph-3597070-1\">\n",
       "<path style=\"stroke:none;\" d=\"M 0.671875 -11.671875 L 2.375 -11.671875 L 4.9375 -7.265625 L 7.546875 -11.671875 L 9.234375 -11.671875 L 5.75 -6.1875 L 9.484375 0 L 7.796875 0 L 4.9375 -5.03125 L 1.84375 0 L 0.140625 0 L 4.046875 -6.1875 Z M 0.671875 -11.671875 \"/>\n",
       "</symbol>\n",
       "</g>\n",
       "</defs>\n",
       "<g id=\"surface23\">\n",
       "<path style=\"fill:none;stroke-width:1;stroke-linecap:butt;stroke-linejoin:miter;stroke:rgb(0%,0%,0%);stroke-opacity:1;stroke-miterlimit:10;\" d=\"M 39 34.5 L 39 10.5 L 63 10.5 L 63 34.5 Z M 39 34.5 \"/>\n",
       "<g style=\"fill:rgb(0%,0%,0%);fill-opacity:1;\">\n",
       "  <use xlink:href=\"#glyph-3597070-1\" x=\"46.183594\" y=\"28.332031\"/>\n",
       "</g>\n",
       "<path style=\"fill:none;stroke-width:1;stroke-linecap:butt;stroke-linejoin:miter;stroke:rgb(0%,0%,0%);stroke-opacity:1;stroke-miterlimit:10;\" d=\"M 25.5 22.5 L 39 22.5 \"/>\n",
       "<path style=\"fill:none;stroke-width:1;stroke-linecap:butt;stroke-linejoin:miter;stroke:rgb(0%,0%,0%);stroke-opacity:1;stroke-miterlimit:10;\" d=\"M 63 22.5 L 76.5 22.5 \"/>\n",
       "<path style=\"fill:none;stroke-width:1;stroke-linecap:butt;stroke-linejoin:miter;stroke:rgb(0%,0%,0%);stroke-opacity:1;stroke-miterlimit:10;\" d=\"M 76.5 22.5 L 76.5 22.5 \"/>\n",
       "<path style=\"fill:none;stroke-width:1;stroke-linecap:butt;stroke-linejoin:miter;stroke:rgb(0%,0%,0%);stroke-opacity:1;stroke-miterlimit:10;\" d=\"M 76.5 67.5 L 25.5 67.5 \"/>\n",
       "<path style=\"fill:none;stroke-width:1;stroke-linecap:butt;stroke-linejoin:miter;stroke:rgb(0%,0%,0%);stroke-opacity:1;stroke-miterlimit:10;\" d=\"M 76.5 112.5 L 25.5 112.5 \"/>\n",
       "</g>\n",
       "</svg>\n"
      ],
      "text/plain": []
     },
     "execution_count": 9,
     "metadata": {},
     "output_type": "execute_result"
    }
   ],
   "source": [
    "circuit = chain(3, put(1 => X))\n",
    "plot(circuit)"
   ]
  },
  {
   "cell_type": "markdown",
   "id": "64f4aba9-4823-4e6a-a41a-eb6668e4bfd4",
   "metadata": {
    "slideshow": {
     "slide_type": "slide"
    }
   },
   "source": [
    "## Your first quantum circuit\n",
    "\n",
    "In a circuit, we typically need to do three jobs: First, encode the input, then do some actual computation, and finally extract an output. For your first quantum circuit, we'll focus on the last of these jobs. We start by creating a circuit with eight qubits and eight outputs."
   ]
  },
  {
   "cell_type": "markdown",
   "id": "fb5e0a91-beba-467a-a8fd-4d43af3d706e",
   "metadata": {
    "slideshow": {
     "slide_type": "slide"
    }
   },
   "source": [
    "The extraction of outputs in a quantum circuit is done using an operation called $Measure()$. Each measurement tells a specific qubit to give an output to a specific output bit. The command $Measure()$ adds a measurement to each qubit in the circuit qc_output."
   ]
  },
  {
   "cell_type": "code",
   "execution_count": 79,
   "id": "865c61cd-9981-45a1-9136-877836a34e7e",
   "metadata": {},
   "outputs": [
    {
     "data": {
      "image/svg+xml": [
       "<?xml version=\"1.0\" encoding=\"UTF-8\"?>\n",
       "<svg xmlns=\"http://www.w3.org/2000/svg\" xmlns:xlink=\"http://www.w3.org/1999/xlink\" width=\"102pt\" height=\"135pt\" viewBox=\"0 0 102 135\" version=\"1.1\">\n",
       "<g id=\"surface32\">\n",
       "<path style=\"fill:none;stroke-width:1;stroke-linecap:butt;stroke-linejoin:miter;stroke:rgb(0%,0%,0%);stroke-opacity:1;stroke-miterlimit:10;\" d=\"M 39 34.5 L 39 10.5 L 63 10.5 L 63 34.5 Z M 39 34.5 \"/>\n",
       "<path style=\"fill:none;stroke-width:1;stroke-linecap:butt;stroke-linejoin:miter;stroke:rgb(0%,0%,0%);stroke-opacity:1;stroke-miterlimit:10;\" d=\"M 41.398438 28.5 C 41.398438 15.300781 60.601562 15.300781 60.601562 28.5 \"/>\n",
       "<path style=\"fill:none;stroke-width:1;stroke-linecap:butt;stroke-linejoin:miter;stroke:rgb(0%,0%,0%);stroke-opacity:1;stroke-miterlimit:10;\" d=\"M 51 28.5 L 59.398438 17.699219 \"/>\n",
       "<path style=\"fill:none;stroke-width:1;stroke-linecap:butt;stroke-linejoin:miter;stroke:rgb(0%,0%,0%);stroke-opacity:1;stroke-miterlimit:10;\" d=\"M 25.5 22.5 L 39 22.5 \"/>\n",
       "<path style=\"fill:none;stroke-width:1;stroke-linecap:butt;stroke-linejoin:miter;stroke:rgb(0%,0%,0%);stroke-opacity:1;stroke-miterlimit:10;\" d=\"M 63 22.5 L 76.5 22.5 \"/>\n",
       "<path style=\"fill:none;stroke-width:1;stroke-linecap:butt;stroke-linejoin:miter;stroke:rgb(0%,0%,0%);stroke-opacity:1;stroke-miterlimit:10;\" d=\"M 39 79.5 L 39 55.5 L 63 55.5 L 63 79.5 Z M 39 79.5 \"/>\n",
       "<path style=\"fill:none;stroke-width:1;stroke-linecap:butt;stroke-linejoin:miter;stroke:rgb(0%,0%,0%);stroke-opacity:1;stroke-miterlimit:10;\" d=\"M 41.398438 73.5 C 41.398438 60.300781 60.601562 60.300781 60.601562 73.5 \"/>\n",
       "<path style=\"fill:none;stroke-width:1;stroke-linecap:butt;stroke-linejoin:miter;stroke:rgb(0%,0%,0%);stroke-opacity:1;stroke-miterlimit:10;\" d=\"M 51 73.5 L 59.398438 62.699219 \"/>\n",
       "<path style=\"fill:none;stroke-width:1;stroke-linecap:butt;stroke-linejoin:miter;stroke:rgb(0%,0%,0%);stroke-opacity:1;stroke-miterlimit:10;\" d=\"M 25.5 67.5 L 39 67.5 \"/>\n",
       "<path style=\"fill:none;stroke-width:1;stroke-linecap:butt;stroke-linejoin:miter;stroke:rgb(0%,0%,0%);stroke-opacity:1;stroke-miterlimit:10;\" d=\"M 63 67.5 L 76.5 67.5 \"/>\n",
       "<path style=\"fill:none;stroke-width:1;stroke-linecap:butt;stroke-linejoin:miter;stroke:rgb(0%,0%,0%);stroke-opacity:1;stroke-miterlimit:10;\" d=\"M 39 124.5 L 39 100.5 L 63 100.5 L 63 124.5 Z M 39 124.5 \"/>\n",
       "<path style=\"fill:none;stroke-width:1;stroke-linecap:butt;stroke-linejoin:miter;stroke:rgb(0%,0%,0%);stroke-opacity:1;stroke-miterlimit:10;\" d=\"M 41.398438 118.5 C 41.398438 105.300781 60.601562 105.300781 60.601562 118.5 \"/>\n",
       "<path style=\"fill:none;stroke-width:1;stroke-linecap:butt;stroke-linejoin:miter;stroke:rgb(0%,0%,0%);stroke-opacity:1;stroke-miterlimit:10;\" d=\"M 51 118.5 L 59.398438 107.699219 \"/>\n",
       "<path style=\"fill:none;stroke-width:1;stroke-linecap:butt;stroke-linejoin:miter;stroke:rgb(0%,0%,0%);stroke-opacity:1;stroke-miterlimit:10;\" d=\"M 25.5 112.5 L 39 112.5 \"/>\n",
       "<path style=\"fill:none;stroke-width:1;stroke-linecap:butt;stroke-linejoin:miter;stroke:rgb(0%,0%,0%);stroke-opacity:1;stroke-miterlimit:10;\" d=\"M 63 112.5 L 76.5 112.5 \"/>\n",
       "<path style=\"fill:none;stroke-width:1;stroke-linecap:butt;stroke-linejoin:miter;stroke:rgb(0%,0%,0%);stroke-opacity:1;stroke-miterlimit:10;\" d=\"M 76.5 22.5 L 76.5 22.5 \"/>\n",
       "<path style=\"fill:none;stroke-width:1;stroke-linecap:butt;stroke-linejoin:miter;stroke:rgb(0%,0%,0%);stroke-opacity:1;stroke-miterlimit:10;\" d=\"M 76.5 67.5 L 76.5 67.5 \"/>\n",
       "<path style=\"fill:none;stroke-width:1;stroke-linecap:butt;stroke-linejoin:miter;stroke:rgb(0%,0%,0%);stroke-opacity:1;stroke-miterlimit:10;\" d=\"M 76.5 112.5 L 76.5 112.5 \"/>\n",
       "</g>\n",
       "</svg>\n"
      ],
      "text/plain": []
     },
     "execution_count": 79,
     "metadata": {},
     "output_type": "execute_result"
    }
   ],
   "source": [
    "qc_output = chain(3, Measure(3))\n",
    "plot(qc_output)"
   ]
  },
  {
   "cell_type": "markdown",
   "id": "470a9cb8-9bb5-4754-b2fc-8995faf6e740",
   "metadata": {
    "slideshow": {
     "slide_type": "slide"
    }
   },
   "source": [
    "We can also specify which qubits we want to measure"
   ]
  },
  {
   "cell_type": "code",
   "execution_count": 80,
   "id": "657aaea2-59a7-45e9-b455-44028441deb8",
   "metadata": {},
   "outputs": [
    {
     "data": {
      "image/svg+xml": [
       "<?xml version=\"1.0\" encoding=\"UTF-8\"?>\n",
       "<svg xmlns=\"http://www.w3.org/2000/svg\" xmlns:xlink=\"http://www.w3.org/1999/xlink\" width=\"102pt\" height=\"360pt\" viewBox=\"0 0 102 360\" version=\"1.1\">\n",
       "<g id=\"surface38\">\n",
       "<path style=\"fill:none;stroke-width:1;stroke-linecap:butt;stroke-linejoin:miter;stroke:rgb(0%,0%,0%);stroke-opacity:1;stroke-miterlimit:10;\" d=\"M 39 124.5 L 39 100.5 L 63 100.5 L 63 124.5 Z M 39 124.5 \"/>\n",
       "<path style=\"fill:none;stroke-width:1;stroke-linecap:butt;stroke-linejoin:miter;stroke:rgb(0%,0%,0%);stroke-opacity:1;stroke-miterlimit:10;\" d=\"M 41.398438 118.5 C 41.398438 105.300781 60.601562 105.300781 60.601562 118.5 \"/>\n",
       "<path style=\"fill:none;stroke-width:1;stroke-linecap:butt;stroke-linejoin:miter;stroke:rgb(0%,0%,0%);stroke-opacity:1;stroke-miterlimit:10;\" d=\"M 51 118.5 L 59.398438 107.699219 \"/>\n",
       "<path style=\"fill:none;stroke-width:1;stroke-linecap:butt;stroke-linejoin:miter;stroke:rgb(0%,0%,0%);stroke-opacity:1;stroke-miterlimit:10;\" d=\"M 25.5 112.5 L 39 112.5 \"/>\n",
       "<path style=\"fill:none;stroke-width:1;stroke-linecap:butt;stroke-linejoin:miter;stroke:rgb(0%,0%,0%);stroke-opacity:1;stroke-miterlimit:10;\" d=\"M 63 112.5 L 76.5 112.5 \"/>\n",
       "<path style=\"fill:none;stroke-width:1;stroke-linecap:butt;stroke-linejoin:miter;stroke:rgb(0%,0%,0%);stroke-opacity:1;stroke-miterlimit:10;\" d=\"M 39 169.5 L 39 145.5 L 63 145.5 L 63 169.5 Z M 39 169.5 \"/>\n",
       "<path style=\"fill:none;stroke-width:1;stroke-linecap:butt;stroke-linejoin:miter;stroke:rgb(0%,0%,0%);stroke-opacity:1;stroke-miterlimit:10;\" d=\"M 41.398438 163.5 C 41.398438 150.300781 60.601562 150.300781 60.601562 163.5 \"/>\n",
       "<path style=\"fill:none;stroke-width:1;stroke-linecap:butt;stroke-linejoin:miter;stroke:rgb(0%,0%,0%);stroke-opacity:1;stroke-miterlimit:10;\" d=\"M 51 163.5 L 59.398438 152.699219 \"/>\n",
       "<path style=\"fill:none;stroke-width:1;stroke-linecap:butt;stroke-linejoin:miter;stroke:rgb(0%,0%,0%);stroke-opacity:1;stroke-miterlimit:10;\" d=\"M 25.5 157.5 L 39 157.5 \"/>\n",
       "<path style=\"fill:none;stroke-width:1;stroke-linecap:butt;stroke-linejoin:miter;stroke:rgb(0%,0%,0%);stroke-opacity:1;stroke-miterlimit:10;\" d=\"M 63 157.5 L 76.5 157.5 \"/>\n",
       "<path style=\"fill:none;stroke-width:1;stroke-linecap:butt;stroke-linejoin:miter;stroke:rgb(0%,0%,0%);stroke-opacity:1;stroke-miterlimit:10;\" d=\"M 39 214.5 L 39 190.5 L 63 190.5 L 63 214.5 Z M 39 214.5 \"/>\n",
       "<path style=\"fill:none;stroke-width:1;stroke-linecap:butt;stroke-linejoin:miter;stroke:rgb(0%,0%,0%);stroke-opacity:1;stroke-miterlimit:10;\" d=\"M 41.398438 208.5 C 41.398438 195.300781 60.601562 195.300781 60.601562 208.5 \"/>\n",
       "<path style=\"fill:none;stroke-width:1;stroke-linecap:butt;stroke-linejoin:miter;stroke:rgb(0%,0%,0%);stroke-opacity:1;stroke-miterlimit:10;\" d=\"M 51 208.5 L 59.398438 197.699219 \"/>\n",
       "<path style=\"fill:none;stroke-width:1;stroke-linecap:butt;stroke-linejoin:miter;stroke:rgb(0%,0%,0%);stroke-opacity:1;stroke-miterlimit:10;\" d=\"M 25.5 202.5 L 39 202.5 \"/>\n",
       "<path style=\"fill:none;stroke-width:1;stroke-linecap:butt;stroke-linejoin:miter;stroke:rgb(0%,0%,0%);stroke-opacity:1;stroke-miterlimit:10;\" d=\"M 63 202.5 L 76.5 202.5 \"/>\n",
       "<path style=\"fill:none;stroke-width:1;stroke-linecap:butt;stroke-linejoin:miter;stroke:rgb(0%,0%,0%);stroke-opacity:1;stroke-miterlimit:10;\" d=\"M 39 259.5 L 39 235.5 L 63 235.5 L 63 259.5 Z M 39 259.5 \"/>\n",
       "<path style=\"fill:none;stroke-width:1;stroke-linecap:butt;stroke-linejoin:miter;stroke:rgb(0%,0%,0%);stroke-opacity:1;stroke-miterlimit:10;\" d=\"M 41.398438 253.5 C 41.398438 240.300781 60.601562 240.300781 60.601562 253.5 \"/>\n",
       "<path style=\"fill:none;stroke-width:1;stroke-linecap:butt;stroke-linejoin:miter;stroke:rgb(0%,0%,0%);stroke-opacity:1;stroke-miterlimit:10;\" d=\"M 51 253.5 L 59.398438 242.699219 \"/>\n",
       "<path style=\"fill:none;stroke-width:1;stroke-linecap:butt;stroke-linejoin:miter;stroke:rgb(0%,0%,0%);stroke-opacity:1;stroke-miterlimit:10;\" d=\"M 25.5 247.5 L 39 247.5 \"/>\n",
       "<path style=\"fill:none;stroke-width:1;stroke-linecap:butt;stroke-linejoin:miter;stroke:rgb(0%,0%,0%);stroke-opacity:1;stroke-miterlimit:10;\" d=\"M 63 247.5 L 76.5 247.5 \"/>\n",
       "<path style=\"fill:none;stroke-width:1;stroke-linecap:butt;stroke-linejoin:miter;stroke:rgb(0%,0%,0%);stroke-opacity:1;stroke-miterlimit:10;\" d=\"M 76.5 22.5 L 25.5 22.5 \"/>\n",
       "<path style=\"fill:none;stroke-width:1;stroke-linecap:butt;stroke-linejoin:miter;stroke:rgb(0%,0%,0%);stroke-opacity:1;stroke-miterlimit:10;\" d=\"M 76.5 67.5 L 25.5 67.5 \"/>\n",
       "<path style=\"fill:none;stroke-width:1;stroke-linecap:butt;stroke-linejoin:miter;stroke:rgb(0%,0%,0%);stroke-opacity:1;stroke-miterlimit:10;\" d=\"M 76.5 112.5 L 76.5 112.5 \"/>\n",
       "<path style=\"fill:none;stroke-width:1;stroke-linecap:butt;stroke-linejoin:miter;stroke:rgb(0%,0%,0%);stroke-opacity:1;stroke-miterlimit:10;\" d=\"M 76.5 157.5 L 76.5 157.5 \"/>\n",
       "<path style=\"fill:none;stroke-width:1;stroke-linecap:butt;stroke-linejoin:miter;stroke:rgb(0%,0%,0%);stroke-opacity:1;stroke-miterlimit:10;\" d=\"M 76.5 202.5 L 76.5 202.5 \"/>\n",
       "<path style=\"fill:none;stroke-width:1;stroke-linecap:butt;stroke-linejoin:miter;stroke:rgb(0%,0%,0%);stroke-opacity:1;stroke-miterlimit:10;\" d=\"M 76.5 247.5 L 76.5 247.5 \"/>\n",
       "<path style=\"fill:none;stroke-width:1;stroke-linecap:butt;stroke-linejoin:miter;stroke:rgb(0%,0%,0%);stroke-opacity:1;stroke-miterlimit:10;\" d=\"M 76.5 292.5 L 25.5 292.5 \"/>\n",
       "<path style=\"fill:none;stroke-width:1;stroke-linecap:butt;stroke-linejoin:miter;stroke:rgb(0%,0%,0%);stroke-opacity:1;stroke-miterlimit:10;\" d=\"M 76.5 337.5 L 25.5 337.5 \"/>\n",
       "</g>\n",
       "</svg>\n"
      ],
      "text/plain": []
     },
     "execution_count": 80,
     "metadata": {},
     "output_type": "execute_result"
    }
   ],
   "source": [
    "plot(chain(8, Measure(8, locs=3:6)))"
   ]
  },
  {
   "cell_type": "markdown",
   "id": "b0e7039a-6ab9-4f8b-bcea-8217f05a3133",
   "metadata": {
    "slideshow": {
     "slide_type": "slide"
    }
   },
   "source": [
    "Qubits are always initialized to give the output 0. Since we don't do anything to our qubits in the circuit above, this is exactly the result we'll get when we measure them. We can see this by running the circuit many times and plotting the results in a histogram. We will find that the result is always 00000000: a 0 from each qubit."
   ]
  },
  {
   "cell_type": "code",
   "execution_count": 81,
   "id": "ca0f6f76-67bd-4c64-94f6-f88d0b74f4b4",
   "metadata": {},
   "outputs": [
    {
     "data": {
      "text/plain": [
       "ArrayReg{2, ComplexF64, Array...}\n",
       "    active qubits: 3/3\n",
       "    nlevel: 2"
      ]
     },
     "execution_count": 81,
     "metadata": {},
     "output_type": "execute_result"
    }
   ],
   "source": [
    "q1 = ArrayReg(bit\"000\")"
   ]
  },
  {
   "cell_type": "markdown",
   "id": "737c6196-d1da-4fd6-907e-ff28c131729c",
   "metadata": {
    "slideshow": {
     "slide_type": "slide"
    }
   },
   "source": [
    "We can check some properties, like the state of our qubit"
   ]
  },
  {
   "cell_type": "code",
   "execution_count": 82,
   "id": "3d400855-33f7-4a31-923b-64213d5206c5",
   "metadata": {},
   "outputs": [
    {
     "data": {
      "text/plain": [
       "8×1 Matrix{ComplexF64}:\n",
       " 1.0 + 0.0im\n",
       " 0.0 + 0.0im\n",
       " 0.0 + 0.0im\n",
       " 0.0 + 0.0im\n",
       " 0.0 + 0.0im\n",
       " 0.0 + 0.0im\n",
       " 0.0 + 0.0im\n",
       " 0.0 + 0.0im"
      ]
     },
     "execution_count": 82,
     "metadata": {},
     "output_type": "execute_result"
    }
   ],
   "source": [
    "state(q1)"
   ]
  },
  {
   "cell_type": "code",
   "execution_count": 84,
   "id": "eac67960-253d-4d0b-a963-03a0eeaae407",
   "metadata": {},
   "outputs": [
    {
     "data": {
      "text/plain": [
       "ArrayReg{2, ComplexF64, Array...}\n",
       "    active qubits: 3/3\n",
       "    nlevel: 2"
      ]
     },
     "execution_count": 84,
     "metadata": {},
     "output_type": "execute_result"
    }
   ],
   "source": [
    "zero_state(3)"
   ]
  },
  {
   "cell_type": "markdown",
   "id": "3b33ff9e-c517-4f37-acc7-30ff3650356c",
   "metadata": {
    "slideshow": {
     "slide_type": "slide"
    }
   },
   "source": [
    "and we can measure the qubits a number of times to get the average output:"
   ]
  },
  {
   "cell_type": "code",
   "execution_count": 85,
   "id": "719ab055-62ee-4339-a09e-a22285c7de11",
   "metadata": {},
   "outputs": [
    {
     "data": {
      "text/plain": [
       "1024-element Vector{DitStr{2, 3, Int64}}:\n",
       " 000 ₍₂₎\n",
       " 000 ₍₂₎\n",
       " 000 ₍₂₎\n",
       " 000 ₍₂₎\n",
       " 000 ₍₂₎\n",
       " 000 ₍₂₎\n",
       " 000 ₍₂₎\n",
       " 000 ₍₂₎\n",
       " 000 ₍₂₎\n",
       " 000 ₍₂₎\n",
       " 000 ₍₂₎\n",
       " 000 ₍₂₎\n",
       " 000 ₍₂₎\n",
       "       ⋮\n",
       " 000 ₍₂₎\n",
       " 000 ₍₂₎\n",
       " 000 ₍₂₎\n",
       " 000 ₍₂₎\n",
       " 000 ₍₂₎\n",
       " 000 ₍₂₎\n",
       " 000 ₍₂₎\n",
       " 000 ₍₂₎\n",
       " 000 ₍₂₎\n",
       " 000 ₍₂₎\n",
       " 000 ₍₂₎\n",
       " 000 ₍₂₎"
      ]
     },
     "execution_count": 85,
     "metadata": {},
     "output_type": "execute_result"
    }
   ],
   "source": [
    "a = (q1 |> qc_output -> measure(qc_output, nshots=1024))"
   ]
  },
  {
   "cell_type": "markdown",
   "id": "846cbf2f-b508-4f14-924b-fd297c5780a2",
   "metadata": {
    "slideshow": {
     "slide_type": "slide"
    }
   },
   "source": [
    "is more convinient to express such measures as histograms, so..."
   ]
  },
  {
   "cell_type": "code",
   "execution_count": 101,
   "id": "7a4ecfce-703d-4a98-8303-a87bcde79c55",
   "metadata": {},
   "outputs": [
    {
     "data": {
      "text/plain": [
       "plotmeasures (generic function with 1 method)"
      ]
     },
     "execution_count": 101,
     "metadata": {},
     "output_type": "execute_result"
    }
   ],
   "source": [
    "function plotmeasures(x::Array{BitStr{n,Int}, 1}) where n\n",
    "    hist = fit(Histogram, Int.(x), 0:2^n)\n",
    "    x = 0\n",
    "    if (n<=3)\n",
    "        s=8\n",
    "    elseif (n>3 && n<=6)\n",
    "        s=5\n",
    "    elseif (n>6 && n<=10)\n",
    "        s=3.2\n",
    "    elseif (n > 10 && n <=15)\n",
    "        s=2\n",
    "    elseif (n>15)\n",
    "        s=1\n",
    "    end\n",
    "    bar(hist.edges[1] .- 0.5, hist.weights, legend=:none, size=(500*(2^n)/s, 400),\n",
    "        ylims=(0:maximum(hist.weights),), xlims=(0:2^n,), grid=:false,\n",
    "        ticks=false, border=:none, color=:lightblue, lc=:lightblue)\n",
    "    scatter!(0:2^n-1, ones(2^n, 1), markersize=0,\n",
    "        series_annotation=\"|\" .* string.(hist.edges[1]; base=2, pad=n) .* \"⟩\")\n",
    "    scatter!(0:2^n-1, zeros(2^n, 1) .+ maximum(hist.weights), markersize=0,\n",
    "        series_annotation=string.(hist.weights))\n",
    "end"
   ]
  },
  {
   "cell_type": "code",
   "execution_count": 102,
   "id": "b00d4af5-3a7e-4f99-bf31-0dad07a9671e",
   "metadata": {
    "slideshow": {
     "slide_type": "subslide"
    }
   },
   "outputs": [
    {
     "data": {
      "image/svg+xml": [
       "<?xml version=\"1.0\" encoding=\"utf-8\"?>\n",
       "<svg xmlns=\"http://www.w3.org/2000/svg\" xmlns:xlink=\"http://www.w3.org/1999/xlink\" width=\"250\" height=\"400\" viewBox=\"0 0 1000 1600\">\n",
       "<defs>\n",
       "  <clipPath id=\"clip630\">\n",
       "    <rect x=\"0\" y=\"0\" width=\"1000\" height=\"1600\"/>\n",
       "  </clipPath>\n",
       "</defs>\n",
       "<path clip-path=\"url(#clip630)\" d=\"M0 1600 L1000 1600 L1000 0 L0 0  Z\" fill=\"#ffffff\" fill-rule=\"evenodd\" fill-opacity=\"1\"/>\n",
       "<defs>\n",
       "  <clipPath id=\"clip631\">\n",
       "    <rect x=\"320\" y=\"160\" width=\"1000\" height=\"1121\"/>\n",
       "  </clipPath>\n",
       "</defs>\n",
       "<path clip-path=\"url(#clip630)\" d=\"M47.2441 1552.76 L952.756 1552.76 L952.756 47.2441 L47.2441 47.2441  Z\" fill=\"#ffffff\" fill-rule=\"evenodd\" fill-opacity=\"1\"/>\n",
       "<defs>\n",
       "  <clipPath id=\"clip632\">\n",
       "    <rect x=\"47\" y=\"47\" width=\"907\" height=\"1507\"/>\n",
       "  </clipPath>\n",
       "</defs>\n",
       "<path clip-path=\"url(#clip632)\" d=\"M97.0489 1510.15 L97.0489 1510.15 L266.712 1510.15 L266.712 1510.15 L97.0489 1510.15 L97.0489 1510.15  Z\" fill=\"#add8e6\" fill-rule=\"evenodd\" fill-opacity=\"1\"/>\n",
       "<polyline clip-path=\"url(#clip632)\" style=\"stroke:#add8e6; stroke-linecap:round; stroke-linejoin:round; stroke-width:4; stroke-opacity:1; fill:none\" points=\"97.0489,1510.15 97.0489,1510.15 266.712,1510.15 97.0489,1510.15 \"/>\n",
       "<path clip-path=\"url(#clip632)\" d=\"M309.128 89.8529 L309.128 1510.15 L478.792 1510.15 L478.792 89.8529 L309.128 89.8529 L309.128 89.8529  Z\" fill=\"#add8e6\" fill-rule=\"evenodd\" fill-opacity=\"1\"/>\n",
       "<polyline clip-path=\"url(#clip632)\" style=\"stroke:#add8e6; stroke-linecap:round; stroke-linejoin:round; stroke-width:4; stroke-opacity:1; fill:none\" points=\"309.128,89.8529 309.128,1510.15 478.792,1510.15 478.792,89.8529 309.128,89.8529 \"/>\n",
       "<path clip-path=\"url(#clip632)\" d=\"M521.208 1510.15 L521.208 1510.15 L690.872 1510.15 L690.872 1510.15 L521.208 1510.15 L521.208 1510.15  Z\" fill=\"#add8e6\" fill-rule=\"evenodd\" fill-opacity=\"1\"/>\n",
       "<polyline clip-path=\"url(#clip632)\" style=\"stroke:#add8e6; stroke-linecap:round; stroke-linejoin:round; stroke-width:4; stroke-opacity:1; fill:none\" points=\"521.208,1510.15 521.208,1510.15 690.872,1510.15 521.208,1510.15 \"/>\n",
       "<path clip-path=\"url(#clip632)\" d=\"M733.288 1510.15 L733.288 1510.15 L902.951 1510.15 L902.951 1510.15 L733.288 1510.15 L733.288 1510.15  Z\" fill=\"#add8e6\" fill-rule=\"evenodd\" fill-opacity=\"1\"/>\n",
       "<polyline clip-path=\"url(#clip632)\" style=\"stroke:#add8e6; stroke-linecap:round; stroke-linejoin:round; stroke-width:4; stroke-opacity:1; fill:none\" points=\"733.288,1510.15 733.288,1510.15 902.951,1510.15 733.288,1510.15 \"/>\n",
       "<circle clip-path=\"url(#clip632)\" style=\"fill:#add8e6; stroke:none; fill-opacity:0\" cx=\"75.8409\" cy=\"1510.15\" r=\"2\"/>\n",
       "<circle clip-path=\"url(#clip632)\" style=\"fill:#add8e6; stroke:none; fill-opacity:0\" cx=\"287.92\" cy=\"89.8529\" r=\"2\"/>\n",
       "<circle clip-path=\"url(#clip632)\" style=\"fill:#add8e6; stroke:none; fill-opacity:0\" cx=\"500\" cy=\"1510.15\" r=\"2\"/>\n",
       "<circle clip-path=\"url(#clip632)\" style=\"fill:#add8e6; stroke:none; fill-opacity:0\" cx=\"712.08\" cy=\"1510.15\" r=\"2\"/>\n",
       "<circle clip-path=\"url(#clip632)\" style=\"fill:#add8e6; stroke:none; fill-opacity:0\" cx=\"924.159\" cy=\"1510.15\" r=\"2\"/>\n",
       "<circle clip-path=\"url(#clip632)\" style=\"fill:#e26f46; stroke:none; fill-opacity:1\" cx=\"181.881\" cy=\"1508.76\" r=\"2\"/>\n",
       "<circle clip-path=\"url(#clip632)\" style=\"fill:#e26f46; stroke:none; fill-opacity:1\" cx=\"393.96\" cy=\"1508.76\" r=\"2\"/>\n",
       "<circle clip-path=\"url(#clip632)\" style=\"fill:#e26f46; stroke:none; fill-opacity:1\" cx=\"606.04\" cy=\"1508.76\" r=\"2\"/>\n",
       "<circle clip-path=\"url(#clip632)\" style=\"fill:#e26f46; stroke:none; fill-opacity:1\" cx=\"818.119\" cy=\"1508.76\" r=\"2\"/>\n",
       "<path clip-path=\"url(#clip630)\" d=\"M114.798 1475.6 L114.798 1558.57 L107.911 1558.57 L107.911 1475.6 L114.798 1475.6 Z\" fill=\"#000000\" fill-rule=\"evenodd\" fill-opacity=\"1\" /><path clip-path=\"url(#clip630)\" d=\"M151.701 1483.91 Q145.382 1483.91 142.182 1490.15 Q139.022 1496.34 139.022 1508.82 Q139.022 1521.26 142.182 1527.5 Q145.382 1533.69 151.701 1533.69 Q158.061 1533.69 161.221 1527.5 Q164.421 1521.26 164.421 1508.82 Q164.421 1496.34 161.221 1490.15 Q158.061 1483.91 151.701 1483.91 M151.701 1477.43 Q161.869 1477.43 167.216 1485.49 Q172.604 1493.51 172.604 1508.82 Q172.604 1524.09 167.216 1532.15 Q161.869 1540.17 151.701 1540.17 Q141.534 1540.17 136.146 1532.15 Q130.799 1524.09 130.799 1508.82 Q130.799 1493.51 136.146 1485.49 Q141.534 1477.43 151.701 1477.43 Z\" fill=\"#000000\" fill-rule=\"evenodd\" fill-opacity=\"1\" /><path clip-path=\"url(#clip630)\" d=\"M204.485 1483.91 Q198.165 1483.91 194.965 1490.15 Q191.805 1496.34 191.805 1508.82 Q191.805 1521.26 194.965 1527.5 Q198.165 1533.69 204.485 1533.69 Q210.845 1533.69 214.004 1527.5 Q217.205 1521.26 217.205 1508.82 Q217.205 1496.34 214.004 1490.15 Q210.845 1483.91 204.485 1483.91 M204.485 1477.43 Q214.652 1477.43 220 1485.49 Q225.387 1493.51 225.387 1508.82 Q225.387 1524.09 220 1532.15 Q214.652 1540.17 204.485 1540.17 Q194.317 1540.17 188.929 1532.15 Q183.582 1524.09 183.582 1508.82 Q183.582 1493.51 188.929 1485.49 Q194.317 1477.43 204.485 1477.43 Z\" fill=\"#000000\" fill-rule=\"evenodd\" fill-opacity=\"1\" /><path clip-path=\"url(#clip630)\" d=\"M255.85 1512.99 L244.427 1549.94 L237.54 1549.94 L248.964 1512.99 L237.54 1476.05 L244.427 1476.05 L255.85 1512.99 Z\" fill=\"#000000\" fill-rule=\"evenodd\" fill-opacity=\"1\" /><path clip-path=\"url(#clip630)\" d=\"M326.877 1475.6 L326.877 1558.57 L319.991 1558.57 L319.991 1475.6 L326.877 1475.6 Z\" fill=\"#000000\" fill-rule=\"evenodd\" fill-opacity=\"1\" /><path clip-path=\"url(#clip630)\" d=\"M363.781 1483.91 Q357.462 1483.91 354.261 1490.15 Q351.102 1496.34 351.102 1508.82 Q351.102 1521.26 354.261 1527.5 Q357.462 1533.69 363.781 1533.69 Q370.141 1533.69 373.301 1527.5 Q376.501 1521.26 376.501 1508.82 Q376.501 1496.34 373.301 1490.15 Q370.141 1483.91 363.781 1483.91 M363.781 1477.43 Q373.949 1477.43 379.296 1485.49 Q384.684 1493.51 384.684 1508.82 Q384.684 1524.09 379.296 1532.15 Q373.949 1540.17 363.781 1540.17 Q353.613 1540.17 348.226 1532.15 Q342.878 1524.09 342.878 1508.82 Q342.878 1493.51 348.226 1485.49 Q353.613 1477.43 363.781 1477.43 Z\" fill=\"#000000\" fill-rule=\"evenodd\" fill-opacity=\"1\" /><path clip-path=\"url(#clip630)\" d=\"M400.482 1532.11 L413.85 1532.11 L413.85 1485.97 L399.307 1488.89 L399.307 1481.44 L413.769 1478.52 L421.952 1478.52 L421.952 1532.11 L435.32 1532.11 L435.32 1539 L400.482 1539 L400.482 1532.11 Z\" fill=\"#000000\" fill-rule=\"evenodd\" fill-opacity=\"1\" /><path clip-path=\"url(#clip630)\" d=\"M467.93 1512.99 L456.506 1549.94 L449.62 1549.94 L461.043 1512.99 L449.62 1476.05 L456.506 1476.05 L467.93 1512.99 Z\" fill=\"#000000\" fill-rule=\"evenodd\" fill-opacity=\"1\" /><path clip-path=\"url(#clip630)\" d=\"M538.957 1475.6 L538.957 1558.57 L532.07 1558.57 L532.07 1475.6 L538.957 1475.6 Z\" fill=\"#000000\" fill-rule=\"evenodd\" fill-opacity=\"1\" /><path clip-path=\"url(#clip630)\" d=\"M559.778 1532.11 L573.146 1532.11 L573.146 1485.97 L558.604 1488.89 L558.604 1481.44 L573.065 1478.52 L581.248 1478.52 L581.248 1532.11 L594.616 1532.11 L594.616 1539 L559.778 1539 L559.778 1532.11 Z\" fill=\"#000000\" fill-rule=\"evenodd\" fill-opacity=\"1\" /><path clip-path=\"url(#clip630)\" d=\"M628.644 1483.91 Q622.324 1483.91 619.124 1490.15 Q615.964 1496.34 615.964 1508.82 Q615.964 1521.26 619.124 1527.5 Q622.324 1533.69 628.644 1533.69 Q635.004 1533.69 638.163 1527.5 Q641.364 1521.26 641.364 1508.82 Q641.364 1496.34 638.163 1490.15 Q635.004 1483.91 628.644 1483.91 M628.644 1477.43 Q638.812 1477.43 644.159 1485.49 Q649.546 1493.51 649.546 1508.82 Q649.546 1524.09 644.159 1532.15 Q638.812 1540.17 628.644 1540.17 Q618.476 1540.17 613.088 1532.15 Q607.741 1524.09 607.741 1508.82 Q607.741 1493.51 613.088 1485.49 Q618.476 1477.43 628.644 1477.43 Z\" fill=\"#000000\" fill-rule=\"evenodd\" fill-opacity=\"1\" /><path clip-path=\"url(#clip630)\" d=\"M680.009 1512.99 L668.586 1549.94 L661.699 1549.94 L673.123 1512.99 L661.699 1476.05 L668.586 1476.05 L680.009 1512.99 Z\" fill=\"#000000\" fill-rule=\"evenodd\" fill-opacity=\"1\" /><path clip-path=\"url(#clip630)\" d=\"M751.036 1475.6 L751.036 1558.57 L744.15 1558.57 L744.15 1475.6 L751.036 1475.6 Z\" fill=\"#000000\" fill-rule=\"evenodd\" fill-opacity=\"1\" /><path clip-path=\"url(#clip630)\" d=\"M771.858 1532.11 L785.226 1532.11 L785.226 1485.97 L770.683 1488.89 L770.683 1481.44 L785.145 1478.52 L793.328 1478.52 L793.328 1532.11 L806.696 1532.11 L806.696 1539 L771.858 1539 L771.858 1532.11 Z\" fill=\"#000000\" fill-rule=\"evenodd\" fill-opacity=\"1\" /><path clip-path=\"url(#clip630)\" d=\"M824.641 1532.11 L838.009 1532.11 L838.009 1485.97 L823.467 1488.89 L823.467 1481.44 L837.928 1478.52 L846.111 1478.52 L846.111 1532.11 L859.479 1532.11 L859.479 1539 L824.641 1539 L824.641 1532.11 Z\" fill=\"#000000\" fill-rule=\"evenodd\" fill-opacity=\"1\" /><path clip-path=\"url(#clip630)\" d=\"M892.089 1512.99 L880.665 1549.94 L873.779 1549.94 L885.202 1512.99 L873.779 1476.05 L880.665 1476.05 L892.089 1512.99 Z\" fill=\"#000000\" fill-rule=\"evenodd\" fill-opacity=\"1\" /><circle clip-path=\"url(#clip632)\" style=\"fill:#3da44d; stroke:none; fill-opacity:1\" cx=\"181.881\" cy=\"89.8529\" r=\"2\"/>\n",
       "<circle clip-path=\"url(#clip632)\" style=\"fill:#3da44d; stroke:none; fill-opacity:1\" cx=\"393.96\" cy=\"89.8529\" r=\"2\"/>\n",
       "<circle clip-path=\"url(#clip632)\" style=\"fill:#3da44d; stroke:none; fill-opacity:1\" cx=\"606.04\" cy=\"89.8529\" r=\"2\"/>\n",
       "<circle clip-path=\"url(#clip632)\" style=\"fill:#3da44d; stroke:none; fill-opacity:1\" cx=\"818.119\" cy=\"89.8529\" r=\"2\"/>\n",
       "<path clip-path=\"url(#clip630)\" d=\"M181.881 65.0006 Q175.561 65.0006 172.361 71.239 Q169.201 77.4369 169.201 89.9137 Q169.201 102.35 172.361 108.588 Q175.561 114.786 181.881 114.786 Q188.241 114.786 191.4 108.588 Q194.601 102.35 194.601 89.9137 Q194.601 77.4369 191.4 71.239 Q188.241 65.0006 181.881 65.0006 M181.881 58.5192 Q192.048 58.5192 197.396 66.5805 Q202.783 74.6013 202.783 89.9137 Q202.783 105.186 197.396 113.247 Q192.048 121.268 181.881 121.268 Q171.713 121.268 166.325 113.247 Q160.978 105.186 160.978 89.9137 Q160.978 74.6013 166.325 66.5805 Q171.713 58.5192 181.881 58.5192 Z\" fill=\"#000000\" fill-rule=\"evenodd\" fill-opacity=\"1\" /><path clip-path=\"url(#clip630)\" d=\"M296.455 113.206 L309.823 113.206 L309.823 67.0666 L295.28 69.9832 L295.28 62.5296 L309.742 59.6129 L317.925 59.6129 L317.925 113.206 L331.293 113.206 L331.293 120.093 L296.455 120.093 L296.455 113.206 Z\" fill=\"#000000\" fill-rule=\"evenodd\" fill-opacity=\"1\" /><path clip-path=\"url(#clip630)\" d=\"M365.32 65.0006 Q359.001 65.0006 355.801 71.239 Q352.641 77.4369 352.641 89.9137 Q352.641 102.35 355.801 108.588 Q359.001 114.786 365.32 114.786 Q371.68 114.786 374.84 108.588 Q378.04 102.35 378.04 89.9137 Q378.04 77.4369 374.84 71.239 Q371.68 65.0006 365.32 65.0006 M365.32 58.5192 Q375.488 58.5192 380.835 66.5805 Q386.223 74.6013 386.223 89.9137 Q386.223 105.186 380.835 113.247 Q375.488 121.268 365.32 121.268 Q355.153 121.268 349.765 113.247 Q344.418 105.186 344.418 89.9137 Q344.418 74.6013 349.765 66.5805 Q355.153 58.5192 365.32 58.5192 Z\" fill=\"#000000\" fill-rule=\"evenodd\" fill-opacity=\"1\" /><path clip-path=\"url(#clip630)\" d=\"M407.652 113.206 L436.211 113.206 L436.211 120.093 L397.809 120.093 L397.809 113.206 Q402.467 108.386 410.488 100.284 Q418.549 92.1417 420.615 89.7922 Q424.545 85.3767 426.084 82.3385 Q427.664 79.2598 427.664 76.3026 Q427.664 71.4821 424.261 68.4439 Q420.899 65.4057 415.471 65.4057 Q411.622 65.4057 407.328 66.7425 Q403.075 68.0793 398.214 70.7934 L398.214 62.5296 Q403.156 60.5446 407.45 59.5319 Q411.744 58.5192 415.308 58.5192 Q424.707 58.5192 430.297 63.2182 Q435.887 67.9173 435.887 75.776 Q435.887 79.5029 434.469 82.8651 Q433.092 86.1869 429.406 90.7239 Q428.393 91.8986 422.965 97.5294 Q417.536 103.12 407.652 113.206 Z\" fill=\"#000000\" fill-rule=\"evenodd\" fill-opacity=\"1\" /><path clip-path=\"url(#clip630)\" d=\"M475.87 66.7425 L455.21 99.0282 L475.87 99.0282 L475.87 66.7425 M473.723 59.6129 L484.012 59.6129 L484.012 99.0282 L492.64 99.0282 L492.64 105.834 L484.012 105.834 L484.012 120.093 L475.87 120.093 L475.87 105.834 L448.566 105.834 L448.566 97.9345 L473.723 59.6129 Z\" fill=\"#000000\" fill-rule=\"evenodd\" fill-opacity=\"1\" /><path clip-path=\"url(#clip630)\" d=\"M606.04 65.0006 Q599.72 65.0006 596.52 71.239 Q593.36 77.4369 593.36 89.9137 Q593.36 102.35 596.52 108.588 Q599.72 114.786 606.04 114.786 Q612.4 114.786 615.559 108.588 Q618.76 102.35 618.76 89.9137 Q618.76 77.4369 615.559 71.239 Q612.4 65.0006 606.04 65.0006 M606.04 58.5192 Q616.208 58.5192 621.555 66.5805 Q626.942 74.6013 626.942 89.9137 Q626.942 105.186 621.555 113.247 Q616.208 121.268 606.04 121.268 Q595.872 121.268 590.484 113.247 Q585.137 105.186 585.137 89.9137 Q585.137 74.6013 590.484 66.5805 Q595.872 58.5192 606.04 58.5192 Z\" fill=\"#000000\" fill-rule=\"evenodd\" fill-opacity=\"1\" /><path clip-path=\"url(#clip630)\" d=\"M818.119 65.0006 Q811.8 65.0006 808.6 71.239 Q805.44 77.4369 805.44 89.9137 Q805.44 102.35 808.6 108.588 Q811.8 114.786 818.119 114.786 Q824.479 114.786 827.639 108.588 Q830.839 102.35 830.839 89.9137 Q830.839 77.4369 827.639 71.239 Q824.479 65.0006 818.119 65.0006 M818.119 58.5192 Q828.287 58.5192 833.634 66.5805 Q839.022 74.6013 839.022 89.9137 Q839.022 105.186 833.634 113.247 Q828.287 121.268 818.119 121.268 Q807.952 121.268 802.564 113.247 Q797.217 105.186 797.217 89.9137 Q797.217 74.6013 802.564 66.5805 Q807.952 58.5192 818.119 58.5192 Z\" fill=\"#000000\" fill-rule=\"evenodd\" fill-opacity=\"1\" /></svg>\n"
      ]
     },
     "execution_count": 102,
     "metadata": {},
     "output_type": "execute_result"
    },
    {
     "name": "stderr",
     "output_type": "stream",
     "text": [
      "\u001b[33m\u001b[1m┌ \u001b[22m\u001b[39m\u001b[33m\u001b[1mWarning: \u001b[22m\u001b[39mInvalid limits for x axis. Limits should be a symbol, or a two-element tuple or vector of numbers.\n",
      "\u001b[33m\u001b[1m│ \u001b[22m\u001b[39mxlims = (0:4,)\n",
      "\u001b[33m\u001b[1m└ \u001b[22m\u001b[39m\u001b[90m@ Plots ~/.julia/packages/Plots/modjX/src/axes.jl:628\u001b[39m\n",
      "\u001b[33m\u001b[1m┌ \u001b[22m\u001b[39m\u001b[33m\u001b[1mWarning: \u001b[22m\u001b[39mInvalid limits for y axis. Limits should be a symbol, or a two-element tuple or vector of numbers.\n",
      "\u001b[33m\u001b[1m│ \u001b[22m\u001b[39mylims = (0:1024,)\n",
      "\u001b[33m\u001b[1m└ \u001b[22m\u001b[39m\u001b[90m@ Plots ~/.julia/packages/Plots/modjX/src/axes.jl:628\u001b[39m\n",
      "\u001b[33m\u001b[1m┌ \u001b[22m\u001b[39m\u001b[33m\u001b[1mWarning: \u001b[22m\u001b[39mInvalid limits for x axis. Limits should be a symbol, or a two-element tuple or vector of numbers.\n",
      "\u001b[33m\u001b[1m│ \u001b[22m\u001b[39mxlims = (0:4,)\n",
      "\u001b[33m\u001b[1m└ \u001b[22m\u001b[39m\u001b[90m@ Plots ~/.julia/packages/Plots/modjX/src/axes.jl:628\u001b[39m\n",
      "\u001b[33m\u001b[1m┌ \u001b[22m\u001b[39m\u001b[33m\u001b[1mWarning: \u001b[22m\u001b[39mInvalid limits for y axis. Limits should be a symbol, or a two-element tuple or vector of numbers.\n",
      "\u001b[33m\u001b[1m│ \u001b[22m\u001b[39mylims = (0:1024,)\n",
      "\u001b[33m\u001b[1m└ \u001b[22m\u001b[39m\u001b[90m@ Plots ~/.julia/packages/Plots/modjX/src/axes.jl:628\u001b[39m\n",
      "\u001b[33m\u001b[1m┌ \u001b[22m\u001b[39m\u001b[33m\u001b[1mWarning: \u001b[22m\u001b[39mInvalid limits for x axis. Limits should be a symbol, or a two-element tuple or vector of numbers.\n",
      "\u001b[33m\u001b[1m│ \u001b[22m\u001b[39mxlims = (0:4,)\n",
      "\u001b[33m\u001b[1m└ \u001b[22m\u001b[39m\u001b[90m@ Plots ~/.julia/packages/Plots/modjX/src/axes.jl:628\u001b[39m\n",
      "\u001b[33m\u001b[1m┌ \u001b[22m\u001b[39m\u001b[33m\u001b[1mWarning: \u001b[22m\u001b[39mInvalid limits for y axis. Limits should be a symbol, or a two-element tuple or vector of numbers.\n",
      "\u001b[33m\u001b[1m│ \u001b[22m\u001b[39mylims = (0:1024,)\n",
      "\u001b[33m\u001b[1m└ \u001b[22m\u001b[39m\u001b[90m@ Plots ~/.julia/packages/Plots/modjX/src/axes.jl:628\u001b[39m\n",
      "\u001b[33m\u001b[1m┌ \u001b[22m\u001b[39m\u001b[33m\u001b[1mWarning: \u001b[22m\u001b[39mInvalid limits for x axis. Limits should be a symbol, or a two-element tuple or vector of numbers.\n",
      "\u001b[33m\u001b[1m│ \u001b[22m\u001b[39mxlims = (0:4,)\n",
      "\u001b[33m\u001b[1m└ \u001b[22m\u001b[39m\u001b[90m@ Plots ~/.julia/packages/Plots/modjX/src/axes.jl:628\u001b[39m\n",
      "\u001b[33m\u001b[1m┌ \u001b[22m\u001b[39m\u001b[33m\u001b[1mWarning: \u001b[22m\u001b[39mInvalid limits for y axis. Limits should be a symbol, or a two-element tuple or vector of numbers.\n",
      "\u001b[33m\u001b[1m│ \u001b[22m\u001b[39mylims = (0:1024,)\n",
      "\u001b[33m\u001b[1m└ \u001b[22m\u001b[39m\u001b[90m@ Plots ~/.julia/packages/Plots/modjX/src/axes.jl:628\u001b[39m\n"
     ]
    }
   ],
   "source": [
    "plotmeasures(a)"
   ]
  },
  {
   "cell_type": "markdown",
   "id": "364ad34b-61f9-4b33-b44a-e8ca2fe10b6a",
   "metadata": {
    "slideshow": {
     "slide_type": "slide"
    }
   },
   "source": [
    "## Pauli X\n",
    "\n",
    "The first gate we will explore is the Pauli $X$ gate. This operation is represented by the following unitary matrix $X$:\n",
    "\n",
    "\\begin{align}\n",
    "& X\\vert 0 \\rangle = \\vert 1 \\rangle \\\\\n",
    "& X\\vert 1 \\rangle = \\vert 0 \\rangle \\\\\n",
    "\\end{align}\n",
    " \n",
    "This is also known as the **bit flip** operation, or **NOT gate**, due to its similarity to the Boolean NOT operation. From its action on the basis states, it is straightforward to deduce that $X$ should have the following form (you can check this by hand, too):\n",
    "\n",
    "\\begin{align}\n",
    "& X = \\begin{bmatrix} 0 & 1 \\\\ 1 & 0 \\end{bmatrix} \\\\\n",
    "\\end{align}\n",
    " "
   ]
  },
  {
   "cell_type": "code",
   "execution_count": 103,
   "id": "a06fcd26-56cc-4760-bcf4-187fa585f653",
   "metadata": {
    "slideshow": {
     "slide_type": "subslide"
    }
   },
   "outputs": [
    {
     "data": {
      "image/svg+xml": [
       "<?xml version=\"1.0\" encoding=\"UTF-8\"?>\n",
       "<svg xmlns=\"http://www.w3.org/2000/svg\" xmlns:xlink=\"http://www.w3.org/1999/xlink\" width=\"102pt\" height=\"90pt\" viewBox=\"0 0 102 90\" version=\"1.1\">\n",
       "<defs>\n",
       "<g>\n",
       "<symbol overflow=\"visible\" id=\"glyph-4537540-0\">\n",
       "<path style=\"stroke:none;\" d=\"M 0.8125 2.828125 L 0.8125 -11.28125 L 8.8125 -11.28125 L 8.8125 2.828125 Z M 1.71875 1.9375 L 7.921875 1.9375 L 7.921875 -10.390625 L 1.71875 -10.390625 Z M 1.71875 1.9375 \"/>\n",
       "</symbol>\n",
       "<symbol overflow=\"visible\" id=\"glyph-4537540-1\">\n",
       "<path style=\"stroke:none;\" d=\"M 0.671875 -11.671875 L 2.375 -11.671875 L 4.9375 -7.265625 L 7.546875 -11.671875 L 9.234375 -11.671875 L 5.75 -6.1875 L 9.484375 0 L 7.796875 0 L 4.9375 -5.03125 L 1.84375 0 L 0.140625 0 L 4.046875 -6.1875 Z M 0.671875 -11.671875 \"/>\n",
       "</symbol>\n",
       "</g>\n",
       "</defs>\n",
       "<g id=\"surface60\">\n",
       "<path style=\"fill:none;stroke-width:1;stroke-linecap:butt;stroke-linejoin:miter;stroke:rgb(0%,0%,0%);stroke-opacity:1;stroke-miterlimit:10;\" d=\"M 39 34.5 L 39 10.5 L 63 10.5 L 63 34.5 Z M 39 34.5 \"/>\n",
       "<g style=\"fill:rgb(0%,0%,0%);fill-opacity:1;\">\n",
       "  <use xlink:href=\"#glyph-4537540-1\" x=\"46.183594\" y=\"28.332031\"/>\n",
       "</g>\n",
       "<path style=\"fill:none;stroke-width:1;stroke-linecap:butt;stroke-linejoin:miter;stroke:rgb(0%,0%,0%);stroke-opacity:1;stroke-miterlimit:10;\" d=\"M 25.5 22.5 L 39 22.5 \"/>\n",
       "<path style=\"fill:none;stroke-width:1;stroke-linecap:butt;stroke-linejoin:miter;stroke:rgb(0%,0%,0%);stroke-opacity:1;stroke-miterlimit:10;\" d=\"M 63 22.5 L 76.5 22.5 \"/>\n",
       "<path style=\"fill:none;stroke-width:1;stroke-linecap:butt;stroke-linejoin:miter;stroke:rgb(0%,0%,0%);stroke-opacity:1;stroke-miterlimit:10;\" d=\"M 76.5 22.5 L 76.5 22.5 \"/>\n",
       "<path style=\"fill:none;stroke-width:1;stroke-linecap:butt;stroke-linejoin:miter;stroke:rgb(0%,0%,0%);stroke-opacity:1;stroke-miterlimit:10;\" d=\"M 76.5 67.5 L 25.5 67.5 \"/>\n",
       "</g>\n",
       "</svg>\n"
      ],
      "text/plain": []
     },
     "execution_count": 103,
     "metadata": {},
     "output_type": "execute_result"
    }
   ],
   "source": [
    "X_gate_qc = chain(2, put(1 => X))\n",
    "plot(X_gate_qc)"
   ]
  },
  {
   "cell_type": "code",
   "execution_count": 104,
   "id": "ab249228-390c-4abd-b168-d9d9fc74b5a7",
   "metadata": {
    "slideshow": {
     "slide_type": "slide"
    }
   },
   "outputs": [
    {
     "data": {
      "text/plain": [
       "ArrayReg{2, ComplexF64, Array...}\n",
       "    active qubits: 2/2\n",
       "    nlevel: 2"
      ]
     },
     "execution_count": 104,
     "metadata": {},
     "output_type": "execute_result"
    }
   ],
   "source": [
    "q1 = ArrayReg(bit\"00\")\n",
    "st = q1 |> X_gate_qc "
   ]
  },
  {
   "cell_type": "code",
   "execution_count": 105,
   "id": "019c6596-6697-4a73-8d81-f52e85817970",
   "metadata": {},
   "outputs": [
    {
     "data": {
      "text/plain": [
       "4×1 Matrix{ComplexF64}:\n",
       " 0.0 + 0.0im\n",
       " 1.0 + 0.0im\n",
       " 0.0 + 0.0im\n",
       " 0.0 + 0.0im"
      ]
     },
     "execution_count": 105,
     "metadata": {},
     "output_type": "execute_result"
    }
   ],
   "source": [
    "state(st)"
   ]
  },
  {
   "cell_type": "code",
   "execution_count": 106,
   "id": "31036aff-7e73-4da7-b704-bb08b59e6e2d",
   "metadata": {
    "slideshow": {
     "slide_type": "subslide"
    }
   },
   "outputs": [],
   "source": [
    "a = (q1 |> X_gate_qc -> measure(X_gate_qc, nshots=1024));"
   ]
  },
  {
   "cell_type": "code",
   "execution_count": 107,
   "id": "c16eb210-1507-4cd5-997e-b78f53c9341f",
   "metadata": {},
   "outputs": [
    {
     "data": {
      "image/svg+xml": [
       "<?xml version=\"1.0\" encoding=\"utf-8\"?>\n",
       "<svg xmlns=\"http://www.w3.org/2000/svg\" xmlns:xlink=\"http://www.w3.org/1999/xlink\" width=\"250\" height=\"400\" viewBox=\"0 0 1000 1600\">\n",
       "<defs>\n",
       "  <clipPath id=\"clip660\">\n",
       "    <rect x=\"0\" y=\"0\" width=\"1000\" height=\"1600\"/>\n",
       "  </clipPath>\n",
       "</defs>\n",
       "<path clip-path=\"url(#clip660)\" d=\"M0 1600 L1000 1600 L1000 0 L0 0  Z\" fill=\"#ffffff\" fill-rule=\"evenodd\" fill-opacity=\"1\"/>\n",
       "<defs>\n",
       "  <clipPath id=\"clip661\">\n",
       "    <rect x=\"320\" y=\"160\" width=\"1000\" height=\"1121\"/>\n",
       "  </clipPath>\n",
       "</defs>\n",
       "<path clip-path=\"url(#clip660)\" d=\"M47.2441 1552.76 L952.756 1552.76 L952.756 47.2441 L47.2441 47.2441  Z\" fill=\"#ffffff\" fill-rule=\"evenodd\" fill-opacity=\"1\"/>\n",
       "<defs>\n",
       "  <clipPath id=\"clip662\">\n",
       "    <rect x=\"47\" y=\"47\" width=\"907\" height=\"1507\"/>\n",
       "  </clipPath>\n",
       "</defs>\n",
       "<path clip-path=\"url(#clip662)\" d=\"M97.0489 1510.15 L97.0489 1510.15 L266.712 1510.15 L266.712 1510.15 L97.0489 1510.15 L97.0489 1510.15  Z\" fill=\"#add8e6\" fill-rule=\"evenodd\" fill-opacity=\"1\"/>\n",
       "<polyline clip-path=\"url(#clip662)\" style=\"stroke:#add8e6; stroke-linecap:round; stroke-linejoin:round; stroke-width:4; stroke-opacity:1; fill:none\" points=\"97.0489,1510.15 97.0489,1510.15 266.712,1510.15 97.0489,1510.15 \"/>\n",
       "<path clip-path=\"url(#clip662)\" d=\"M309.128 89.8529 L309.128 1510.15 L478.792 1510.15 L478.792 89.8529 L309.128 89.8529 L309.128 89.8529  Z\" fill=\"#add8e6\" fill-rule=\"evenodd\" fill-opacity=\"1\"/>\n",
       "<polyline clip-path=\"url(#clip662)\" style=\"stroke:#add8e6; stroke-linecap:round; stroke-linejoin:round; stroke-width:4; stroke-opacity:1; fill:none\" points=\"309.128,89.8529 309.128,1510.15 478.792,1510.15 478.792,89.8529 309.128,89.8529 \"/>\n",
       "<path clip-path=\"url(#clip662)\" d=\"M521.208 1510.15 L521.208 1510.15 L690.872 1510.15 L690.872 1510.15 L521.208 1510.15 L521.208 1510.15  Z\" fill=\"#add8e6\" fill-rule=\"evenodd\" fill-opacity=\"1\"/>\n",
       "<polyline clip-path=\"url(#clip662)\" style=\"stroke:#add8e6; stroke-linecap:round; stroke-linejoin:round; stroke-width:4; stroke-opacity:1; fill:none\" points=\"521.208,1510.15 521.208,1510.15 690.872,1510.15 521.208,1510.15 \"/>\n",
       "<path clip-path=\"url(#clip662)\" d=\"M733.288 1510.15 L733.288 1510.15 L902.951 1510.15 L902.951 1510.15 L733.288 1510.15 L733.288 1510.15  Z\" fill=\"#add8e6\" fill-rule=\"evenodd\" fill-opacity=\"1\"/>\n",
       "<polyline clip-path=\"url(#clip662)\" style=\"stroke:#add8e6; stroke-linecap:round; stroke-linejoin:round; stroke-width:4; stroke-opacity:1; fill:none\" points=\"733.288,1510.15 733.288,1510.15 902.951,1510.15 733.288,1510.15 \"/>\n",
       "<circle clip-path=\"url(#clip662)\" style=\"fill:#add8e6; stroke:none; fill-opacity:0\" cx=\"75.8409\" cy=\"1510.15\" r=\"2\"/>\n",
       "<circle clip-path=\"url(#clip662)\" style=\"fill:#add8e6; stroke:none; fill-opacity:0\" cx=\"287.92\" cy=\"89.8529\" r=\"2\"/>\n",
       "<circle clip-path=\"url(#clip662)\" style=\"fill:#add8e6; stroke:none; fill-opacity:0\" cx=\"500\" cy=\"1510.15\" r=\"2\"/>\n",
       "<circle clip-path=\"url(#clip662)\" style=\"fill:#add8e6; stroke:none; fill-opacity:0\" cx=\"712.08\" cy=\"1510.15\" r=\"2\"/>\n",
       "<circle clip-path=\"url(#clip662)\" style=\"fill:#add8e6; stroke:none; fill-opacity:0\" cx=\"924.159\" cy=\"1510.15\" r=\"2\"/>\n",
       "<circle clip-path=\"url(#clip662)\" style=\"fill:#e26f46; stroke:none; fill-opacity:1\" cx=\"181.881\" cy=\"1508.76\" r=\"2\"/>\n",
       "<circle clip-path=\"url(#clip662)\" style=\"fill:#e26f46; stroke:none; fill-opacity:1\" cx=\"393.96\" cy=\"1508.76\" r=\"2\"/>\n",
       "<circle clip-path=\"url(#clip662)\" style=\"fill:#e26f46; stroke:none; fill-opacity:1\" cx=\"606.04\" cy=\"1508.76\" r=\"2\"/>\n",
       "<circle clip-path=\"url(#clip662)\" style=\"fill:#e26f46; stroke:none; fill-opacity:1\" cx=\"818.119\" cy=\"1508.76\" r=\"2\"/>\n",
       "<path clip-path=\"url(#clip660)\" d=\"M114.798 1475.6 L114.798 1558.57 L107.911 1558.57 L107.911 1475.6 L114.798 1475.6 Z\" fill=\"#000000\" fill-rule=\"evenodd\" fill-opacity=\"1\" /><path clip-path=\"url(#clip660)\" d=\"M151.701 1483.91 Q145.382 1483.91 142.182 1490.15 Q139.022 1496.34 139.022 1508.82 Q139.022 1521.26 142.182 1527.5 Q145.382 1533.69 151.701 1533.69 Q158.061 1533.69 161.221 1527.5 Q164.421 1521.26 164.421 1508.82 Q164.421 1496.34 161.221 1490.15 Q158.061 1483.91 151.701 1483.91 M151.701 1477.43 Q161.869 1477.43 167.216 1485.49 Q172.604 1493.51 172.604 1508.82 Q172.604 1524.09 167.216 1532.15 Q161.869 1540.17 151.701 1540.17 Q141.534 1540.17 136.146 1532.15 Q130.799 1524.09 130.799 1508.82 Q130.799 1493.51 136.146 1485.49 Q141.534 1477.43 151.701 1477.43 Z\" fill=\"#000000\" fill-rule=\"evenodd\" fill-opacity=\"1\" /><path clip-path=\"url(#clip660)\" d=\"M204.485 1483.91 Q198.165 1483.91 194.965 1490.15 Q191.805 1496.34 191.805 1508.82 Q191.805 1521.26 194.965 1527.5 Q198.165 1533.69 204.485 1533.69 Q210.845 1533.69 214.004 1527.5 Q217.205 1521.26 217.205 1508.82 Q217.205 1496.34 214.004 1490.15 Q210.845 1483.91 204.485 1483.91 M204.485 1477.43 Q214.652 1477.43 220 1485.49 Q225.387 1493.51 225.387 1508.82 Q225.387 1524.09 220 1532.15 Q214.652 1540.17 204.485 1540.17 Q194.317 1540.17 188.929 1532.15 Q183.582 1524.09 183.582 1508.82 Q183.582 1493.51 188.929 1485.49 Q194.317 1477.43 204.485 1477.43 Z\" fill=\"#000000\" fill-rule=\"evenodd\" fill-opacity=\"1\" /><path clip-path=\"url(#clip660)\" d=\"M255.85 1512.99 L244.427 1549.94 L237.54 1549.94 L248.964 1512.99 L237.54 1476.05 L244.427 1476.05 L255.85 1512.99 Z\" fill=\"#000000\" fill-rule=\"evenodd\" fill-opacity=\"1\" /><path clip-path=\"url(#clip660)\" d=\"M326.877 1475.6 L326.877 1558.57 L319.991 1558.57 L319.991 1475.6 L326.877 1475.6 Z\" fill=\"#000000\" fill-rule=\"evenodd\" fill-opacity=\"1\" /><path clip-path=\"url(#clip660)\" d=\"M363.781 1483.91 Q357.462 1483.91 354.261 1490.15 Q351.102 1496.34 351.102 1508.82 Q351.102 1521.26 354.261 1527.5 Q357.462 1533.69 363.781 1533.69 Q370.141 1533.69 373.301 1527.5 Q376.501 1521.26 376.501 1508.82 Q376.501 1496.34 373.301 1490.15 Q370.141 1483.91 363.781 1483.91 M363.781 1477.43 Q373.949 1477.43 379.296 1485.49 Q384.684 1493.51 384.684 1508.82 Q384.684 1524.09 379.296 1532.15 Q373.949 1540.17 363.781 1540.17 Q353.613 1540.17 348.226 1532.15 Q342.878 1524.09 342.878 1508.82 Q342.878 1493.51 348.226 1485.49 Q353.613 1477.43 363.781 1477.43 Z\" fill=\"#000000\" fill-rule=\"evenodd\" fill-opacity=\"1\" /><path clip-path=\"url(#clip660)\" d=\"M400.482 1532.11 L413.85 1532.11 L413.85 1485.97 L399.307 1488.89 L399.307 1481.44 L413.769 1478.52 L421.952 1478.52 L421.952 1532.11 L435.32 1532.11 L435.32 1539 L400.482 1539 L400.482 1532.11 Z\" fill=\"#000000\" fill-rule=\"evenodd\" fill-opacity=\"1\" /><path clip-path=\"url(#clip660)\" d=\"M467.93 1512.99 L456.506 1549.94 L449.62 1549.94 L461.043 1512.99 L449.62 1476.05 L456.506 1476.05 L467.93 1512.99 Z\" fill=\"#000000\" fill-rule=\"evenodd\" fill-opacity=\"1\" /><path clip-path=\"url(#clip660)\" d=\"M538.957 1475.6 L538.957 1558.57 L532.07 1558.57 L532.07 1475.6 L538.957 1475.6 Z\" fill=\"#000000\" fill-rule=\"evenodd\" fill-opacity=\"1\" /><path clip-path=\"url(#clip660)\" d=\"M559.778 1532.11 L573.146 1532.11 L573.146 1485.97 L558.604 1488.89 L558.604 1481.44 L573.065 1478.52 L581.248 1478.52 L581.248 1532.11 L594.616 1532.11 L594.616 1539 L559.778 1539 L559.778 1532.11 Z\" fill=\"#000000\" fill-rule=\"evenodd\" fill-opacity=\"1\" /><path clip-path=\"url(#clip660)\" d=\"M628.644 1483.91 Q622.324 1483.91 619.124 1490.15 Q615.964 1496.34 615.964 1508.82 Q615.964 1521.26 619.124 1527.5 Q622.324 1533.69 628.644 1533.69 Q635.004 1533.69 638.163 1527.5 Q641.364 1521.26 641.364 1508.82 Q641.364 1496.34 638.163 1490.15 Q635.004 1483.91 628.644 1483.91 M628.644 1477.43 Q638.812 1477.43 644.159 1485.49 Q649.546 1493.51 649.546 1508.82 Q649.546 1524.09 644.159 1532.15 Q638.812 1540.17 628.644 1540.17 Q618.476 1540.17 613.088 1532.15 Q607.741 1524.09 607.741 1508.82 Q607.741 1493.51 613.088 1485.49 Q618.476 1477.43 628.644 1477.43 Z\" fill=\"#000000\" fill-rule=\"evenodd\" fill-opacity=\"1\" /><path clip-path=\"url(#clip660)\" d=\"M680.009 1512.99 L668.586 1549.94 L661.699 1549.94 L673.123 1512.99 L661.699 1476.05 L668.586 1476.05 L680.009 1512.99 Z\" fill=\"#000000\" fill-rule=\"evenodd\" fill-opacity=\"1\" /><path clip-path=\"url(#clip660)\" d=\"M751.036 1475.6 L751.036 1558.57 L744.15 1558.57 L744.15 1475.6 L751.036 1475.6 Z\" fill=\"#000000\" fill-rule=\"evenodd\" fill-opacity=\"1\" /><path clip-path=\"url(#clip660)\" d=\"M771.858 1532.11 L785.226 1532.11 L785.226 1485.97 L770.683 1488.89 L770.683 1481.44 L785.145 1478.52 L793.328 1478.52 L793.328 1532.11 L806.696 1532.11 L806.696 1539 L771.858 1539 L771.858 1532.11 Z\" fill=\"#000000\" fill-rule=\"evenodd\" fill-opacity=\"1\" /><path clip-path=\"url(#clip660)\" d=\"M824.641 1532.11 L838.009 1532.11 L838.009 1485.97 L823.467 1488.89 L823.467 1481.44 L837.928 1478.52 L846.111 1478.52 L846.111 1532.11 L859.479 1532.11 L859.479 1539 L824.641 1539 L824.641 1532.11 Z\" fill=\"#000000\" fill-rule=\"evenodd\" fill-opacity=\"1\" /><path clip-path=\"url(#clip660)\" d=\"M892.089 1512.99 L880.665 1549.94 L873.779 1549.94 L885.202 1512.99 L873.779 1476.05 L880.665 1476.05 L892.089 1512.99 Z\" fill=\"#000000\" fill-rule=\"evenodd\" fill-opacity=\"1\" /><circle clip-path=\"url(#clip662)\" style=\"fill:#3da44d; stroke:none; fill-opacity:1\" cx=\"181.881\" cy=\"89.8529\" r=\"2\"/>\n",
       "<circle clip-path=\"url(#clip662)\" style=\"fill:#3da44d; stroke:none; fill-opacity:1\" cx=\"393.96\" cy=\"89.8529\" r=\"2\"/>\n",
       "<circle clip-path=\"url(#clip662)\" style=\"fill:#3da44d; stroke:none; fill-opacity:1\" cx=\"606.04\" cy=\"89.8529\" r=\"2\"/>\n",
       "<circle clip-path=\"url(#clip662)\" style=\"fill:#3da44d; stroke:none; fill-opacity:1\" cx=\"818.119\" cy=\"89.8529\" r=\"2\"/>\n",
       "<path clip-path=\"url(#clip660)\" d=\"M181.881 65.0006 Q175.561 65.0006 172.361 71.239 Q169.201 77.4369 169.201 89.9137 Q169.201 102.35 172.361 108.588 Q175.561 114.786 181.881 114.786 Q188.241 114.786 191.4 108.588 Q194.601 102.35 194.601 89.9137 Q194.601 77.4369 191.4 71.239 Q188.241 65.0006 181.881 65.0006 M181.881 58.5192 Q192.048 58.5192 197.396 66.5805 Q202.783 74.6013 202.783 89.9137 Q202.783 105.186 197.396 113.247 Q192.048 121.268 181.881 121.268 Q171.713 121.268 166.325 113.247 Q160.978 105.186 160.978 89.9137 Q160.978 74.6013 166.325 66.5805 Q171.713 58.5192 181.881 58.5192 Z\" fill=\"#000000\" fill-rule=\"evenodd\" fill-opacity=\"1\" /><path clip-path=\"url(#clip660)\" d=\"M296.455 113.206 L309.823 113.206 L309.823 67.0666 L295.28 69.9832 L295.28 62.5296 L309.742 59.6129 L317.925 59.6129 L317.925 113.206 L331.293 113.206 L331.293 120.093 L296.455 120.093 L296.455 113.206 Z\" fill=\"#000000\" fill-rule=\"evenodd\" fill-opacity=\"1\" /><path clip-path=\"url(#clip660)\" d=\"M365.32 65.0006 Q359.001 65.0006 355.801 71.239 Q352.641 77.4369 352.641 89.9137 Q352.641 102.35 355.801 108.588 Q359.001 114.786 365.32 114.786 Q371.68 114.786 374.84 108.588 Q378.04 102.35 378.04 89.9137 Q378.04 77.4369 374.84 71.239 Q371.68 65.0006 365.32 65.0006 M365.32 58.5192 Q375.488 58.5192 380.835 66.5805 Q386.223 74.6013 386.223 89.9137 Q386.223 105.186 380.835 113.247 Q375.488 121.268 365.32 121.268 Q355.153 121.268 349.765 113.247 Q344.418 105.186 344.418 89.9137 Q344.418 74.6013 349.765 66.5805 Q355.153 58.5192 365.32 58.5192 Z\" fill=\"#000000\" fill-rule=\"evenodd\" fill-opacity=\"1\" /><path clip-path=\"url(#clip660)\" d=\"M407.652 113.206 L436.211 113.206 L436.211 120.093 L397.809 120.093 L397.809 113.206 Q402.467 108.386 410.488 100.284 Q418.549 92.1417 420.615 89.7922 Q424.545 85.3767 426.084 82.3385 Q427.664 79.2598 427.664 76.3026 Q427.664 71.4821 424.261 68.4439 Q420.899 65.4057 415.471 65.4057 Q411.622 65.4057 407.328 66.7425 Q403.075 68.0793 398.214 70.7934 L398.214 62.5296 Q403.156 60.5446 407.45 59.5319 Q411.744 58.5192 415.308 58.5192 Q424.707 58.5192 430.297 63.2182 Q435.887 67.9173 435.887 75.776 Q435.887 79.5029 434.469 82.8651 Q433.092 86.1869 429.406 90.7239 Q428.393 91.8986 422.965 97.5294 Q417.536 103.12 407.652 113.206 Z\" fill=\"#000000\" fill-rule=\"evenodd\" fill-opacity=\"1\" /><path clip-path=\"url(#clip660)\" d=\"M475.87 66.7425 L455.21 99.0282 L475.87 99.0282 L475.87 66.7425 M473.723 59.6129 L484.012 59.6129 L484.012 99.0282 L492.64 99.0282 L492.64 105.834 L484.012 105.834 L484.012 120.093 L475.87 120.093 L475.87 105.834 L448.566 105.834 L448.566 97.9345 L473.723 59.6129 Z\" fill=\"#000000\" fill-rule=\"evenodd\" fill-opacity=\"1\" /><path clip-path=\"url(#clip660)\" d=\"M606.04 65.0006 Q599.72 65.0006 596.52 71.239 Q593.36 77.4369 593.36 89.9137 Q593.36 102.35 596.52 108.588 Q599.72 114.786 606.04 114.786 Q612.4 114.786 615.559 108.588 Q618.76 102.35 618.76 89.9137 Q618.76 77.4369 615.559 71.239 Q612.4 65.0006 606.04 65.0006 M606.04 58.5192 Q616.208 58.5192 621.555 66.5805 Q626.942 74.6013 626.942 89.9137 Q626.942 105.186 621.555 113.247 Q616.208 121.268 606.04 121.268 Q595.872 121.268 590.484 113.247 Q585.137 105.186 585.137 89.9137 Q585.137 74.6013 590.484 66.5805 Q595.872 58.5192 606.04 58.5192 Z\" fill=\"#000000\" fill-rule=\"evenodd\" fill-opacity=\"1\" /><path clip-path=\"url(#clip660)\" d=\"M818.119 65.0006 Q811.8 65.0006 808.6 71.239 Q805.44 77.4369 805.44 89.9137 Q805.44 102.35 808.6 108.588 Q811.8 114.786 818.119 114.786 Q824.479 114.786 827.639 108.588 Q830.839 102.35 830.839 89.9137 Q830.839 77.4369 827.639 71.239 Q824.479 65.0006 818.119 65.0006 M818.119 58.5192 Q828.287 58.5192 833.634 66.5805 Q839.022 74.6013 839.022 89.9137 Q839.022 105.186 833.634 113.247 Q828.287 121.268 818.119 121.268 Q807.952 121.268 802.564 113.247 Q797.217 105.186 797.217 89.9137 Q797.217 74.6013 802.564 66.5805 Q807.952 58.5192 818.119 58.5192 Z\" fill=\"#000000\" fill-rule=\"evenodd\" fill-opacity=\"1\" /></svg>\n"
      ]
     },
     "execution_count": 107,
     "metadata": {},
     "output_type": "execute_result"
    },
    {
     "name": "stderr",
     "output_type": "stream",
     "text": [
      "\u001b[33m\u001b[1m┌ \u001b[22m\u001b[39m\u001b[33m\u001b[1mWarning: \u001b[22m\u001b[39mInvalid limits for x axis. Limits should be a symbol, or a two-element tuple or vector of numbers.\n",
      "\u001b[33m\u001b[1m│ \u001b[22m\u001b[39mxlims = (0:4,)\n",
      "\u001b[33m\u001b[1m└ \u001b[22m\u001b[39m\u001b[90m@ Plots ~/.julia/packages/Plots/modjX/src/axes.jl:628\u001b[39m\n",
      "\u001b[33m\u001b[1m┌ \u001b[22m\u001b[39m\u001b[33m\u001b[1mWarning: \u001b[22m\u001b[39mInvalid limits for y axis. Limits should be a symbol, or a two-element tuple or vector of numbers.\n",
      "\u001b[33m\u001b[1m│ \u001b[22m\u001b[39mylims = (0:1024,)\n",
      "\u001b[33m\u001b[1m└ \u001b[22m\u001b[39m\u001b[90m@ Plots ~/.julia/packages/Plots/modjX/src/axes.jl:628\u001b[39m\n",
      "\u001b[33m\u001b[1m┌ \u001b[22m\u001b[39m\u001b[33m\u001b[1mWarning: \u001b[22m\u001b[39mInvalid limits for x axis. Limits should be a symbol, or a two-element tuple or vector of numbers.\n",
      "\u001b[33m\u001b[1m│ \u001b[22m\u001b[39mxlims = (0:4,)\n",
      "\u001b[33m\u001b[1m└ \u001b[22m\u001b[39m\u001b[90m@ Plots ~/.julia/packages/Plots/modjX/src/axes.jl:628\u001b[39m\n",
      "\u001b[33m\u001b[1m┌ \u001b[22m\u001b[39m\u001b[33m\u001b[1mWarning: \u001b[22m\u001b[39mInvalid limits for y axis. Limits should be a symbol, or a two-element tuple or vector of numbers.\n",
      "\u001b[33m\u001b[1m│ \u001b[22m\u001b[39mylims = (0:1024,)\n",
      "\u001b[33m\u001b[1m└ \u001b[22m\u001b[39m\u001b[90m@ Plots ~/.julia/packages/Plots/modjX/src/axes.jl:628\u001b[39m\n",
      "\u001b[33m\u001b[1m┌ \u001b[22m\u001b[39m\u001b[33m\u001b[1mWarning: \u001b[22m\u001b[39mInvalid limits for x axis. Limits should be a symbol, or a two-element tuple or vector of numbers.\n",
      "\u001b[33m\u001b[1m│ \u001b[22m\u001b[39mxlims = (0:4,)\n",
      "\u001b[33m\u001b[1m└ \u001b[22m\u001b[39m\u001b[90m@ Plots ~/.julia/packages/Plots/modjX/src/axes.jl:628\u001b[39m\n",
      "\u001b[33m\u001b[1m┌ \u001b[22m\u001b[39m\u001b[33m\u001b[1mWarning: \u001b[22m\u001b[39mInvalid limits for y axis. Limits should be a symbol, or a two-element tuple or vector of numbers.\n",
      "\u001b[33m\u001b[1m│ \u001b[22m\u001b[39mylims = (0:1024,)\n",
      "\u001b[33m\u001b[1m└ \u001b[22m\u001b[39m\u001b[90m@ Plots ~/.julia/packages/Plots/modjX/src/axes.jl:628\u001b[39m\n",
      "\u001b[33m\u001b[1m┌ \u001b[22m\u001b[39m\u001b[33m\u001b[1mWarning: \u001b[22m\u001b[39mInvalid limits for x axis. Limits should be a symbol, or a two-element tuple or vector of numbers.\n",
      "\u001b[33m\u001b[1m│ \u001b[22m\u001b[39mxlims = (0:4,)\n",
      "\u001b[33m\u001b[1m└ \u001b[22m\u001b[39m\u001b[90m@ Plots ~/.julia/packages/Plots/modjX/src/axes.jl:628\u001b[39m\n",
      "\u001b[33m\u001b[1m┌ \u001b[22m\u001b[39m\u001b[33m\u001b[1mWarning: \u001b[22m\u001b[39mInvalid limits for y axis. Limits should be a symbol, or a two-element tuple or vector of numbers.\n",
      "\u001b[33m\u001b[1m│ \u001b[22m\u001b[39mylims = (0:1024,)\n",
      "\u001b[33m\u001b[1m└ \u001b[22m\u001b[39m\u001b[90m@ Plots ~/.julia/packages/Plots/modjX/src/axes.jl:628\u001b[39m\n"
     ]
    }
   ],
   "source": [
    "plotmeasures(a)"
   ]
  },
  {
   "cell_type": "markdown",
   "id": "b67b5634-c150-4c87-ac6e-70f3a8789812",
   "metadata": {
    "slideshow": {
     "slide_type": "slide"
    }
   },
   "source": [
    "## Hadamard\n",
    "\n",
    "The next operation we will meet is one of the most famous in quantum computing: the **Hadamard gate**. It is typically denoted by $H$, and represented as such in a circuit diagram:\n",
    "\n",
    "\\begin{align}\n",
    "& H =\\frac{1}{\\sqrt{2}} \\begin{bmatrix} 1 & 1 \\\\ 1 & -1 \\end{bmatrix} \\\\\n",
    "\\end{align}\n",
    " \n"
   ]
  },
  {
   "cell_type": "code",
   "execution_count": 108,
   "id": "51192f44-f402-4b6e-8251-1a5bd1812d73",
   "metadata": {},
   "outputs": [
    {
     "data": {
      "image/svg+xml": [
       "<?xml version=\"1.0\" encoding=\"UTF-8\"?>\n",
       "<svg xmlns=\"http://www.w3.org/2000/svg\" xmlns:xlink=\"http://www.w3.org/1999/xlink\" width=\"102pt\" height=\"90pt\" viewBox=\"0 0 102 90\" version=\"1.1\">\n",
       "<defs>\n",
       "<g>\n",
       "<symbol overflow=\"visible\" id=\"glyph-8266520-0\">\n",
       "<path style=\"stroke:none;\" d=\"M 0.8125 2.828125 L 0.8125 -11.28125 L 8.8125 -11.28125 L 8.8125 2.828125 Z M 1.71875 1.9375 L 7.921875 1.9375 L 7.921875 -10.390625 L 1.71875 -10.390625 Z M 1.71875 1.9375 \"/>\n",
       "</symbol>\n",
       "<symbol overflow=\"visible\" id=\"glyph-8266520-1\">\n",
       "<path style=\"stroke:none;\" d=\"M 1.078125 -11.671875 L 2.65625 -11.671875 L 2.65625 -6.890625 L 6.984375 -6.890625 L 6.984375 -11.671875 L 8.5625 -11.671875 L 8.5625 0 L 6.984375 0 L 6.984375 -5.5625 L 2.65625 -5.5625 L 2.65625 0 L 1.078125 0 Z M 1.078125 -11.671875 \"/>\n",
       "</symbol>\n",
       "</g>\n",
       "</defs>\n",
       "<g id=\"surface68\">\n",
       "<path style=\"fill:none;stroke-width:1;stroke-linecap:butt;stroke-linejoin:miter;stroke:rgb(0%,0%,0%);stroke-opacity:1;stroke-miterlimit:10;\" d=\"M 39 34.5 L 39 10.5 L 63 10.5 L 63 34.5 Z M 39 34.5 \"/>\n",
       "<g style=\"fill:rgb(0%,0%,0%);fill-opacity:1;\">\n",
       "  <use xlink:href=\"#glyph-8266520-1\" x=\"46.183594\" y=\"28.332031\"/>\n",
       "</g>\n",
       "<path style=\"fill:none;stroke-width:1;stroke-linecap:butt;stroke-linejoin:miter;stroke:rgb(0%,0%,0%);stroke-opacity:1;stroke-miterlimit:10;\" d=\"M 25.5 22.5 L 39 22.5 \"/>\n",
       "<path style=\"fill:none;stroke-width:1;stroke-linecap:butt;stroke-linejoin:miter;stroke:rgb(0%,0%,0%);stroke-opacity:1;stroke-miterlimit:10;\" d=\"M 63 22.5 L 76.5 22.5 \"/>\n",
       "<path style=\"fill:none;stroke-width:1;stroke-linecap:butt;stroke-linejoin:miter;stroke:rgb(0%,0%,0%);stroke-opacity:1;stroke-miterlimit:10;\" d=\"M 76.5 22.5 L 76.5 22.5 \"/>\n",
       "<path style=\"fill:none;stroke-width:1;stroke-linecap:butt;stroke-linejoin:miter;stroke:rgb(0%,0%,0%);stroke-opacity:1;stroke-miterlimit:10;\" d=\"M 76.5 67.5 L 25.5 67.5 \"/>\n",
       "</g>\n",
       "</svg>\n"
      ],
      "text/plain": []
     },
     "execution_count": 108,
     "metadata": {},
     "output_type": "execute_result"
    }
   ],
   "source": [
    "H_gate_qc = chain(2, put(1 => H))\n",
    "plot(H_gate_qc)"
   ]
  },
  {
   "cell_type": "markdown",
   "id": "195806c9-e41a-4142-ba21-593daea7d359",
   "metadata": {
    "slideshow": {
     "slide_type": "slide"
    }
   },
   "source": [
    "The Hadamard is special because it can create a uniform superposition of the two states $\\vert 0 \\rangle$ and $\\vert 1\\rangle$:\n",
    "\\begin{align}\n",
    "& H\\vert 0\\rangle =\\frac{1}{\\sqrt{2}} (\\vert 0\\rangle + \\vert 1\\rangle)\n",
    "& H\\vert 1\\rangle =\\frac{1}{\\sqrt{2}} (\\vert 0\\rangle - \\vert 1\\rangle)\n",
    "\\end{align}\n",
    " "
   ]
  },
  {
   "cell_type": "code",
   "execution_count": 109,
   "id": "d7a0b1e1-1bff-44dd-8cea-9e787de0edae",
   "metadata": {
    "slideshow": {
     "slide_type": "subslide"
    }
   },
   "outputs": [
    {
     "data": {
      "text/plain": [
       "ArrayReg{2, ComplexF64, Array...}\n",
       "    active qubits: 2/2\n",
       "    nlevel: 2"
      ]
     },
     "execution_count": 109,
     "metadata": {},
     "output_type": "execute_result"
    }
   ],
   "source": [
    "q1 = ArrayReg(bit\"00\")\n",
    "st = q1 |> H_gate_qc"
   ]
  },
  {
   "cell_type": "code",
   "execution_count": 110,
   "id": "976d15e6-7f92-4995-9b78-3e094cdca4e3",
   "metadata": {},
   "outputs": [
    {
     "data": {
      "text/plain": [
       "4×1 Matrix{ComplexF64}:\n",
       " 0.7071067811865475 + 0.0im\n",
       " 0.7071067811865475 + 0.0im\n",
       "                0.0 + 0.0im\n",
       "                0.0 + 0.0im"
      ]
     },
     "execution_count": 110,
     "metadata": {},
     "output_type": "execute_result"
    }
   ],
   "source": [
    "state(st)"
   ]
  },
  {
   "cell_type": "code",
   "execution_count": 112,
   "id": "58393e04-bb69-44d2-94e5-1c0fbe76efbb",
   "metadata": {
    "slideshow": {
     "slide_type": "subslide"
    }
   },
   "outputs": [],
   "source": [
    "a = (q1 |> H_gate_qc -> measure(H_gate_qc, nshots=1024));"
   ]
  },
  {
   "cell_type": "code",
   "execution_count": 113,
   "id": "e48f001d-8d6d-4f35-9e83-d81e9c1cf7ef",
   "metadata": {},
   "outputs": [
    {
     "data": {
      "image/svg+xml": [
       "<?xml version=\"1.0\" encoding=\"utf-8\"?>\n",
       "<svg xmlns=\"http://www.w3.org/2000/svg\" xmlns:xlink=\"http://www.w3.org/1999/xlink\" width=\"250\" height=\"400\" viewBox=\"0 0 1000 1600\">\n",
       "<defs>\n",
       "  <clipPath id=\"clip690\">\n",
       "    <rect x=\"0\" y=\"0\" width=\"1000\" height=\"1600\"/>\n",
       "  </clipPath>\n",
       "</defs>\n",
       "<path clip-path=\"url(#clip690)\" d=\"M0 1600 L1000 1600 L1000 0 L0 0  Z\" fill=\"#ffffff\" fill-rule=\"evenodd\" fill-opacity=\"1\"/>\n",
       "<defs>\n",
       "  <clipPath id=\"clip691\">\n",
       "    <rect x=\"320\" y=\"160\" width=\"1000\" height=\"1121\"/>\n",
       "  </clipPath>\n",
       "</defs>\n",
       "<path clip-path=\"url(#clip690)\" d=\"M47.2441 1552.76 L952.756 1552.76 L952.756 47.2441 L47.2441 47.2441  Z\" fill=\"#ffffff\" fill-rule=\"evenodd\" fill-opacity=\"1\"/>\n",
       "<defs>\n",
       "  <clipPath id=\"clip692\">\n",
       "    <rect x=\"47\" y=\"47\" width=\"907\" height=\"1507\"/>\n",
       "  </clipPath>\n",
       "</defs>\n",
       "<path clip-path=\"url(#clip692)\" d=\"M97.0489 89.8529 L97.0489 1510.15 L266.712 1510.15 L266.712 89.8529 L97.0489 89.8529 L97.0489 89.8529  Z\" fill=\"#add8e6\" fill-rule=\"evenodd\" fill-opacity=\"1\"/>\n",
       "<polyline clip-path=\"url(#clip692)\" style=\"stroke:#add8e6; stroke-linecap:round; stroke-linejoin:round; stroke-width:4; stroke-opacity:1; fill:none\" points=\"97.0489,89.8529 97.0489,1510.15 266.712,1510.15 266.712,89.8529 97.0489,89.8529 \"/>\n",
       "<path clip-path=\"url(#clip692)\" d=\"M309.128 133.554 L309.128 1510.15 L478.792 1510.15 L478.792 133.554 L309.128 133.554 L309.128 133.554  Z\" fill=\"#add8e6\" fill-rule=\"evenodd\" fill-opacity=\"1\"/>\n",
       "<polyline clip-path=\"url(#clip692)\" style=\"stroke:#add8e6; stroke-linecap:round; stroke-linejoin:round; stroke-width:4; stroke-opacity:1; fill:none\" points=\"309.128,133.554 309.128,1510.15 478.792,1510.15 478.792,133.554 309.128,133.554 \"/>\n",
       "<path clip-path=\"url(#clip692)\" d=\"M521.208 1510.15 L521.208 1510.15 L690.872 1510.15 L690.872 1510.15 L521.208 1510.15 L521.208 1510.15  Z\" fill=\"#add8e6\" fill-rule=\"evenodd\" fill-opacity=\"1\"/>\n",
       "<polyline clip-path=\"url(#clip692)\" style=\"stroke:#add8e6; stroke-linecap:round; stroke-linejoin:round; stroke-width:4; stroke-opacity:1; fill:none\" points=\"521.208,1510.15 521.208,1510.15 690.872,1510.15 521.208,1510.15 \"/>\n",
       "<path clip-path=\"url(#clip692)\" d=\"M733.288 1510.15 L733.288 1510.15 L902.951 1510.15 L902.951 1510.15 L733.288 1510.15 L733.288 1510.15  Z\" fill=\"#add8e6\" fill-rule=\"evenodd\" fill-opacity=\"1\"/>\n",
       "<polyline clip-path=\"url(#clip692)\" style=\"stroke:#add8e6; stroke-linecap:round; stroke-linejoin:round; stroke-width:4; stroke-opacity:1; fill:none\" points=\"733.288,1510.15 733.288,1510.15 902.951,1510.15 733.288,1510.15 \"/>\n",
       "<circle clip-path=\"url(#clip692)\" style=\"fill:#add8e6; stroke:none; fill-opacity:0\" cx=\"75.8409\" cy=\"89.8529\" r=\"2\"/>\n",
       "<circle clip-path=\"url(#clip692)\" style=\"fill:#add8e6; stroke:none; fill-opacity:0\" cx=\"287.92\" cy=\"133.554\" r=\"2\"/>\n",
       "<circle clip-path=\"url(#clip692)\" style=\"fill:#add8e6; stroke:none; fill-opacity:0\" cx=\"500\" cy=\"1510.15\" r=\"2\"/>\n",
       "<circle clip-path=\"url(#clip692)\" style=\"fill:#add8e6; stroke:none; fill-opacity:0\" cx=\"712.08\" cy=\"1510.15\" r=\"2\"/>\n",
       "<circle clip-path=\"url(#clip692)\" style=\"fill:#add8e6; stroke:none; fill-opacity:0\" cx=\"924.159\" cy=\"89.8529\" r=\"2\"/>\n",
       "<circle clip-path=\"url(#clip692)\" style=\"fill:#e26f46; stroke:none; fill-opacity:1\" cx=\"181.881\" cy=\"1507.42\" r=\"2\"/>\n",
       "<circle clip-path=\"url(#clip692)\" style=\"fill:#e26f46; stroke:none; fill-opacity:1\" cx=\"393.96\" cy=\"1507.42\" r=\"2\"/>\n",
       "<circle clip-path=\"url(#clip692)\" style=\"fill:#e26f46; stroke:none; fill-opacity:1\" cx=\"606.04\" cy=\"1507.42\" r=\"2\"/>\n",
       "<circle clip-path=\"url(#clip692)\" style=\"fill:#e26f46; stroke:none; fill-opacity:1\" cx=\"818.119\" cy=\"1507.42\" r=\"2\"/>\n",
       "<path clip-path=\"url(#clip690)\" d=\"M114.798 1474.26 L114.798 1557.22 L107.911 1557.22 L107.911 1474.26 L114.798 1474.26 Z\" fill=\"#000000\" fill-rule=\"evenodd\" fill-opacity=\"1\" /><path clip-path=\"url(#clip690)\" d=\"M151.701 1482.56 Q145.382 1482.56 142.182 1488.8 Q139.022 1495 139.022 1507.48 Q139.022 1519.91 142.182 1526.15 Q145.382 1532.35 151.701 1532.35 Q158.061 1532.35 161.221 1526.15 Q164.421 1519.91 164.421 1507.48 Q164.421 1495 161.221 1488.8 Q158.061 1482.56 151.701 1482.56 M151.701 1476.08 Q161.869 1476.08 167.216 1484.14 Q172.604 1492.16 172.604 1507.48 Q172.604 1522.75 167.216 1530.81 Q161.869 1538.83 151.701 1538.83 Q141.534 1538.83 136.146 1530.81 Q130.799 1522.75 130.799 1507.48 Q130.799 1492.16 136.146 1484.14 Q141.534 1476.08 151.701 1476.08 Z\" fill=\"#000000\" fill-rule=\"evenodd\" fill-opacity=\"1\" /><path clip-path=\"url(#clip690)\" d=\"M204.485 1482.56 Q198.165 1482.56 194.965 1488.8 Q191.805 1495 191.805 1507.48 Q191.805 1519.91 194.965 1526.15 Q198.165 1532.35 204.485 1532.35 Q210.845 1532.35 214.004 1526.15 Q217.205 1519.91 217.205 1507.48 Q217.205 1495 214.004 1488.8 Q210.845 1482.56 204.485 1482.56 M204.485 1476.08 Q214.652 1476.08 220 1484.14 Q225.387 1492.16 225.387 1507.48 Q225.387 1522.75 220 1530.81 Q214.652 1538.83 204.485 1538.83 Q194.317 1538.83 188.929 1530.81 Q183.582 1522.75 183.582 1507.48 Q183.582 1492.16 188.929 1484.14 Q194.317 1476.08 204.485 1476.08 Z\" fill=\"#000000\" fill-rule=\"evenodd\" fill-opacity=\"1\" /><path clip-path=\"url(#clip690)\" d=\"M255.85 1511.65 L244.427 1548.59 L237.54 1548.59 L248.964 1511.65 L237.54 1474.7 L244.427 1474.7 L255.85 1511.65 Z\" fill=\"#000000\" fill-rule=\"evenodd\" fill-opacity=\"1\" /><path clip-path=\"url(#clip690)\" d=\"M326.877 1474.26 L326.877 1557.22 L319.991 1557.22 L319.991 1474.26 L326.877 1474.26 Z\" fill=\"#000000\" fill-rule=\"evenodd\" fill-opacity=\"1\" /><path clip-path=\"url(#clip690)\" d=\"M363.781 1482.56 Q357.462 1482.56 354.261 1488.8 Q351.102 1495 351.102 1507.48 Q351.102 1519.91 354.261 1526.15 Q357.462 1532.35 363.781 1532.35 Q370.141 1532.35 373.301 1526.15 Q376.501 1519.91 376.501 1507.48 Q376.501 1495 373.301 1488.8 Q370.141 1482.56 363.781 1482.56 M363.781 1476.08 Q373.949 1476.08 379.296 1484.14 Q384.684 1492.16 384.684 1507.48 Q384.684 1522.75 379.296 1530.81 Q373.949 1538.83 363.781 1538.83 Q353.613 1538.83 348.226 1530.81 Q342.878 1522.75 342.878 1507.48 Q342.878 1492.16 348.226 1484.14 Q353.613 1476.08 363.781 1476.08 Z\" fill=\"#000000\" fill-rule=\"evenodd\" fill-opacity=\"1\" /><path clip-path=\"url(#clip690)\" d=\"M400.482 1530.77 L413.85 1530.77 L413.85 1484.63 L399.307 1487.55 L399.307 1480.09 L413.769 1477.18 L421.952 1477.18 L421.952 1530.77 L435.32 1530.77 L435.32 1537.66 L400.482 1537.66 L400.482 1530.77 Z\" fill=\"#000000\" fill-rule=\"evenodd\" fill-opacity=\"1\" /><path clip-path=\"url(#clip690)\" d=\"M467.93 1511.65 L456.506 1548.59 L449.62 1548.59 L461.043 1511.65 L449.62 1474.7 L456.506 1474.7 L467.93 1511.65 Z\" fill=\"#000000\" fill-rule=\"evenodd\" fill-opacity=\"1\" /><path clip-path=\"url(#clip690)\" d=\"M538.957 1474.26 L538.957 1557.22 L532.07 1557.22 L532.07 1474.26 L538.957 1474.26 Z\" fill=\"#000000\" fill-rule=\"evenodd\" fill-opacity=\"1\" /><path clip-path=\"url(#clip690)\" d=\"M559.778 1530.77 L573.146 1530.77 L573.146 1484.63 L558.604 1487.55 L558.604 1480.09 L573.065 1477.18 L581.248 1477.18 L581.248 1530.77 L594.616 1530.77 L594.616 1537.66 L559.778 1537.66 L559.778 1530.77 Z\" fill=\"#000000\" fill-rule=\"evenodd\" fill-opacity=\"1\" /><path clip-path=\"url(#clip690)\" d=\"M628.644 1482.56 Q622.324 1482.56 619.124 1488.8 Q615.964 1495 615.964 1507.48 Q615.964 1519.91 619.124 1526.15 Q622.324 1532.35 628.644 1532.35 Q635.004 1532.35 638.163 1526.15 Q641.364 1519.91 641.364 1507.48 Q641.364 1495 638.163 1488.8 Q635.004 1482.56 628.644 1482.56 M628.644 1476.08 Q638.812 1476.08 644.159 1484.14 Q649.546 1492.16 649.546 1507.48 Q649.546 1522.75 644.159 1530.81 Q638.812 1538.83 628.644 1538.83 Q618.476 1538.83 613.088 1530.81 Q607.741 1522.75 607.741 1507.48 Q607.741 1492.16 613.088 1484.14 Q618.476 1476.08 628.644 1476.08 Z\" fill=\"#000000\" fill-rule=\"evenodd\" fill-opacity=\"1\" /><path clip-path=\"url(#clip690)\" d=\"M680.009 1511.65 L668.586 1548.59 L661.699 1548.59 L673.123 1511.65 L661.699 1474.7 L668.586 1474.7 L680.009 1511.65 Z\" fill=\"#000000\" fill-rule=\"evenodd\" fill-opacity=\"1\" /><path clip-path=\"url(#clip690)\" d=\"M751.036 1474.26 L751.036 1557.22 L744.15 1557.22 L744.15 1474.26 L751.036 1474.26 Z\" fill=\"#000000\" fill-rule=\"evenodd\" fill-opacity=\"1\" /><path clip-path=\"url(#clip690)\" d=\"M771.858 1530.77 L785.226 1530.77 L785.226 1484.63 L770.683 1487.55 L770.683 1480.09 L785.145 1477.18 L793.328 1477.18 L793.328 1530.77 L806.696 1530.77 L806.696 1537.66 L771.858 1537.66 L771.858 1530.77 Z\" fill=\"#000000\" fill-rule=\"evenodd\" fill-opacity=\"1\" /><path clip-path=\"url(#clip690)\" d=\"M824.641 1530.77 L838.009 1530.77 L838.009 1484.63 L823.467 1487.55 L823.467 1480.09 L837.928 1477.18 L846.111 1477.18 L846.111 1530.77 L859.479 1530.77 L859.479 1537.66 L824.641 1537.66 L824.641 1530.77 Z\" fill=\"#000000\" fill-rule=\"evenodd\" fill-opacity=\"1\" /><path clip-path=\"url(#clip690)\" d=\"M892.089 1511.65 L880.665 1548.59 L873.779 1548.59 L885.202 1511.65 L873.779 1474.7 L880.665 1474.7 L892.089 1511.65 Z\" fill=\"#000000\" fill-rule=\"evenodd\" fill-opacity=\"1\" /><circle clip-path=\"url(#clip692)\" style=\"fill:#3da44d; stroke:none; fill-opacity:1\" cx=\"181.881\" cy=\"89.8529\" r=\"2\"/>\n",
       "<circle clip-path=\"url(#clip692)\" style=\"fill:#3da44d; stroke:none; fill-opacity:1\" cx=\"393.96\" cy=\"89.8529\" r=\"2\"/>\n",
       "<circle clip-path=\"url(#clip692)\" style=\"fill:#3da44d; stroke:none; fill-opacity:1\" cx=\"606.04\" cy=\"89.8529\" r=\"2\"/>\n",
       "<circle clip-path=\"url(#clip692)\" style=\"fill:#3da44d; stroke:none; fill-opacity:1\" cx=\"818.119\" cy=\"89.8529\" r=\"2\"/>\n",
       "<path clip-path=\"url(#clip690)\" d=\"M111.213 59.6129 L143.336 59.6129 L143.336 66.4995 L118.707 66.4995 L118.707 81.3258 Q120.489 80.7181 122.272 80.4346 Q124.054 80.1105 125.836 80.1105 Q135.964 80.1105 141.878 85.6602 Q147.792 91.21 147.792 100.689 Q147.792 110.452 141.716 115.88 Q135.64 121.268 124.581 121.268 Q120.773 121.268 116.803 120.62 Q112.874 119.971 108.661 118.675 L108.661 110.452 Q112.306 112.437 116.195 113.409 Q120.084 114.381 124.419 114.381 Q131.427 114.381 135.518 110.695 Q139.609 107.008 139.609 100.689 Q139.609 94.3697 135.518 90.6834 Q131.427 86.997 124.419 86.997 Q121.137 86.997 117.856 87.7262 Q114.615 88.4554 111.213 89.9947 L111.213 59.6129 Z\" fill=\"#000000\" fill-rule=\"evenodd\" fill-opacity=\"1\" /><path clip-path=\"url(#clip690)\" d=\"M170.963 113.206 L199.522 113.206 L199.522 120.093 L161.12 120.093 L161.12 113.206 Q165.778 108.386 173.799 100.284 Q181.86 92.1417 183.926 89.7922 Q187.856 85.3767 189.395 82.3385 Q190.975 79.2598 190.975 76.3026 Q190.975 71.4821 187.572 68.4439 Q184.21 65.4057 178.782 65.4057 Q174.933 65.4057 170.639 66.7425 Q166.386 68.0793 161.525 70.7934 L161.525 62.5296 Q166.467 60.5446 170.761 59.5319 Q175.055 58.5192 178.62 58.5192 Q188.018 58.5192 193.608 63.2182 Q199.198 67.9173 199.198 75.776 Q199.198 79.5029 197.78 82.8651 Q196.403 86.1869 192.717 90.7239 Q191.704 91.8986 186.276 97.5294 Q180.848 103.12 170.963 113.206 Z\" fill=\"#000000\" fill-rule=\"evenodd\" fill-opacity=\"1\" /><path clip-path=\"url(#clip690)\" d=\"M234.198 65.0006 Q227.879 65.0006 224.678 71.239 Q221.519 77.4369 221.519 89.9137 Q221.519 102.35 224.678 108.588 Q227.879 114.786 234.198 114.786 Q240.558 114.786 243.718 108.588 Q246.918 102.35 246.918 89.9137 Q246.918 77.4369 243.718 71.239 Q240.558 65.0006 234.198 65.0006 M234.198 58.5192 Q244.366 58.5192 249.713 66.5805 Q255.101 74.6013 255.101 89.9137 Q255.101 105.186 249.713 113.247 Q244.366 121.268 234.198 121.268 Q224.03 121.268 218.643 113.247 Q213.295 105.186 213.295 89.9137 Q213.295 74.6013 218.643 66.5805 Q224.03 58.5192 234.198 58.5192 Z\" fill=\"#000000\" fill-rule=\"evenodd\" fill-opacity=\"1\" /><path clip-path=\"url(#clip690)\" d=\"M322.867 59.6129 L354.991 59.6129 L354.991 66.4995 L330.361 66.4995 L330.361 81.3258 Q332.143 80.7181 333.926 80.4346 Q335.708 80.1105 337.491 80.1105 Q347.618 80.1105 353.532 85.6602 Q359.447 91.21 359.447 100.689 Q359.447 110.452 353.37 115.88 Q347.294 121.268 336.235 121.268 Q332.427 121.268 328.457 120.62 Q324.528 119.971 320.315 118.675 L320.315 110.452 Q323.961 112.437 327.849 113.409 Q331.738 114.381 336.073 114.381 Q343.081 114.381 347.172 110.695 Q351.264 107.008 351.264 100.689 Q351.264 94.3697 347.172 90.6834 Q343.081 86.997 336.073 86.997 Q332.792 86.997 329.51 87.7262 Q326.27 88.4554 322.867 89.9947 L322.867 59.6129 Z\" fill=\"#000000\" fill-rule=\"evenodd\" fill-opacity=\"1\" /><path clip-path=\"url(#clip690)\" d=\"M393.069 65.0006 Q386.75 65.0006 383.549 71.239 Q380.39 77.4369 380.39 89.9137 Q380.39 102.35 383.549 108.588 Q386.75 114.786 393.069 114.786 Q399.429 114.786 402.589 108.588 Q405.789 102.35 405.789 89.9137 Q405.789 77.4369 402.589 71.239 Q399.429 65.0006 393.069 65.0006 M393.069 58.5192 Q403.237 58.5192 408.584 66.5805 Q413.972 74.6013 413.972 89.9137 Q413.972 105.186 408.584 113.247 Q403.237 121.268 393.069 121.268 Q382.901 121.268 377.514 113.247 Q372.166 105.186 372.166 89.9137 Q372.166 74.6013 377.514 66.5805 Q382.901 58.5192 393.069 58.5192 Z\" fill=\"#000000\" fill-rule=\"evenodd\" fill-opacity=\"1\" /><path clip-path=\"url(#clip690)\" d=\"M450.835 66.7425 L430.175 99.0282 L450.835 99.0282 L450.835 66.7425 M448.688 59.6129 L458.977 59.6129 L458.977 99.0282 L467.606 99.0282 L467.606 105.834 L458.977 105.834 L458.977 120.093 L450.835 120.093 L450.835 105.834 L423.532 105.834 L423.532 97.9345 L448.688 59.6129 Z\" fill=\"#000000\" fill-rule=\"evenodd\" fill-opacity=\"1\" /><path clip-path=\"url(#clip690)\" d=\"M606.04 65.0006 Q599.72 65.0006 596.52 71.239 Q593.36 77.4369 593.36 89.9137 Q593.36 102.35 596.52 108.588 Q599.72 114.786 606.04 114.786 Q612.4 114.786 615.559 108.588 Q618.76 102.35 618.76 89.9137 Q618.76 77.4369 615.559 71.239 Q612.4 65.0006 606.04 65.0006 M606.04 58.5192 Q616.208 58.5192 621.555 66.5805 Q626.942 74.6013 626.942 89.9137 Q626.942 105.186 621.555 113.247 Q616.208 121.268 606.04 121.268 Q595.872 121.268 590.484 113.247 Q585.137 105.186 585.137 89.9137 Q585.137 74.6013 590.484 66.5805 Q595.872 58.5192 606.04 58.5192 Z\" fill=\"#000000\" fill-rule=\"evenodd\" fill-opacity=\"1\" /><path clip-path=\"url(#clip690)\" d=\"M818.119 65.0006 Q811.8 65.0006 808.6 71.239 Q805.44 77.4369 805.44 89.9137 Q805.44 102.35 808.6 108.588 Q811.8 114.786 818.119 114.786 Q824.479 114.786 827.639 108.588 Q830.839 102.35 830.839 89.9137 Q830.839 77.4369 827.639 71.239 Q824.479 65.0006 818.119 65.0006 M818.119 58.5192 Q828.287 58.5192 833.634 66.5805 Q839.022 74.6013 839.022 89.9137 Q839.022 105.186 833.634 113.247 Q828.287 121.268 818.119 121.268 Q807.952 121.268 802.564 113.247 Q797.217 105.186 797.217 89.9137 Q797.217 74.6013 802.564 66.5805 Q807.952 58.5192 818.119 58.5192 Z\" fill=\"#000000\" fill-rule=\"evenodd\" fill-opacity=\"1\" /></svg>\n"
      ]
     },
     "execution_count": 113,
     "metadata": {},
     "output_type": "execute_result"
    },
    {
     "name": "stderr",
     "output_type": "stream",
     "text": [
      "\u001b[33m\u001b[1m┌ \u001b[22m\u001b[39m\u001b[33m\u001b[1mWarning: \u001b[22m\u001b[39mInvalid limits for x axis. Limits should be a symbol, or a two-element tuple or vector of numbers.\n",
      "\u001b[33m\u001b[1m│ \u001b[22m\u001b[39mxlims = (0:4,)\n",
      "\u001b[33m\u001b[1m└ \u001b[22m\u001b[39m\u001b[90m@ Plots ~/.julia/packages/Plots/modjX/src/axes.jl:628\u001b[39m\n",
      "\u001b[33m\u001b[1m┌ \u001b[22m\u001b[39m\u001b[33m\u001b[1mWarning: \u001b[22m\u001b[39mInvalid limits for y axis. Limits should be a symbol, or a two-element tuple or vector of numbers.\n",
      "\u001b[33m\u001b[1m│ \u001b[22m\u001b[39mylims = (0:520,)\n",
      "\u001b[33m\u001b[1m└ \u001b[22m\u001b[39m\u001b[90m@ Plots ~/.julia/packages/Plots/modjX/src/axes.jl:628\u001b[39m\n",
      "\u001b[33m\u001b[1m┌ \u001b[22m\u001b[39m\u001b[33m\u001b[1mWarning: \u001b[22m\u001b[39mInvalid limits for x axis. Limits should be a symbol, or a two-element tuple or vector of numbers.\n",
      "\u001b[33m\u001b[1m│ \u001b[22m\u001b[39mxlims = (0:4,)\n",
      "\u001b[33m\u001b[1m└ \u001b[22m\u001b[39m\u001b[90m@ Plots ~/.julia/packages/Plots/modjX/src/axes.jl:628\u001b[39m\n",
      "\u001b[33m\u001b[1m┌ \u001b[22m\u001b[39m\u001b[33m\u001b[1mWarning: \u001b[22m\u001b[39mInvalid limits for y axis. Limits should be a symbol, or a two-element tuple or vector of numbers.\n",
      "\u001b[33m\u001b[1m│ \u001b[22m\u001b[39mylims = (0:520,)\n",
      "\u001b[33m\u001b[1m└ \u001b[22m\u001b[39m\u001b[90m@ Plots ~/.julia/packages/Plots/modjX/src/axes.jl:628\u001b[39m\n",
      "\u001b[33m\u001b[1m┌ \u001b[22m\u001b[39m\u001b[33m\u001b[1mWarning: \u001b[22m\u001b[39mInvalid limits for x axis. Limits should be a symbol, or a two-element tuple or vector of numbers.\n",
      "\u001b[33m\u001b[1m│ \u001b[22m\u001b[39mxlims = (0:4,)\n",
      "\u001b[33m\u001b[1m└ \u001b[22m\u001b[39m\u001b[90m@ Plots ~/.julia/packages/Plots/modjX/src/axes.jl:628\u001b[39m\n",
      "\u001b[33m\u001b[1m┌ \u001b[22m\u001b[39m\u001b[33m\u001b[1mWarning: \u001b[22m\u001b[39mInvalid limits for y axis. Limits should be a symbol, or a two-element tuple or vector of numbers.\n",
      "\u001b[33m\u001b[1m│ \u001b[22m\u001b[39mylims = (0:520,)\n",
      "\u001b[33m\u001b[1m└ \u001b[22m\u001b[39m\u001b[90m@ Plots ~/.julia/packages/Plots/modjX/src/axes.jl:628\u001b[39m\n",
      "\u001b[33m\u001b[1m┌ \u001b[22m\u001b[39m\u001b[33m\u001b[1mWarning: \u001b[22m\u001b[39mInvalid limits for x axis. Limits should be a symbol, or a two-element tuple or vector of numbers.\n",
      "\u001b[33m\u001b[1m│ \u001b[22m\u001b[39mxlims = (0:4,)\n",
      "\u001b[33m\u001b[1m└ \u001b[22m\u001b[39m\u001b[90m@ Plots ~/.julia/packages/Plots/modjX/src/axes.jl:628\u001b[39m\n",
      "\u001b[33m\u001b[1m┌ \u001b[22m\u001b[39m\u001b[33m\u001b[1mWarning: \u001b[22m\u001b[39mInvalid limits for y axis. Limits should be a symbol, or a two-element tuple or vector of numbers.\n",
      "\u001b[33m\u001b[1m│ \u001b[22m\u001b[39mylims = (0:520,)\n",
      "\u001b[33m\u001b[1m└ \u001b[22m\u001b[39m\u001b[90m@ Plots ~/.julia/packages/Plots/modjX/src/axes.jl:628\u001b[39m\n"
     ]
    }
   ],
   "source": [
    "plotmeasures(a)"
   ]
  },
  {
   "cell_type": "markdown",
   "id": "dd22624b-56bf-45ca-986d-0a38cadf6eda",
   "metadata": {
    "slideshow": {
     "slide_type": "slide"
    }
   },
   "source": [
    "# It's just a phase\n",
    "\n",
    "Both the $X$ and the $H$ gate we previously saw affected which basis states appeared in the superposition. We know how to flip the states using $X$, and how to create uniform superpositions. But, how can we change the amplitudes more generally? How do we change their relative magnitudes? In this section, we will learn about operations that change the phase of the amplitudes of a superposition.\n"
   ]
  },
  {
   "cell_type": "markdown",
   "id": "ddcac621-1e59-438a-a0e6-02b2a887c588",
   "metadata": {
    "slideshow": {
     "slide_type": "slide"
    }
   },
   "source": [
    "## Global and relative phases\n",
    "\n",
    "Let's consider an arbitrary quantum state\n",
    "\n",
    "$$ \\vert\\psi\\rangle = \\alpha\\vert 0 \\rangle + \\beta\\vert 1\\rangle$$\n",
    "\n",
    "and separate out the real and complex components of the amplitudes by writing them in polar form, i.e., $\\alpha = ae^{i\\gamma}$ ,$\\beta = be^{i\\phi}$ . We can factor out the complex part:\n",
    "\n",
    "$$ \\vert\\psi\\rangle = ae^{i\\gamma}\\vert 0 \\rangle + be^{i\\phi}\\vert 1\\rangle = e^{i\\gamma}(a\\vert 0\\rangle + be^{i(\\phi -\\gamma)}\\vert 1\\rangle)$$\n",
    "\n",
    "Notice how the term $e^{i\\gamma}$ out front doesn't affect the measurement outcome probabilities at all! Without loss of generality, we can totally ignore this **global phas**e, and describe exactly the same quantum state:\n",
    "\n",
    "$$\\vert \\psi \\rangle = a\\vert 0\\rangle + be^{i(\\phi -\\gamma)}\\vert 1\\rangle = a\\vert 0\\rangle + be^{i\\phi}\\vert 1\\rangle$$"
   ]
  },
  {
   "cell_type": "markdown",
   "id": "6bd36cbb-4ce8-40e5-9fdd-587a32799b1e",
   "metadata": {
    "slideshow": {
     "slide_type": "subslide"
    }
   },
   "source": [
    "This remaining complex value, $e^{i\\phi}$ is known as a **relative phase**. If you look at the measurement outcome probabilities of $\\vert 0\\rangle$ and $\\vert 1\\rangle$, you might notice that this phase doesn't affect them either; we will learn later, though, that it can affect the measurement outcomes if the measurements are performed in a different way.\n"
   ]
  },
  {
   "cell_type": "markdown",
   "id": "efef7676-98db-4621-84b2-b3f22f58d848",
   "metadata": {
    "slideshow": {
     "slide_type": "slide"
    }
   },
   "source": [
    "## Z rotations\n",
    "\n",
    "The $RZ$ gate, or \"$Z$ rotation\" is a quantum gate that modifies the relative phase between $\\vert 0 \\rangle$ and $\\vert 1 \\rangle$. Given some initial state $\\vert\\psi\\rangle = \\alpha\\vert 0\\rangle + \\beta\\vert 1\\rangle$, a  rotation by the amount  (an angle in radians) is\n",
    "\n",
    "$$RZ(\\omega)\\vert \\psi\\rangle = \\alpha \\vert 0\\rangle + \\beta e^{i\\omega} \\vert 1\\rangle$$\n",
    "\n",
    "The matrix representation of $RZ$ is a bit counter-intuitive at first:\n",
    "\n",
    "\\begin{align}\n",
    "& RZ(\\omega) = \\begin{bmatrix} e^{\\frac{-i\\omega}{2}} & 0 \\\\ 0 & e^{\\frac{\\omega}{2}} \\end{bmatrix} \\\\\n",
    "\\end{align}\n",
    " \n"
   ]
  },
  {
   "cell_type": "code",
   "execution_count": 114,
   "id": "8ecb6ca5-9035-4043-ab09-848e3fec5ef8",
   "metadata": {
    "slideshow": {
     "slide_type": "subslide"
    }
   },
   "outputs": [
    {
     "data": {
      "image/svg+xml": [
       "<?xml version=\"1.0\" encoding=\"UTF-8\"?>\n",
       "<svg xmlns=\"http://www.w3.org/2000/svg\" xmlns:xlink=\"http://www.w3.org/1999/xlink\" width=\"153pt\" height=\"90pt\" viewBox=\"0 0 153 90\" version=\"1.1\">\n",
       "<defs>\n",
       "<g>\n",
       "<symbol overflow=\"visible\" id=\"glyph-6865240-0\">\n",
       "<path style=\"stroke:none;\" d=\"M 0.515625 1.765625 L 0.515625 -7.046875 L 5.515625 -7.046875 L 5.515625 1.765625 Z M 1.0625 1.21875 L 4.953125 1.21875 L 4.953125 -6.484375 L 1.0625 -6.484375 Z M 1.0625 1.21875 \"/>\n",
       "</symbol>\n",
       "<symbol overflow=\"visible\" id=\"glyph-6865240-1\">\n",
       "<path style=\"stroke:none;\" d=\"M 3.71875 -3.4375 C 3.96875 -3.375 4.179688 -3.25 4.359375 -3.0625 C 4.535156 -2.882812 4.757812 -2.53125 5.03125 -2 L 6.015625 0 L 4.96875 0 L 4.09375 -1.84375 C 3.84375 -2.363281 3.613281 -2.695312 3.40625 -2.84375 C 3.207031 -3 2.945312 -3.078125 2.625 -3.078125 L 1.6875 -3.078125 L 1.6875 0 L 0.703125 0 L 0.703125 -7.296875 L 2.734375 -7.296875 C 3.535156 -7.296875 4.144531 -7.113281 4.5625 -6.75 C 4.988281 -6.382812 5.203125 -5.863281 5.203125 -5.1875 C 5.203125 -4.695312 5.070312 -4.300781 4.8125 -4 C 4.550781 -3.695312 4.1875 -3.507812 3.71875 -3.4375 Z M 1.6875 -6.484375 L 1.6875 -3.890625 L 2.765625 -3.890625 C 3.242188 -3.890625 3.597656 -3.992188 3.828125 -4.203125 C 4.054688 -4.421875 4.171875 -4.75 4.171875 -5.1875 C 4.171875 -5.601562 4.046875 -5.921875 3.796875 -6.140625 C 3.554688 -6.367188 3.203125 -6.484375 2.734375 -6.484375 Z M 1.6875 -6.484375 \"/>\n",
       "</symbol>\n",
       "<symbol overflow=\"visible\" id=\"glyph-6865240-2\">\n",
       "<path style=\"stroke:none;\" d=\"M 1.109375 -5.484375 L 5.078125 -5.484375 L 5.078125 -4.65625 L 1.9375 -0.734375 L 5.078125 -0.734375 L 5.078125 0 L 0.984375 0 L 0.984375 -0.828125 L 4.125 -4.765625 L 1.109375 -4.765625 Z M 1.109375 -5.484375 \"/>\n",
       "</symbol>\n",
       "<symbol overflow=\"visible\" id=\"glyph-6865240-3\">\n",
       "<path style=\"stroke:none;\" d=\"M 4.328125 -7.59375 C 3.890625 -6.84375 3.5625 -6.097656 3.34375 -5.359375 C 3.132812 -4.628906 3.03125 -3.890625 3.03125 -3.140625 C 3.03125 -2.390625 3.132812 -1.644531 3.34375 -0.90625 C 3.5625 -0.164062 3.890625 0.570312 4.328125 1.3125 L 3.546875 1.3125 C 3.046875 0.539062 2.675781 -0.207031 2.4375 -0.9375 C 2.195312 -1.675781 2.078125 -2.410156 2.078125 -3.140625 C 2.078125 -3.867188 2.195312 -4.597656 2.4375 -5.328125 C 2.675781 -6.066406 3.046875 -6.820312 3.546875 -7.59375 Z M 4.328125 -7.59375 \"/>\n",
       "</symbol>\n",
       "<symbol overflow=\"visible\" id=\"glyph-6865240-4\">\n",
       "<path style=\"stroke:none;\" d=\"M 2.359375 -3.65625 C 2.359375 -3.84375 2.421875 -4 2.546875 -4.125 C 2.671875 -4.257812 2.820312 -4.328125 3 -4.328125 C 3.175781 -4.328125 3.328125 -4.257812 3.453125 -4.125 C 3.585938 -4 3.65625 -3.84375 3.65625 -3.65625 C 3.65625 -3.476562 3.59375 -3.328125 3.46875 -3.203125 C 3.34375 -3.078125 3.1875 -3.015625 3 -3.015625 C 2.8125 -3.015625 2.65625 -3.070312 2.53125 -3.1875 C 2.414062 -3.3125 2.359375 -3.46875 2.359375 -3.65625 Z M 3.015625 -6.640625 C 2.546875 -6.640625 2.195312 -6.390625 1.96875 -5.890625 C 1.75 -5.398438 1.640625 -4.648438 1.640625 -3.640625 C 1.640625 -2.628906 1.75 -1.875 1.96875 -1.375 C 2.195312 -0.882812 2.546875 -0.640625 3.015625 -0.640625 C 3.472656 -0.640625 3.8125 -0.882812 4.03125 -1.375 C 4.257812 -1.875 4.375 -2.628906 4.375 -3.640625 C 4.375 -4.648438 4.257812 -5.398438 4.03125 -5.890625 C 3.8125 -6.390625 3.472656 -6.640625 3.015625 -6.640625 Z M 3.015625 -7.421875 C 3.785156 -7.421875 4.367188 -7.101562 4.765625 -6.46875 C 5.171875 -5.832031 5.375 -4.890625 5.375 -3.640625 C 5.375 -2.390625 5.171875 -1.445312 4.765625 -0.8125 C 4.367188 -0.175781 3.785156 0.140625 3.015625 0.140625 C 2.234375 0.140625 1.644531 -0.175781 1.25 -0.8125 C 0.851562 -1.445312 0.65625 -2.390625 0.65625 -3.640625 C 0.65625 -4.890625 0.851562 -5.832031 1.25 -6.46875 C 1.644531 -7.101562 2.234375 -7.421875 3.015625 -7.421875 Z M 3.015625 -7.421875 \"/>\n",
       "</symbol>\n",
       "<symbol overflow=\"visible\" id=\"glyph-6865240-5\">\n",
       "<path style=\"stroke:none;\" d=\"M 2.390625 -1.484375 L 3.625 -1.484375 L 3.625 0 L 2.390625 0 Z M 2.390625 -1.484375 \"/>\n",
       "</symbol>\n",
       "<symbol overflow=\"visible\" id=\"glyph-6865240-6\">\n",
       "<path style=\"stroke:none;\" d=\"M 1.3125 -0.828125 L 2.859375 -0.828125 L 2.859375 -6.40625 L 1.203125 -6.03125 L 1.203125 -6.921875 L 2.84375 -7.296875 L 3.828125 -7.296875 L 3.828125 -0.828125 L 5.34375 -0.828125 L 5.34375 0 L 1.3125 0 Z M 1.3125 -0.828125 \"/>\n",
       "</symbol>\n",
       "<symbol overflow=\"visible\" id=\"glyph-6865240-7\">\n",
       "<path style=\"stroke:none;\" d=\"M 1.703125 -7.59375 L 2.484375 -7.59375 C 2.972656 -6.820312 3.335938 -6.066406 3.578125 -5.328125 C 3.816406 -4.597656 3.9375 -3.867188 3.9375 -3.140625 C 3.9375 -2.410156 3.816406 -1.675781 3.578125 -0.9375 C 3.335938 -0.195312 2.972656 0.550781 2.484375 1.3125 L 1.703125 1.3125 C 2.128906 0.5625 2.445312 -0.179688 2.65625 -0.921875 C 2.875 -1.660156 2.984375 -2.398438 2.984375 -3.140625 C 2.984375 -3.878906 2.875 -4.617188 2.65625 -5.359375 C 2.445312 -6.097656 2.128906 -6.84375 1.703125 -7.59375 Z M 1.703125 -7.59375 \"/>\n",
       "</symbol>\n",
       "</g>\n",
       "</defs>\n",
       "<g id=\"surface82\">\n",
       "<path style=\"fill:none;stroke-width:1;stroke-linecap:butt;stroke-linejoin:miter;stroke:rgb(0%,0%,0%);stroke-opacity:1;stroke-miterlimit:10;\" d=\"M 50.816406 34.5 L 50.816406 10.5 L 102.183594 10.5 L 102.183594 34.5 Z M 50.816406 34.5 \"/>\n",
       "<g style=\"fill:rgb(0%,0%,0%);fill-opacity:1;\">\n",
       "  <use xlink:href=\"#glyph-6865240-1\" x=\"55.428223\" y=\"26.293945\"/>\n",
       "  <use xlink:href=\"#glyph-6865240-2\" x=\"61.44873\" y=\"26.293945\"/>\n",
       "  <use xlink:href=\"#glyph-6865240-3\" x=\"67.469238\" y=\"26.293945\"/>\n",
       "  <use xlink:href=\"#glyph-6865240-4\" x=\"73.489746\" y=\"26.293945\"/>\n",
       "  <use xlink:href=\"#glyph-6865240-5\" x=\"79.510254\" y=\"26.293945\"/>\n",
       "  <use xlink:href=\"#glyph-6865240-6\" x=\"85.530762\" y=\"26.293945\"/>\n",
       "  <use xlink:href=\"#glyph-6865240-7\" x=\"91.55127\" y=\"26.293945\"/>\n",
       "</g>\n",
       "<path style=\"fill:none;stroke-width:1;stroke-linecap:butt;stroke-linejoin:miter;stroke:rgb(0%,0%,0%);stroke-opacity:1;stroke-miterlimit:10;\" d=\"M 25.5 22.5 L 50.816406 22.5 \"/>\n",
       "<path style=\"fill:none;stroke-width:1;stroke-linecap:butt;stroke-linejoin:miter;stroke:rgb(0%,0%,0%);stroke-opacity:1;stroke-miterlimit:10;\" d=\"M 102.183594 22.5 L 127.5 22.5 \"/>\n",
       "<path style=\"fill:none;stroke-width:1;stroke-linecap:butt;stroke-linejoin:miter;stroke:rgb(0%,0%,0%);stroke-opacity:1;stroke-miterlimit:10;\" d=\"M 127.5 22.5 L 127.5 22.5 \"/>\n",
       "<path style=\"fill:none;stroke-width:1;stroke-linecap:butt;stroke-linejoin:miter;stroke:rgb(0%,0%,0%);stroke-opacity:1;stroke-miterlimit:10;\" d=\"M 127.5 67.5 L 25.5 67.5 \"/>\n",
       "</g>\n",
       "</svg>\n"
      ],
      "text/plain": []
     },
     "execution_count": 114,
     "metadata": {},
     "output_type": "execute_result"
    }
   ],
   "source": [
    "RZ_qc = chain(2, put(1 => Rz(0.1)))\n",
    "plot(RZ_qc)"
   ]
  },
  {
   "cell_type": "code",
   "execution_count": 117,
   "id": "4039e807-0700-409b-8e2d-6b88b5080278",
   "metadata": {
    "slideshow": {
     "slide_type": "subslide"
    }
   },
   "outputs": [
    {
     "data": {
      "text/plain": [
       "ArrayReg{2, ComplexF64, Array...}\n",
       "    active qubits: 2/2\n",
       "    nlevel: 2"
      ]
     },
     "execution_count": 117,
     "metadata": {},
     "output_type": "execute_result"
    }
   ],
   "source": [
    "q0 = ArrayReg(bit\"00\")\n",
    "st = q0 |> RZ_qc"
   ]
  },
  {
   "cell_type": "code",
   "execution_count": 118,
   "id": "66358154-f230-48cb-bdb1-df1ab55705ae",
   "metadata": {},
   "outputs": [
    {
     "data": {
      "text/plain": [
       "4×1 Matrix{ComplexF64}:\n",
       " 0.9987502603949663 - 0.04997916927067833im\n",
       "                0.0 + 0.0im\n",
       "                0.0 + 0.0im\n",
       "                0.0 + 0.0im"
      ]
     },
     "execution_count": 118,
     "metadata": {},
     "output_type": "execute_result"
    }
   ],
   "source": [
    "state(st)"
   ]
  },
  {
   "cell_type": "code",
   "execution_count": 119,
   "id": "46a6d952-aae3-4c17-97eb-a2cf61e11f2e",
   "metadata": {
    "slideshow": {
     "slide_type": "subslide"
    }
   },
   "outputs": [],
   "source": [
    "a = (q0 |> RZ_qc -> measure(RZ_qc, nshots=1024));"
   ]
  },
  {
   "cell_type": "code",
   "execution_count": 120,
   "id": "86989778-7108-4529-953d-d30ef645a183",
   "metadata": {},
   "outputs": [
    {
     "data": {
      "image/svg+xml": [
       "<?xml version=\"1.0\" encoding=\"utf-8\"?>\n",
       "<svg xmlns=\"http://www.w3.org/2000/svg\" xmlns:xlink=\"http://www.w3.org/1999/xlink\" width=\"250\" height=\"400\" viewBox=\"0 0 1000 1600\">\n",
       "<defs>\n",
       "  <clipPath id=\"clip720\">\n",
       "    <rect x=\"0\" y=\"0\" width=\"1000\" height=\"1600\"/>\n",
       "  </clipPath>\n",
       "</defs>\n",
       "<path clip-path=\"url(#clip720)\" d=\"M0 1600 L1000 1600 L1000 0 L0 0  Z\" fill=\"#ffffff\" fill-rule=\"evenodd\" fill-opacity=\"1\"/>\n",
       "<defs>\n",
       "  <clipPath id=\"clip721\">\n",
       "    <rect x=\"320\" y=\"160\" width=\"1000\" height=\"1121\"/>\n",
       "  </clipPath>\n",
       "</defs>\n",
       "<path clip-path=\"url(#clip720)\" d=\"M47.2441 1552.76 L952.756 1552.76 L952.756 47.2441 L47.2441 47.2441  Z\" fill=\"#ffffff\" fill-rule=\"evenodd\" fill-opacity=\"1\"/>\n",
       "<defs>\n",
       "  <clipPath id=\"clip722\">\n",
       "    <rect x=\"47\" y=\"47\" width=\"907\" height=\"1507\"/>\n",
       "  </clipPath>\n",
       "</defs>\n",
       "<path clip-path=\"url(#clip722)\" d=\"M97.0489 89.8529 L97.0489 1510.15 L266.712 1510.15 L266.712 89.8529 L97.0489 89.8529 L97.0489 89.8529  Z\" fill=\"#add8e6\" fill-rule=\"evenodd\" fill-opacity=\"1\"/>\n",
       "<polyline clip-path=\"url(#clip722)\" style=\"stroke:#add8e6; stroke-linecap:round; stroke-linejoin:round; stroke-width:4; stroke-opacity:1; fill:none\" points=\"97.0489,89.8529 97.0489,1510.15 266.712,1510.15 266.712,89.8529 97.0489,89.8529 \"/>\n",
       "<path clip-path=\"url(#clip722)\" d=\"M309.128 1510.15 L309.128 1510.15 L478.792 1510.15 L478.792 1510.15 L309.128 1510.15 L309.128 1510.15  Z\" fill=\"#add8e6\" fill-rule=\"evenodd\" fill-opacity=\"1\"/>\n",
       "<polyline clip-path=\"url(#clip722)\" style=\"stroke:#add8e6; stroke-linecap:round; stroke-linejoin:round; stroke-width:4; stroke-opacity:1; fill:none\" points=\"309.128,1510.15 309.128,1510.15 478.792,1510.15 309.128,1510.15 \"/>\n",
       "<path clip-path=\"url(#clip722)\" d=\"M521.208 1510.15 L521.208 1510.15 L690.872 1510.15 L690.872 1510.15 L521.208 1510.15 L521.208 1510.15  Z\" fill=\"#add8e6\" fill-rule=\"evenodd\" fill-opacity=\"1\"/>\n",
       "<polyline clip-path=\"url(#clip722)\" style=\"stroke:#add8e6; stroke-linecap:round; stroke-linejoin:round; stroke-width:4; stroke-opacity:1; fill:none\" points=\"521.208,1510.15 521.208,1510.15 690.872,1510.15 521.208,1510.15 \"/>\n",
       "<path clip-path=\"url(#clip722)\" d=\"M733.288 1510.15 L733.288 1510.15 L902.951 1510.15 L902.951 1510.15 L733.288 1510.15 L733.288 1510.15  Z\" fill=\"#add8e6\" fill-rule=\"evenodd\" fill-opacity=\"1\"/>\n",
       "<polyline clip-path=\"url(#clip722)\" style=\"stroke:#add8e6; stroke-linecap:round; stroke-linejoin:round; stroke-width:4; stroke-opacity:1; fill:none\" points=\"733.288,1510.15 733.288,1510.15 902.951,1510.15 733.288,1510.15 \"/>\n",
       "<circle clip-path=\"url(#clip722)\" style=\"fill:#add8e6; stroke:none; fill-opacity:0\" cx=\"75.8409\" cy=\"89.8529\" r=\"2\"/>\n",
       "<circle clip-path=\"url(#clip722)\" style=\"fill:#add8e6; stroke:none; fill-opacity:0\" cx=\"287.92\" cy=\"1510.15\" r=\"2\"/>\n",
       "<circle clip-path=\"url(#clip722)\" style=\"fill:#add8e6; stroke:none; fill-opacity:0\" cx=\"500\" cy=\"1510.15\" r=\"2\"/>\n",
       "<circle clip-path=\"url(#clip722)\" style=\"fill:#add8e6; stroke:none; fill-opacity:0\" cx=\"712.08\" cy=\"1510.15\" r=\"2\"/>\n",
       "<circle clip-path=\"url(#clip722)\" style=\"fill:#add8e6; stroke:none; fill-opacity:0\" cx=\"924.159\" cy=\"89.8529\" r=\"2\"/>\n",
       "<circle clip-path=\"url(#clip722)\" style=\"fill:#e26f46; stroke:none; fill-opacity:1\" cx=\"181.881\" cy=\"1508.76\" r=\"2\"/>\n",
       "<circle clip-path=\"url(#clip722)\" style=\"fill:#e26f46; stroke:none; fill-opacity:1\" cx=\"393.96\" cy=\"1508.76\" r=\"2\"/>\n",
       "<circle clip-path=\"url(#clip722)\" style=\"fill:#e26f46; stroke:none; fill-opacity:1\" cx=\"606.04\" cy=\"1508.76\" r=\"2\"/>\n",
       "<circle clip-path=\"url(#clip722)\" style=\"fill:#e26f46; stroke:none; fill-opacity:1\" cx=\"818.119\" cy=\"1508.76\" r=\"2\"/>\n",
       "<path clip-path=\"url(#clip720)\" d=\"M114.798 1475.6 L114.798 1558.57 L107.911 1558.57 L107.911 1475.6 L114.798 1475.6 Z\" fill=\"#000000\" fill-rule=\"evenodd\" fill-opacity=\"1\" /><path clip-path=\"url(#clip720)\" d=\"M151.701 1483.91 Q145.382 1483.91 142.182 1490.15 Q139.022 1496.34 139.022 1508.82 Q139.022 1521.26 142.182 1527.5 Q145.382 1533.69 151.701 1533.69 Q158.061 1533.69 161.221 1527.5 Q164.421 1521.26 164.421 1508.82 Q164.421 1496.34 161.221 1490.15 Q158.061 1483.91 151.701 1483.91 M151.701 1477.43 Q161.869 1477.43 167.216 1485.49 Q172.604 1493.51 172.604 1508.82 Q172.604 1524.09 167.216 1532.15 Q161.869 1540.17 151.701 1540.17 Q141.534 1540.17 136.146 1532.15 Q130.799 1524.09 130.799 1508.82 Q130.799 1493.51 136.146 1485.49 Q141.534 1477.43 151.701 1477.43 Z\" fill=\"#000000\" fill-rule=\"evenodd\" fill-opacity=\"1\" /><path clip-path=\"url(#clip720)\" d=\"M204.485 1483.91 Q198.165 1483.91 194.965 1490.15 Q191.805 1496.34 191.805 1508.82 Q191.805 1521.26 194.965 1527.5 Q198.165 1533.69 204.485 1533.69 Q210.845 1533.69 214.004 1527.5 Q217.205 1521.26 217.205 1508.82 Q217.205 1496.34 214.004 1490.15 Q210.845 1483.91 204.485 1483.91 M204.485 1477.43 Q214.652 1477.43 220 1485.49 Q225.387 1493.51 225.387 1508.82 Q225.387 1524.09 220 1532.15 Q214.652 1540.17 204.485 1540.17 Q194.317 1540.17 188.929 1532.15 Q183.582 1524.09 183.582 1508.82 Q183.582 1493.51 188.929 1485.49 Q194.317 1477.43 204.485 1477.43 Z\" fill=\"#000000\" fill-rule=\"evenodd\" fill-opacity=\"1\" /><path clip-path=\"url(#clip720)\" d=\"M255.85 1512.99 L244.427 1549.94 L237.54 1549.94 L248.964 1512.99 L237.54 1476.05 L244.427 1476.05 L255.85 1512.99 Z\" fill=\"#000000\" fill-rule=\"evenodd\" fill-opacity=\"1\" /><path clip-path=\"url(#clip720)\" d=\"M326.877 1475.6 L326.877 1558.57 L319.991 1558.57 L319.991 1475.6 L326.877 1475.6 Z\" fill=\"#000000\" fill-rule=\"evenodd\" fill-opacity=\"1\" /><path clip-path=\"url(#clip720)\" d=\"M363.781 1483.91 Q357.462 1483.91 354.261 1490.15 Q351.102 1496.34 351.102 1508.82 Q351.102 1521.26 354.261 1527.5 Q357.462 1533.69 363.781 1533.69 Q370.141 1533.69 373.301 1527.5 Q376.501 1521.26 376.501 1508.82 Q376.501 1496.34 373.301 1490.15 Q370.141 1483.91 363.781 1483.91 M363.781 1477.43 Q373.949 1477.43 379.296 1485.49 Q384.684 1493.51 384.684 1508.82 Q384.684 1524.09 379.296 1532.15 Q373.949 1540.17 363.781 1540.17 Q353.613 1540.17 348.226 1532.15 Q342.878 1524.09 342.878 1508.82 Q342.878 1493.51 348.226 1485.49 Q353.613 1477.43 363.781 1477.43 Z\" fill=\"#000000\" fill-rule=\"evenodd\" fill-opacity=\"1\" /><path clip-path=\"url(#clip720)\" d=\"M400.482 1532.11 L413.85 1532.11 L413.85 1485.97 L399.307 1488.89 L399.307 1481.44 L413.769 1478.52 L421.952 1478.52 L421.952 1532.11 L435.32 1532.11 L435.32 1539 L400.482 1539 L400.482 1532.11 Z\" fill=\"#000000\" fill-rule=\"evenodd\" fill-opacity=\"1\" /><path clip-path=\"url(#clip720)\" d=\"M467.93 1512.99 L456.506 1549.94 L449.62 1549.94 L461.043 1512.99 L449.62 1476.05 L456.506 1476.05 L467.93 1512.99 Z\" fill=\"#000000\" fill-rule=\"evenodd\" fill-opacity=\"1\" /><path clip-path=\"url(#clip720)\" d=\"M538.957 1475.6 L538.957 1558.57 L532.07 1558.57 L532.07 1475.6 L538.957 1475.6 Z\" fill=\"#000000\" fill-rule=\"evenodd\" fill-opacity=\"1\" /><path clip-path=\"url(#clip720)\" d=\"M559.778 1532.11 L573.146 1532.11 L573.146 1485.97 L558.604 1488.89 L558.604 1481.44 L573.065 1478.52 L581.248 1478.52 L581.248 1532.11 L594.616 1532.11 L594.616 1539 L559.778 1539 L559.778 1532.11 Z\" fill=\"#000000\" fill-rule=\"evenodd\" fill-opacity=\"1\" /><path clip-path=\"url(#clip720)\" d=\"M628.644 1483.91 Q622.324 1483.91 619.124 1490.15 Q615.964 1496.34 615.964 1508.82 Q615.964 1521.26 619.124 1527.5 Q622.324 1533.69 628.644 1533.69 Q635.004 1533.69 638.163 1527.5 Q641.364 1521.26 641.364 1508.82 Q641.364 1496.34 638.163 1490.15 Q635.004 1483.91 628.644 1483.91 M628.644 1477.43 Q638.812 1477.43 644.159 1485.49 Q649.546 1493.51 649.546 1508.82 Q649.546 1524.09 644.159 1532.15 Q638.812 1540.17 628.644 1540.17 Q618.476 1540.17 613.088 1532.15 Q607.741 1524.09 607.741 1508.82 Q607.741 1493.51 613.088 1485.49 Q618.476 1477.43 628.644 1477.43 Z\" fill=\"#000000\" fill-rule=\"evenodd\" fill-opacity=\"1\" /><path clip-path=\"url(#clip720)\" d=\"M680.009 1512.99 L668.586 1549.94 L661.699 1549.94 L673.123 1512.99 L661.699 1476.05 L668.586 1476.05 L680.009 1512.99 Z\" fill=\"#000000\" fill-rule=\"evenodd\" fill-opacity=\"1\" /><path clip-path=\"url(#clip720)\" d=\"M751.036 1475.6 L751.036 1558.57 L744.15 1558.57 L744.15 1475.6 L751.036 1475.6 Z\" fill=\"#000000\" fill-rule=\"evenodd\" fill-opacity=\"1\" /><path clip-path=\"url(#clip720)\" d=\"M771.858 1532.11 L785.226 1532.11 L785.226 1485.97 L770.683 1488.89 L770.683 1481.44 L785.145 1478.52 L793.328 1478.52 L793.328 1532.11 L806.696 1532.11 L806.696 1539 L771.858 1539 L771.858 1532.11 Z\" fill=\"#000000\" fill-rule=\"evenodd\" fill-opacity=\"1\" /><path clip-path=\"url(#clip720)\" d=\"M824.641 1532.11 L838.009 1532.11 L838.009 1485.97 L823.467 1488.89 L823.467 1481.44 L837.928 1478.52 L846.111 1478.52 L846.111 1532.11 L859.479 1532.11 L859.479 1539 L824.641 1539 L824.641 1532.11 Z\" fill=\"#000000\" fill-rule=\"evenodd\" fill-opacity=\"1\" /><path clip-path=\"url(#clip720)\" d=\"M892.089 1512.99 L880.665 1549.94 L873.779 1549.94 L885.202 1512.99 L873.779 1476.05 L880.665 1476.05 L892.089 1512.99 Z\" fill=\"#000000\" fill-rule=\"evenodd\" fill-opacity=\"1\" /><circle clip-path=\"url(#clip722)\" style=\"fill:#3da44d; stroke:none; fill-opacity:1\" cx=\"181.881\" cy=\"89.8529\" r=\"2\"/>\n",
       "<circle clip-path=\"url(#clip722)\" style=\"fill:#3da44d; stroke:none; fill-opacity:1\" cx=\"393.96\" cy=\"89.8529\" r=\"2\"/>\n",
       "<circle clip-path=\"url(#clip722)\" style=\"fill:#3da44d; stroke:none; fill-opacity:1\" cx=\"606.04\" cy=\"89.8529\" r=\"2\"/>\n",
       "<circle clip-path=\"url(#clip722)\" style=\"fill:#3da44d; stroke:none; fill-opacity:1\" cx=\"818.119\" cy=\"89.8529\" r=\"2\"/>\n",
       "<path clip-path=\"url(#clip720)\" d=\"M84.3754 113.206 L97.7434 113.206 L97.7434 67.0666 L83.2006 69.9832 L83.2006 62.5296 L97.6624 59.6129 L105.845 59.6129 L105.845 113.206 L119.213 113.206 L119.213 120.093 L84.3754 120.093 L84.3754 113.206 Z\" fill=\"#000000\" fill-rule=\"evenodd\" fill-opacity=\"1\" /><path clip-path=\"url(#clip720)\" d=\"M153.241 65.0006 Q146.921 65.0006 143.721 71.239 Q140.561 77.4369 140.561 89.9137 Q140.561 102.35 143.721 108.588 Q146.921 114.786 153.241 114.786 Q159.601 114.786 162.76 108.588 Q165.961 102.35 165.961 89.9137 Q165.961 77.4369 162.76 71.239 Q159.601 65.0006 153.241 65.0006 M153.241 58.5192 Q163.409 58.5192 168.756 66.5805 Q174.143 74.6013 174.143 89.9137 Q174.143 105.186 168.756 113.247 Q163.409 121.268 153.241 121.268 Q143.073 121.268 137.685 113.247 Q132.338 105.186 132.338 89.9137 Q132.338 74.6013 137.685 66.5805 Q143.073 58.5192 153.241 58.5192 Z\" fill=\"#000000\" fill-rule=\"evenodd\" fill-opacity=\"1\" /><path clip-path=\"url(#clip720)\" d=\"M195.573 113.206 L224.132 113.206 L224.132 120.093 L185.729 120.093 L185.729 113.206 Q190.388 108.386 198.408 100.284 Q206.47 92.1417 208.536 89.7922 Q212.465 85.3767 214.004 82.3385 Q215.584 79.2598 215.584 76.3026 Q215.584 71.4821 212.181 68.4439 Q208.819 65.4057 203.391 65.4057 Q199.543 65.4057 195.249 66.7425 Q190.995 68.0793 186.134 70.7934 L186.134 62.5296 Q191.076 60.5446 195.37 59.5319 Q199.664 58.5192 203.229 58.5192 Q212.627 58.5192 218.217 63.2182 Q223.808 67.9173 223.808 75.776 Q223.808 79.5029 222.39 82.8651 Q221.012 86.1869 217.326 90.7239 Q216.313 91.8986 210.885 97.5294 Q205.457 103.12 195.573 113.206 Z\" fill=\"#000000\" fill-rule=\"evenodd\" fill-opacity=\"1\" /><path clip-path=\"url(#clip720)\" d=\"M263.79 66.7425 L243.13 99.0282 L263.79 99.0282 L263.79 66.7425 M261.643 59.6129 L271.932 59.6129 L271.932 99.0282 L280.561 99.0282 L280.561 105.834 L271.932 105.834 L271.932 120.093 L263.79 120.093 L263.79 105.834 L236.487 105.834 L236.487 97.9345 L261.643 59.6129 Z\" fill=\"#000000\" fill-rule=\"evenodd\" fill-opacity=\"1\" /><path clip-path=\"url(#clip720)\" d=\"M393.96 65.0006 Q387.641 65.0006 384.441 71.239 Q381.281 77.4369 381.281 89.9137 Q381.281 102.35 384.441 108.588 Q387.641 114.786 393.96 114.786 Q400.32 114.786 403.48 108.588 Q406.68 102.35 406.68 89.9137 Q406.68 77.4369 403.48 71.239 Q400.32 65.0006 393.96 65.0006 M393.96 58.5192 Q404.128 58.5192 409.475 66.5805 Q414.863 74.6013 414.863 89.9137 Q414.863 105.186 409.475 113.247 Q404.128 121.268 393.96 121.268 Q383.792 121.268 378.405 113.247 Q373.058 105.186 373.058 89.9137 Q373.058 74.6013 378.405 66.5805 Q383.792 58.5192 393.96 58.5192 Z\" fill=\"#000000\" fill-rule=\"evenodd\" fill-opacity=\"1\" /><path clip-path=\"url(#clip720)\" d=\"M606.04 65.0006 Q599.72 65.0006 596.52 71.239 Q593.36 77.4369 593.36 89.9137 Q593.36 102.35 596.52 108.588 Q599.72 114.786 606.04 114.786 Q612.4 114.786 615.559 108.588 Q618.76 102.35 618.76 89.9137 Q618.76 77.4369 615.559 71.239 Q612.4 65.0006 606.04 65.0006 M606.04 58.5192 Q616.208 58.5192 621.555 66.5805 Q626.942 74.6013 626.942 89.9137 Q626.942 105.186 621.555 113.247 Q616.208 121.268 606.04 121.268 Q595.872 121.268 590.484 113.247 Q585.137 105.186 585.137 89.9137 Q585.137 74.6013 590.484 66.5805 Q595.872 58.5192 606.04 58.5192 Z\" fill=\"#000000\" fill-rule=\"evenodd\" fill-opacity=\"1\" /><path clip-path=\"url(#clip720)\" d=\"M818.119 65.0006 Q811.8 65.0006 808.6 71.239 Q805.44 77.4369 805.44 89.9137 Q805.44 102.35 808.6 108.588 Q811.8 114.786 818.119 114.786 Q824.479 114.786 827.639 108.588 Q830.839 102.35 830.839 89.9137 Q830.839 77.4369 827.639 71.239 Q824.479 65.0006 818.119 65.0006 M818.119 58.5192 Q828.287 58.5192 833.634 66.5805 Q839.022 74.6013 839.022 89.9137 Q839.022 105.186 833.634 113.247 Q828.287 121.268 818.119 121.268 Q807.952 121.268 802.564 113.247 Q797.217 105.186 797.217 89.9137 Q797.217 74.6013 802.564 66.5805 Q807.952 58.5192 818.119 58.5192 Z\" fill=\"#000000\" fill-rule=\"evenodd\" fill-opacity=\"1\" /></svg>\n"
      ]
     },
     "execution_count": 120,
     "metadata": {},
     "output_type": "execute_result"
    },
    {
     "name": "stderr",
     "output_type": "stream",
     "text": [
      "\u001b[33m\u001b[1m┌ \u001b[22m\u001b[39m\u001b[33m\u001b[1mWarning: \u001b[22m\u001b[39mInvalid limits for x axis. Limits should be a symbol, or a two-element tuple or vector of numbers.\n",
      "\u001b[33m\u001b[1m│ \u001b[22m\u001b[39mxlims = (0:4,)\n",
      "\u001b[33m\u001b[1m└ \u001b[22m\u001b[39m\u001b[90m@ Plots ~/.julia/packages/Plots/modjX/src/axes.jl:628\u001b[39m\n",
      "\u001b[33m\u001b[1m┌ \u001b[22m\u001b[39m\u001b[33m\u001b[1mWarning: \u001b[22m\u001b[39mInvalid limits for y axis. Limits should be a symbol, or a two-element tuple or vector of numbers.\n",
      "\u001b[33m\u001b[1m│ \u001b[22m\u001b[39mylims = (0:1024,)\n",
      "\u001b[33m\u001b[1m└ \u001b[22m\u001b[39m\u001b[90m@ Plots ~/.julia/packages/Plots/modjX/src/axes.jl:628\u001b[39m\n",
      "\u001b[33m\u001b[1m┌ \u001b[22m\u001b[39m\u001b[33m\u001b[1mWarning: \u001b[22m\u001b[39mInvalid limits for x axis. Limits should be a symbol, or a two-element tuple or vector of numbers.\n",
      "\u001b[33m\u001b[1m│ \u001b[22m\u001b[39mxlims = (0:4,)\n",
      "\u001b[33m\u001b[1m└ \u001b[22m\u001b[39m\u001b[90m@ Plots ~/.julia/packages/Plots/modjX/src/axes.jl:628\u001b[39m\n",
      "\u001b[33m\u001b[1m┌ \u001b[22m\u001b[39m\u001b[33m\u001b[1mWarning: \u001b[22m\u001b[39mInvalid limits for y axis. Limits should be a symbol, or a two-element tuple or vector of numbers.\n",
      "\u001b[33m\u001b[1m│ \u001b[22m\u001b[39mylims = (0:1024,)\n",
      "\u001b[33m\u001b[1m└ \u001b[22m\u001b[39m\u001b[90m@ Plots ~/.julia/packages/Plots/modjX/src/axes.jl:628\u001b[39m\n",
      "\u001b[33m\u001b[1m┌ \u001b[22m\u001b[39m\u001b[33m\u001b[1mWarning: \u001b[22m\u001b[39mInvalid limits for x axis. Limits should be a symbol, or a two-element tuple or vector of numbers.\n",
      "\u001b[33m\u001b[1m│ \u001b[22m\u001b[39mxlims = (0:4,)\n",
      "\u001b[33m\u001b[1m└ \u001b[22m\u001b[39m\u001b[90m@ Plots ~/.julia/packages/Plots/modjX/src/axes.jl:628\u001b[39m\n",
      "\u001b[33m\u001b[1m┌ \u001b[22m\u001b[39m\u001b[33m\u001b[1mWarning: \u001b[22m\u001b[39mInvalid limits for y axis. Limits should be a symbol, or a two-element tuple or vector of numbers.\n",
      "\u001b[33m\u001b[1m│ \u001b[22m\u001b[39mylims = (0:1024,)\n",
      "\u001b[33m\u001b[1m└ \u001b[22m\u001b[39m\u001b[90m@ Plots ~/.julia/packages/Plots/modjX/src/axes.jl:628\u001b[39m\n",
      "\u001b[33m\u001b[1m┌ \u001b[22m\u001b[39m\u001b[33m\u001b[1mWarning: \u001b[22m\u001b[39mInvalid limits for x axis. Limits should be a symbol, or a two-element tuple or vector of numbers.\n",
      "\u001b[33m\u001b[1m│ \u001b[22m\u001b[39mxlims = (0:4,)\n",
      "\u001b[33m\u001b[1m└ \u001b[22m\u001b[39m\u001b[90m@ Plots ~/.julia/packages/Plots/modjX/src/axes.jl:628\u001b[39m\n",
      "\u001b[33m\u001b[1m┌ \u001b[22m\u001b[39m\u001b[33m\u001b[1mWarning: \u001b[22m\u001b[39mInvalid limits for y axis. Limits should be a symbol, or a two-element tuple or vector of numbers.\n",
      "\u001b[33m\u001b[1m│ \u001b[22m\u001b[39mylims = (0:1024,)\n",
      "\u001b[33m\u001b[1m└ \u001b[22m\u001b[39m\u001b[90m@ Plots ~/.julia/packages/Plots/modjX/src/axes.jl:628\u001b[39m\n"
     ]
    }
   ],
   "source": [
    "plotmeasures(a)"
   ]
  },
  {
   "cell_type": "markdown",
   "id": "47e842cb-8412-40c1-8c47-47ae0554fbdd",
   "metadata": {
    "slideshow": {
     "slide_type": "slide"
    }
   },
   "source": [
    "# Z, S, and T\n",
    "There are three special cases of $RZ$ that correspond to very commonly-used quantum gates: $Z$, $S$, and $T$.\n"
   ]
  },
  {
   "cell_type": "markdown",
   "id": "5619137b-c370-4287-bd63-b7df6cc3d1c6",
   "metadata": {
    "slideshow": {
     "slide_type": "subslide"
    }
   },
   "source": [
    "The case where $\\omega = \\pi$ is known as a Pauli $Z$ operation."
   ]
  },
  {
   "cell_type": "code",
   "execution_count": 14,
   "id": "9c825eeb-6a31-4dbb-97e0-67287e171157",
   "metadata": {
    "slideshow": {
     "slide_type": "-"
    }
   },
   "outputs": [
    {
     "data": {
      "text/plain": [
       "rot(Z, π)"
      ]
     },
     "execution_count": 14,
     "metadata": {},
     "output_type": "execute_result"
    }
   ],
   "source": [
    "Zgate = Rz(π)"
   ]
  },
  {
   "cell_type": "markdown",
   "id": "d61f0b16-f19a-4c8c-9623-06dcad0370d4",
   "metadata": {
    "slideshow": {
     "slide_type": "subslide"
    }
   },
   "source": [
    "Another well-known case is $\\omega = \\pi/2$. This gate is known colloquially as the phase gate and is denoted by $S$."
   ]
  },
  {
   "cell_type": "code",
   "execution_count": 13,
   "id": "22cce95e-89ca-4d97-8d1c-b482d3552d3a",
   "metadata": {
    "slideshow": {
     "slide_type": "-"
    }
   },
   "outputs": [
    {
     "data": {
      "text/plain": [
       "rot(Z, 1.5707963267948966)"
      ]
     },
     "execution_count": 13,
     "metadata": {},
     "output_type": "execute_result"
    }
   ],
   "source": [
    "Sgate = Rz(π/2)"
   ]
  },
  {
   "cell_type": "markdown",
   "id": "35ebfba6-d1d3-4778-811d-96ff9da78f2e",
   "metadata": {
    "slideshow": {
     "slide_type": "subslide"
    }
   },
   "source": [
    "the S-gate is not its own inverse! As a result, you will often see the S†-gate, (also “S-dagger”, “Sdg” or $S^{\\dagger}$-gate). The $S^{\\dagger}$-gate is clearly an RZ-gate with $\\omega = -\\pi/2$:"
   ]
  },
  {
   "cell_type": "code",
   "execution_count": 15,
   "id": "211ec4cf-aa79-4748-b0bd-6269faf5aa3f",
   "metadata": {},
   "outputs": [
    {
     "data": {
      "text/plain": [
       "rot(X, -1.5707963267948966)"
      ]
     },
     "execution_count": 15,
     "metadata": {},
     "output_type": "execute_result"
    }
   ],
   "source": [
    "Sdagger_gate = Rx(-π/2)"
   ]
  },
  {
   "cell_type": "markdown",
   "id": "2a34a130-18e0-49e2-9c8d-9dceb7134c05",
   "metadata": {
    "slideshow": {
     "slide_type": "slide"
    }
   },
   "source": [
    "Finally, the case where $\\omega = \\pi/4$ is known as the $T$ gate. The $T$ gate is sometimes referred to as the \"pi over 8 gate\" due to how its matrix representation looks."
   ]
  },
  {
   "cell_type": "markdown",
   "id": "0f6c8be3-d5e4-459b-86fe-b1c4f99fa2db",
   "metadata": {},
   "source": [
    "\n",
    "\\begin{align}\n",
    "& RZ(\\pi/4) = \\begin{bmatrix} e^{\\frac{-i\\pi}{8}} & 0 \\\\ 0 & e^{\\frac{i\\pi}{8}} \\end{bmatrix} \\\\\n",
    "\\end{align}\n",
    "\n",
    "The T-gate is sometimes also known as the $\\sqrt[4]{Z}$-gate."
   ]
  },
  {
   "cell_type": "code",
   "execution_count": 16,
   "id": "29fa1f9e-1ec6-49db-88ee-c8c92b402029",
   "metadata": {},
   "outputs": [
    {
     "data": {
      "text/plain": [
       "rot(Z, 0.7853981633974483)"
      ]
     },
     "execution_count": 16,
     "metadata": {},
     "output_type": "execute_result"
    }
   ],
   "source": [
    "Tgate = Rz(π/4)"
   ]
  },
  {
   "cell_type": "markdown",
   "id": "3b0e6224-f278-4525-ab53-649d4988a082",
   "metadata": {
    "slideshow": {
     "slide_type": "slide"
    }
   },
   "source": [
    "## Remember the Bloch sphere?\n",
    "\n",
    "<div>\n",
    "<center>\n",
    "<img src=\"https://logosconcarne.files.wordpress.com/2021/03/bloch-sphere.png\" width=\"700\"/>\n",
    "</center>\n",
    "</div>\n",
    "\n",
    "$$ \\vert \\psi\\rangle = \\cos\\left(\\frac{\\theta}{2}\\right)\\vert 0\\rangle + e^{i\\phi}\\sin\\left(\\frac{\\theta}{2}\\right) \\vert 1\\rangle$$\n",
    "\n",
    "There are the usual three axes: $x$, $y$, and $z$. Along the $z$ axis, the top-most state corresponds to $\\vert 0\\rangle$, and the bottom to $\\vert 1\\rangle$; these are the eigenvectors of the Pauli $Z$ operator. Similarly, along the $x$ axis are the $\\vert +\\rangle$  and $\\vert -\\rangle$  states, which are the eigenvectors of the Pauli $X$ operator. \n",
    "\n",
    "$RX$, $RY$, and $RZ$ rotate the qubit's state vector about the appropriate axis."
   ]
  },
  {
   "cell_type": "markdown",
   "id": "3ed8f93d-897d-4fd9-a7c4-7e0a2ed87ab6",
   "metadata": {
    "slideshow": {
     "slide_type": "slide"
    }
   },
   "source": [
    "## RX and RY\n",
    "\n",
    "Now that we have some intuition about what these rotations are, we can begin to express $RX$ and $RY$ in terms of matrices and describe how they act on the basis states.\n",
    "\n",
    "The matrix representation of an $X$ rotation is\n",
    "\n",
    "\\begin{align}\n",
    "& RX(\\theta) = \\begin{bmatrix} \\cos\\left(\\frac{\\theta}{2}\\right) & -i\\sin\\left(\\frac{\\theta}{2}\\right) \\\\ -i\\sin\\left(\\frac{\\theta}{2}\\right) & \\cos\\left(\\frac{\\theta}{2}\\right) \\end{bmatrix} \\\\\n",
    "\\end{align}\n"
   ]
  },
  {
   "cell_type": "markdown",
   "id": "f36e4f07-e371-4315-a819-669184f1bf1f",
   "metadata": {
    "slideshow": {
     "slide_type": "subslide"
    }
   },
   "source": [
    "The matrix representation of a $Y$ rotation looks very similar to that of $RX$, however there is no complex component:\n",
    "\n",
    "\n",
    "\\begin{align}\n",
    "& RY(\\theta) = \\begin{bmatrix} \\cos\\left(\\frac{\\theta}{2}\\right) & -\\sin\\left(\\frac{\\theta}{2}\\right) \\\\ -\\sin\\left(\\frac{\\theta}{2}\\right) & \\cos\\left(\\frac{\\theta}{2}\\right) \\end{bmatrix} \\\\\n",
    "\\end{align}"
   ]
  },
  {
   "cell_type": "markdown",
   "id": "fb98031a-ea16-4de1-b6c5-e900ffd81eae",
   "metadata": {
    "slideshow": {
     "slide_type": "slide"
    }
   },
   "source": [
    "## The CNOT gate\n",
    "\n",
    "The most important entangling gate is the **controlled-NOT**, or **CNOT gate**. This is a two-qubit gate that performs an operation (specifically, a Pauli $X$ or \"NOT\" gate) on one qubit depending on the state of another."
   ]
  },
  {
   "cell_type": "code",
   "execution_count": 8,
   "id": "0d68622c-7b82-4e8f-bd95-6fcb26ddd1c5",
   "metadata": {},
   "outputs": [
    {
     "data": {
      "image/svg+xml": [
       "<?xml version=\"1.0\" encoding=\"UTF-8\"?>\n",
       "<svg xmlns=\"http://www.w3.org/2000/svg\" xmlns:xlink=\"http://www.w3.org/1999/xlink\" width=\"102pt\" height=\"90pt\" viewBox=\"0 0 102 90\" version=\"1.1\">\n",
       "<g id=\"surface8\">\n",
       "<path style=\" stroke:none;fill-rule:nonzero;fill:rgb(0%,0%,0%);fill-opacity:1;\" d=\"M 53.398438 22.5 C 53.398438 25.699219 48.601562 25.699219 48.601562 22.5 C 48.601562 19.300781 53.398438 19.300781 53.398438 22.5 \"/>\n",
       "<path style=\"fill:none;stroke-width:1;stroke-linecap:butt;stroke-linejoin:miter;stroke:rgb(0%,0%,0%);stroke-opacity:1;stroke-miterlimit:10;\" d=\"M 59.398438 67.5 C 59.398438 72.140625 55.640625 75.898438 51 75.898438 C 46.359375 75.898438 42.601562 72.140625 42.601562 67.5 C 42.601562 62.859375 46.359375 59.101562 51 59.101562 C 55.640625 59.101562 59.398438 62.859375 59.398438 67.5 \"/>\n",
       "<path style=\"fill:none;stroke-width:1;stroke-linecap:butt;stroke-linejoin:miter;stroke:rgb(0%,0%,0%);stroke-opacity:1;stroke-miterlimit:10;\" d=\"M 42.601562 67.5 L 59.398438 67.5 \"/>\n",
       "<path style=\"fill:none;stroke-width:1;stroke-linecap:butt;stroke-linejoin:miter;stroke:rgb(0%,0%,0%);stroke-opacity:1;stroke-miterlimit:10;\" d=\"M 51 59.101562 L 51 75.898438 \"/>\n",
       "<path style=\"fill:none;stroke-width:1;stroke-linecap:butt;stroke-linejoin:miter;stroke:rgb(0%,0%,0%);stroke-opacity:1;stroke-miterlimit:10;\" d=\"M 51 59.101562 L 51 24.898438 \"/>\n",
       "<path style=\"fill:none;stroke-width:1;stroke-linecap:butt;stroke-linejoin:miter;stroke:rgb(0%,0%,0%);stroke-opacity:1;stroke-miterlimit:10;\" d=\"M 25.5 22.5 L 48.601562 22.5 \"/>\n",
       "<path style=\"fill:none;stroke-width:1;stroke-linecap:butt;stroke-linejoin:miter;stroke:rgb(0%,0%,0%);stroke-opacity:1;stroke-miterlimit:10;\" d=\"M 53.398438 22.5 L 76.5 22.5 \"/>\n",
       "<path style=\"fill:none;stroke-width:1;stroke-linecap:butt;stroke-linejoin:miter;stroke:rgb(0%,0%,0%);stroke-opacity:1;stroke-miterlimit:10;\" d=\"M 25.5 67.5 L 42.601562 67.5 \"/>\n",
       "<path style=\"fill:none;stroke-width:1;stroke-linecap:butt;stroke-linejoin:miter;stroke:rgb(0%,0%,0%);stroke-opacity:1;stroke-miterlimit:10;\" d=\"M 59.398438 67.5 L 76.5 67.5 \"/>\n",
       "<path style=\"fill:none;stroke-width:1;stroke-linecap:butt;stroke-linejoin:miter;stroke:rgb(0%,0%,0%);stroke-opacity:1;stroke-miterlimit:10;\" d=\"M 76.5 22.5 L 76.5 22.5 \"/>\n",
       "<path style=\"fill:none;stroke-width:1;stroke-linecap:butt;stroke-linejoin:miter;stroke:rgb(0%,0%,0%);stroke-opacity:1;stroke-miterlimit:10;\" d=\"M 76.5 67.5 L 76.5 67.5 \"/>\n",
       "</g>\n",
       "</svg>\n"
      ],
      "text/plain": []
     },
     "execution_count": 8,
     "metadata": {},
     "output_type": "execute_result"
    }
   ],
   "source": [
    "cnot_circuit = chain(2, cnot(2, 1, 2))\n",
    "plot(cnot_circuit)"
   ]
  },
  {
   "cell_type": "markdown",
   "id": "436c60e3-c172-412a-8156-072f3dee2bcc",
   "metadata": {
    "slideshow": {
     "slide_type": "subslide"
    }
   },
   "source": [
    "Its matrix representation is\n",
    "\n",
    "\\begin{align}\n",
    "& CNOT = \\begin{bmatrix} 1 & 0 & 0 & 0 \\\\\n",
    " 0 & 1 & 0 & 0 \\\\\n",
    " 0 & 0 & 0 & 1 \\\\\n",
    " 0 & 0 & 1 & 0 \\\\\n",
    "\\end{bmatrix} \\\\\n",
    "\\end{align}"
   ]
  },
  {
   "cell_type": "code",
   "execution_count": 24,
   "id": "cd4dc422-0aaa-4bfa-9762-33f4a5fcfa96",
   "metadata": {
    "slideshow": {
     "slide_type": "subslide"
    }
   },
   "outputs": [
    {
     "data": {
      "text/plain": [
       "ArrayReg{2, ComplexF64, Array...}\n",
       "    active qubits: 2/2\n",
       "    nlevel: 2"
      ]
     },
     "execution_count": 24,
     "metadata": {},
     "output_type": "execute_result"
    }
   ],
   "source": [
    "q0 = ArrayReg(bit\"11\")"
   ]
  },
  {
   "cell_type": "code",
   "execution_count": 25,
   "id": "f655aeb2-5963-4ff4-8917-b6aea1ee299a",
   "metadata": {},
   "outputs": [
    {
     "data": {
      "text/plain": [
       "4×1 Matrix{ComplexF64}:\n",
       " 0.0 + 0.0im\n",
       " 0.0 + 0.0im\n",
       " 0.0 + 0.0im\n",
       " 1.0 + 0.0im"
      ]
     },
     "execution_count": 25,
     "metadata": {},
     "output_type": "execute_result"
    }
   ],
   "source": [
    "state(q0)"
   ]
  },
  {
   "cell_type": "code",
   "execution_count": 26,
   "id": "11f95cd6-5d6d-4f84-a5e5-fb669f13f30f",
   "metadata": {
    "slideshow": {
     "slide_type": "subslide"
    }
   },
   "outputs": [
    {
     "data": {
      "text/plain": [
       "ArrayReg{2, ComplexF64, Array...}\n",
       "    active qubits: 2/2\n",
       "    nlevel: 2"
      ]
     },
     "execution_count": 26,
     "metadata": {},
     "output_type": "execute_result"
    }
   ],
   "source": [
    "st = q0 |> cnot_circuit"
   ]
  },
  {
   "cell_type": "code",
   "execution_count": 27,
   "id": "0f1bb8b9-dc53-4e76-a9dc-55523d6a67a8",
   "metadata": {},
   "outputs": [
    {
     "data": {
      "text/plain": [
       "4×1 Matrix{ComplexF64}:\n",
       " 0.0 + 0.0im\n",
       " 1.0 + 0.0im\n",
       " 0.0 + 0.0im\n",
       " 0.0 + 0.0im"
      ]
     },
     "execution_count": 27,
     "metadata": {},
     "output_type": "execute_result"
    }
   ],
   "source": [
    "state(st)"
   ]
  },
  {
   "cell_type": "code",
   "execution_count": 28,
   "id": "af29b11a-f51e-41ad-a568-bf4a6dd26f8d",
   "metadata": {
    "collapsed": true,
    "jupyter": {
     "outputs_hidden": true,
     "source_hidden": true
    },
    "tags": []
   },
   "outputs": [
    {
     "data": {
      "text/plain": [
       "4×1 Matrix{ComplexF64}:\n",
       " 0.0 + 0.0im\n",
       " 1.0 + 0.0im\n",
       " 0.0 + 0.0im\n",
       " 0.0 + 0.0im"
      ]
     },
     "execution_count": 28,
     "metadata": {},
     "output_type": "execute_result"
    }
   ],
   "source": [
    "state(ArrayReg(bit\"01\"))"
   ]
  },
  {
   "cell_type": "markdown",
   "id": "df608bc9-0ba0-4483-b01b-55d8c39792cb",
   "metadata": {
    "slideshow": {
     "slide_type": "slide"
    }
   },
   "source": [
    "## Controlled-Z\n",
    "\n",
    "The **controlled-$Z$** gate is similar in spirit to the controlled-NOT gate. The difference is that rather than applying an $X$ controlled on a qubits state, we apply a $Z$. Its matrix representation is\n",
    "\n",
    "\n",
    "\\begin{align}\n",
    "& CZ = \\begin{bmatrix} 1 & 0 & 0 & 0 \\\\\n",
    " 0 & 1 & 0 & 0 \\\\\n",
    " 0 & 0 & 1 & 0 \\\\\n",
    " 0 & 0 & 0 & -1 \\\\\n",
    "\\end{bmatrix} \\\\\n",
    "\\end{align}\n",
    "\n",
    "The controlled-$Z$ gate is also known as the $CZ$ gate, or the **controlled phase gate**."
   ]
  },
  {
   "cell_type": "code",
   "execution_count": 30,
   "id": "0c31853a-28ac-4a93-a045-d4203f0ea1ce",
   "metadata": {},
   "outputs": [
    {
     "data": {
      "image/svg+xml": [
       "<?xml version=\"1.0\" encoding=\"UTF-8\"?>\n",
       "<svg xmlns=\"http://www.w3.org/2000/svg\" xmlns:xlink=\"http://www.w3.org/1999/xlink\" width=\"102pt\" height=\"90pt\" viewBox=\"0 0 102 90\" version=\"1.1\">\n",
       "<g id=\"surface14\">\n",
       "<path style=\" stroke:none;fill-rule:nonzero;fill:rgb(0%,0%,0%);fill-opacity:1;\" d=\"M 53.398438 22.5 C 53.398438 25.699219 48.601562 25.699219 48.601562 22.5 C 48.601562 19.300781 53.398438 19.300781 53.398438 22.5 \"/>\n",
       "<path style=\" stroke:none;fill-rule:nonzero;fill:rgb(0%,0%,0%);fill-opacity:1;\" d=\"M 53.398438 67.5 C 53.398438 70.699219 48.601562 70.699219 48.601562 67.5 C 48.601562 64.300781 53.398438 64.300781 53.398438 67.5 \"/>\n",
       "<path style=\"fill:none;stroke-width:1;stroke-linecap:butt;stroke-linejoin:miter;stroke:rgb(0%,0%,0%);stroke-opacity:1;stroke-miterlimit:10;\" d=\"M 51 65.101562 L 51 24.898438 \"/>\n",
       "<path style=\"fill:none;stroke-width:1;stroke-linecap:butt;stroke-linejoin:miter;stroke:rgb(0%,0%,0%);stroke-opacity:1;stroke-miterlimit:10;\" d=\"M 25.5 22.5 L 48.601562 22.5 \"/>\n",
       "<path style=\"fill:none;stroke-width:1;stroke-linecap:butt;stroke-linejoin:miter;stroke:rgb(0%,0%,0%);stroke-opacity:1;stroke-miterlimit:10;\" d=\"M 53.398438 22.5 L 76.5 22.5 \"/>\n",
       "<path style=\"fill:none;stroke-width:1;stroke-linecap:butt;stroke-linejoin:miter;stroke:rgb(0%,0%,0%);stroke-opacity:1;stroke-miterlimit:10;\" d=\"M 25.5 67.5 L 48.601562 67.5 \"/>\n",
       "<path style=\"fill:none;stroke-width:1;stroke-linecap:butt;stroke-linejoin:miter;stroke:rgb(0%,0%,0%);stroke-opacity:1;stroke-miterlimit:10;\" d=\"M 53.398438 67.5 L 76.5 67.5 \"/>\n",
       "<path style=\"fill:none;stroke-width:1;stroke-linecap:butt;stroke-linejoin:miter;stroke:rgb(0%,0%,0%);stroke-opacity:1;stroke-miterlimit:10;\" d=\"M 76.5 22.5 L 76.5 22.5 \"/>\n",
       "<path style=\"fill:none;stroke-width:1;stroke-linecap:butt;stroke-linejoin:miter;stroke:rgb(0%,0%,0%);stroke-opacity:1;stroke-miterlimit:10;\" d=\"M 76.5 67.5 L 76.5 67.5 \"/>\n",
       "</g>\n",
       "</svg>\n"
      ],
      "text/plain": []
     },
     "execution_count": 30,
     "metadata": {},
     "output_type": "execute_result"
    }
   ],
   "source": [
    "cz_circuit = chain(2, cz(2, 1, 2))\n",
    "plot(cz_circuit)"
   ]
  },
  {
   "cell_type": "code",
   "execution_count": 36,
   "id": "a982994d-b319-4a95-8675-375165752a96",
   "metadata": {
    "slideshow": {
     "slide_type": "subslide"
    }
   },
   "outputs": [
    {
     "data": {
      "text/plain": [
       "ArrayReg{2, ComplexF64, Array...}\n",
       "    active qubits: 2/2\n",
       "    nlevel: 2"
      ]
     },
     "execution_count": 36,
     "metadata": {},
     "output_type": "execute_result"
    }
   ],
   "source": [
    "q0 = ArrayReg(bit\"01\")"
   ]
  },
  {
   "cell_type": "code",
   "execution_count": 37,
   "id": "8e720c26-91d0-46ba-b94d-69fce40163cf",
   "metadata": {},
   "outputs": [
    {
     "data": {
      "text/plain": [
       "4×1 Matrix{ComplexF64}:\n",
       " 0.0 + 0.0im\n",
       " 1.0 + 0.0im\n",
       " 0.0 + 0.0im\n",
       " 0.0 + 0.0im"
      ]
     },
     "execution_count": 37,
     "metadata": {},
     "output_type": "execute_result"
    }
   ],
   "source": [
    "state(q0)"
   ]
  },
  {
   "cell_type": "code",
   "execution_count": 38,
   "id": "dfe1a2c6-332a-40ce-9b90-2bc5fa6075c4",
   "metadata": {},
   "outputs": [
    {
     "data": {
      "text/plain": [
       "ArrayReg{2, ComplexF64, Array...}\n",
       "    active qubits: 2/2\n",
       "    nlevel: 2"
      ]
     },
     "execution_count": 38,
     "metadata": {},
     "output_type": "execute_result"
    }
   ],
   "source": [
    "st = q0 |> cz_circuit"
   ]
  },
  {
   "cell_type": "code",
   "execution_count": 39,
   "id": "8631f70f-a301-4e27-8950-ece91a4b29ca",
   "metadata": {},
   "outputs": [
    {
     "data": {
      "text/plain": [
       "4×1 Matrix{ComplexF64}:\n",
       "  0.0 + 0.0im\n",
       "  1.0 + 0.0im\n",
       "  0.0 + 0.0im\n",
       " -0.0 - 0.0im"
      ]
     },
     "execution_count": 39,
     "metadata": {},
     "output_type": "execute_result"
    }
   ],
   "source": [
    "state(st)"
   ]
  },
  {
   "cell_type": "markdown",
   "id": "dc9bf9d2-9621-433e-82a7-83b0cb4f9d5a",
   "metadata": {
    "slideshow": {
     "slide_type": "slide"
    }
   },
   "source": [
    "## The SWAP gate\n",
    "\n",
    "The SWAP gate is exactly what it sounds like: it exchanges the state of two qubits:\n",
    "\n",
    "$$ SWAP(\\vert \\psi \\rangle \\otimes \\vert \\phi \\rangle) = \\vert \\phi \\rangle \\otimes \\vert \\psi \\rangle $$\n",
    "\n",
    "the matrix representation is\n",
    "\\begin{align}\n",
    "& SWAP = \\begin{bmatrix} 1 & 0 & 0 & 0 \\\\\n",
    " 0 & 0 & 1 & 0 \\\\\n",
    " 0 & 1 & 0 & 0 \\\\\n",
    " 0 & 0 & 0 & 1 \\\\\n",
    "\\end{bmatrix} \\\\\n",
    "\\end{align}\n"
   ]
  },
  {
   "cell_type": "code",
   "execution_count": 121,
   "id": "81d55801-b215-45ef-880e-2376cebf84fb",
   "metadata": {},
   "outputs": [
    {
     "data": {
      "image/svg+xml": [
       "<?xml version=\"1.0\" encoding=\"UTF-8\"?>\n",
       "<svg xmlns=\"http://www.w3.org/2000/svg\" xmlns:xlink=\"http://www.w3.org/1999/xlink\" width=\"102pt\" height=\"90pt\" viewBox=\"0 0 102 90\" version=\"1.1\">\n",
       "<g id=\"surface88\">\n",
       "<path style=\"fill:none;stroke-width:1;stroke-linecap:butt;stroke-linejoin:miter;stroke:rgb(0%,0%,0%);stroke-opacity:1;stroke-miterlimit:10;\" d=\"M 42.515625 14.015625 L 59.484375 30.984375 \"/>\n",
       "<path style=\"fill:none;stroke-width:1;stroke-linecap:butt;stroke-linejoin:miter;stroke:rgb(0%,0%,0%);stroke-opacity:1;stroke-miterlimit:10;\" d=\"M 42.515625 30.984375 L 59.484375 14.015625 \"/>\n",
       "<path style=\"fill:none;stroke-width:1;stroke-linecap:butt;stroke-linejoin:miter;stroke:rgb(0%,0%,0%);stroke-opacity:1;stroke-miterlimit:10;\" d=\"M 42.515625 59.015625 L 59.484375 75.984375 \"/>\n",
       "<path style=\"fill:none;stroke-width:1;stroke-linecap:butt;stroke-linejoin:miter;stroke:rgb(0%,0%,0%);stroke-opacity:1;stroke-miterlimit:10;\" d=\"M 42.515625 75.984375 L 59.484375 59.015625 \"/>\n",
       "<path style=\"fill:none;stroke-width:1;stroke-linecap:butt;stroke-linejoin:miter;stroke:rgb(0%,0%,0%);stroke-opacity:1;stroke-miterlimit:10;\" d=\"M 51 67.5 L 51 22.5 \"/>\n",
       "<path style=\"fill:none;stroke-width:1;stroke-linecap:butt;stroke-linejoin:miter;stroke:rgb(0%,0%,0%);stroke-opacity:1;stroke-miterlimit:10;\" d=\"M 25.5 22.5 L 51 22.5 \"/>\n",
       "<path style=\"fill:none;stroke-width:1;stroke-linecap:butt;stroke-linejoin:miter;stroke:rgb(0%,0%,0%);stroke-opacity:1;stroke-miterlimit:10;\" d=\"M 51 22.5 L 76.5 22.5 \"/>\n",
       "<path style=\"fill:none;stroke-width:1;stroke-linecap:butt;stroke-linejoin:miter;stroke:rgb(0%,0%,0%);stroke-opacity:1;stroke-miterlimit:10;\" d=\"M 25.5 67.5 L 51 67.5 \"/>\n",
       "<path style=\"fill:none;stroke-width:1;stroke-linecap:butt;stroke-linejoin:miter;stroke:rgb(0%,0%,0%);stroke-opacity:1;stroke-miterlimit:10;\" d=\"M 51 67.5 L 76.5 67.5 \"/>\n",
       "<path style=\"fill:none;stroke-width:1;stroke-linecap:butt;stroke-linejoin:miter;stroke:rgb(0%,0%,0%);stroke-opacity:1;stroke-miterlimit:10;\" d=\"M 76.5 22.5 L 76.5 22.5 \"/>\n",
       "<path style=\"fill:none;stroke-width:1;stroke-linecap:butt;stroke-linejoin:miter;stroke:rgb(0%,0%,0%);stroke-opacity:1;stroke-miterlimit:10;\" d=\"M 76.5 67.5 L 76.5 67.5 \"/>\n",
       "</g>\n",
       "</svg>\n"
      ],
      "text/plain": []
     },
     "execution_count": 121,
     "metadata": {},
     "output_type": "execute_result"
    }
   ],
   "source": [
    "swap_circ = chain(2, swap(1,2))\n",
    "plot(swap_circ)"
   ]
  },
  {
   "cell_type": "code",
   "execution_count": 129,
   "id": "fda6fd63-4a69-466c-a871-ca50e7919297",
   "metadata": {
    "slideshow": {
     "slide_type": "subslide"
    }
   },
   "outputs": [
    {
     "data": {
      "text/plain": [
       "ArrayReg{2, ComplexF64, Array...}\n",
       "    active qubits: 2/2\n",
       "    nlevel: 2"
      ]
     },
     "execution_count": 129,
     "metadata": {},
     "output_type": "execute_result"
    }
   ],
   "source": [
    "q0 = ArrayReg(bit\"01\")"
   ]
  },
  {
   "cell_type": "code",
   "execution_count": 130,
   "id": "2ba70163-5a45-4a86-8510-94ae6f1d585c",
   "metadata": {},
   "outputs": [
    {
     "data": {
      "text/plain": [
       "4×1 Matrix{ComplexF64}:\n",
       " 0.0 + 0.0im\n",
       " 1.0 + 0.0im\n",
       " 0.0 + 0.0im\n",
       " 0.0 + 0.0im"
      ]
     },
     "execution_count": 130,
     "metadata": {},
     "output_type": "execute_result"
    }
   ],
   "source": [
    "state(q0)"
   ]
  },
  {
   "cell_type": "code",
   "execution_count": 131,
   "id": "a2761acb-ca1e-4cd3-b6cc-e2bb6f9d95ff",
   "metadata": {},
   "outputs": [
    {
     "data": {
      "text/plain": [
       "ArrayReg{2, ComplexF64, Array...}\n",
       "    active qubits: 2/2\n",
       "    nlevel: 2"
      ]
     },
     "execution_count": 131,
     "metadata": {},
     "output_type": "execute_result"
    }
   ],
   "source": [
    "st = q0 |> swap_circ"
   ]
  },
  {
   "cell_type": "code",
   "execution_count": 132,
   "id": "91f74048-9ee5-4b6c-acdc-e3a73cc1b269",
   "metadata": {},
   "outputs": [
    {
     "data": {
      "text/plain": [
       "4×1 Matrix{ComplexF64}:\n",
       " 0.0 + 0.0im\n",
       " 0.0 + 0.0im\n",
       " 1.0 + 0.0im\n",
       " 0.0 + 0.0im"
      ]
     },
     "execution_count": 132,
     "metadata": {},
     "output_type": "execute_result"
    }
   ],
   "source": [
    "state(st)"
   ]
  },
  {
   "cell_type": "code",
   "execution_count": 133,
   "id": "35b2676d-ec92-4b34-a345-ef1d388d92f3",
   "metadata": {
    "slideshow": {
     "slide_type": "subslide"
    }
   },
   "outputs": [],
   "source": [
    "a = (q0 |> swap_circ -> measure(swap_circ, nshots=1024));"
   ]
  },
  {
   "cell_type": "code",
   "execution_count": 134,
   "id": "8e94fbdd-6b9e-4189-953f-01f4c22616dd",
   "metadata": {},
   "outputs": [
    {
     "data": {
      "image/svg+xml": [
       "<?xml version=\"1.0\" encoding=\"utf-8\"?>\n",
       "<svg xmlns=\"http://www.w3.org/2000/svg\" xmlns:xlink=\"http://www.w3.org/1999/xlink\" width=\"250\" height=\"400\" viewBox=\"0 0 1000 1600\">\n",
       "<defs>\n",
       "  <clipPath id=\"clip750\">\n",
       "    <rect x=\"0\" y=\"0\" width=\"1000\" height=\"1600\"/>\n",
       "  </clipPath>\n",
       "</defs>\n",
       "<path clip-path=\"url(#clip750)\" d=\"M0 1600 L1000 1600 L1000 0 L0 0  Z\" fill=\"#ffffff\" fill-rule=\"evenodd\" fill-opacity=\"1\"/>\n",
       "<defs>\n",
       "  <clipPath id=\"clip751\">\n",
       "    <rect x=\"320\" y=\"160\" width=\"1000\" height=\"1121\"/>\n",
       "  </clipPath>\n",
       "</defs>\n",
       "<path clip-path=\"url(#clip750)\" d=\"M47.2441 1552.76 L952.756 1552.76 L952.756 47.2441 L47.2441 47.2441  Z\" fill=\"#ffffff\" fill-rule=\"evenodd\" fill-opacity=\"1\"/>\n",
       "<defs>\n",
       "  <clipPath id=\"clip752\">\n",
       "    <rect x=\"47\" y=\"47\" width=\"907\" height=\"1507\"/>\n",
       "  </clipPath>\n",
       "</defs>\n",
       "<path clip-path=\"url(#clip752)\" d=\"M97.0489 1510.15 L97.0489 1510.15 L266.712 1510.15 L266.712 1510.15 L97.0489 1510.15 L97.0489 1510.15  Z\" fill=\"#add8e6\" fill-rule=\"evenodd\" fill-opacity=\"1\"/>\n",
       "<polyline clip-path=\"url(#clip752)\" style=\"stroke:#add8e6; stroke-linecap:round; stroke-linejoin:round; stroke-width:4; stroke-opacity:1; fill:none\" points=\"97.0489,1510.15 97.0489,1510.15 266.712,1510.15 97.0489,1510.15 \"/>\n",
       "<path clip-path=\"url(#clip752)\" d=\"M309.128 1510.15 L309.128 1510.15 L478.792 1510.15 L478.792 1510.15 L309.128 1510.15 L309.128 1510.15  Z\" fill=\"#add8e6\" fill-rule=\"evenodd\" fill-opacity=\"1\"/>\n",
       "<polyline clip-path=\"url(#clip752)\" style=\"stroke:#add8e6; stroke-linecap:round; stroke-linejoin:round; stroke-width:4; stroke-opacity:1; fill:none\" points=\"309.128,1510.15 309.128,1510.15 478.792,1510.15 309.128,1510.15 \"/>\n",
       "<path clip-path=\"url(#clip752)\" d=\"M521.208 89.8529 L521.208 1510.15 L690.872 1510.15 L690.872 89.8529 L521.208 89.8529 L521.208 89.8529  Z\" fill=\"#add8e6\" fill-rule=\"evenodd\" fill-opacity=\"1\"/>\n",
       "<polyline clip-path=\"url(#clip752)\" style=\"stroke:#add8e6; stroke-linecap:round; stroke-linejoin:round; stroke-width:4; stroke-opacity:1; fill:none\" points=\"521.208,89.8529 521.208,1510.15 690.872,1510.15 690.872,89.8529 521.208,89.8529 \"/>\n",
       "<path clip-path=\"url(#clip752)\" d=\"M733.288 1510.15 L733.288 1510.15 L902.951 1510.15 L902.951 1510.15 L733.288 1510.15 L733.288 1510.15  Z\" fill=\"#add8e6\" fill-rule=\"evenodd\" fill-opacity=\"1\"/>\n",
       "<polyline clip-path=\"url(#clip752)\" style=\"stroke:#add8e6; stroke-linecap:round; stroke-linejoin:round; stroke-width:4; stroke-opacity:1; fill:none\" points=\"733.288,1510.15 733.288,1510.15 902.951,1510.15 733.288,1510.15 \"/>\n",
       "<circle clip-path=\"url(#clip752)\" style=\"fill:#add8e6; stroke:none; fill-opacity:0\" cx=\"75.8409\" cy=\"1510.15\" r=\"2\"/>\n",
       "<circle clip-path=\"url(#clip752)\" style=\"fill:#add8e6; stroke:none; fill-opacity:0\" cx=\"287.92\" cy=\"1510.15\" r=\"2\"/>\n",
       "<circle clip-path=\"url(#clip752)\" style=\"fill:#add8e6; stroke:none; fill-opacity:0\" cx=\"500\" cy=\"89.8529\" r=\"2\"/>\n",
       "<circle clip-path=\"url(#clip752)\" style=\"fill:#add8e6; stroke:none; fill-opacity:0\" cx=\"712.08\" cy=\"1510.15\" r=\"2\"/>\n",
       "<circle clip-path=\"url(#clip752)\" style=\"fill:#add8e6; stroke:none; fill-opacity:0\" cx=\"924.159\" cy=\"1510.15\" r=\"2\"/>\n",
       "<circle clip-path=\"url(#clip752)\" style=\"fill:#e26f46; stroke:none; fill-opacity:1\" cx=\"181.881\" cy=\"1508.76\" r=\"2\"/>\n",
       "<circle clip-path=\"url(#clip752)\" style=\"fill:#e26f46; stroke:none; fill-opacity:1\" cx=\"393.96\" cy=\"1508.76\" r=\"2\"/>\n",
       "<circle clip-path=\"url(#clip752)\" style=\"fill:#e26f46; stroke:none; fill-opacity:1\" cx=\"606.04\" cy=\"1508.76\" r=\"2\"/>\n",
       "<circle clip-path=\"url(#clip752)\" style=\"fill:#e26f46; stroke:none; fill-opacity:1\" cx=\"818.119\" cy=\"1508.76\" r=\"2\"/>\n",
       "<path clip-path=\"url(#clip750)\" d=\"M114.798 1475.6 L114.798 1558.57 L107.911 1558.57 L107.911 1475.6 L114.798 1475.6 Z\" fill=\"#000000\" fill-rule=\"evenodd\" fill-opacity=\"1\" /><path clip-path=\"url(#clip750)\" d=\"M151.701 1483.91 Q145.382 1483.91 142.182 1490.15 Q139.022 1496.34 139.022 1508.82 Q139.022 1521.26 142.182 1527.5 Q145.382 1533.69 151.701 1533.69 Q158.061 1533.69 161.221 1527.5 Q164.421 1521.26 164.421 1508.82 Q164.421 1496.34 161.221 1490.15 Q158.061 1483.91 151.701 1483.91 M151.701 1477.43 Q161.869 1477.43 167.216 1485.49 Q172.604 1493.51 172.604 1508.82 Q172.604 1524.09 167.216 1532.15 Q161.869 1540.17 151.701 1540.17 Q141.534 1540.17 136.146 1532.15 Q130.799 1524.09 130.799 1508.82 Q130.799 1493.51 136.146 1485.49 Q141.534 1477.43 151.701 1477.43 Z\" fill=\"#000000\" fill-rule=\"evenodd\" fill-opacity=\"1\" /><path clip-path=\"url(#clip750)\" d=\"M204.485 1483.91 Q198.165 1483.91 194.965 1490.15 Q191.805 1496.34 191.805 1508.82 Q191.805 1521.26 194.965 1527.5 Q198.165 1533.69 204.485 1533.69 Q210.845 1533.69 214.004 1527.5 Q217.205 1521.26 217.205 1508.82 Q217.205 1496.34 214.004 1490.15 Q210.845 1483.91 204.485 1483.91 M204.485 1477.43 Q214.652 1477.43 220 1485.49 Q225.387 1493.51 225.387 1508.82 Q225.387 1524.09 220 1532.15 Q214.652 1540.17 204.485 1540.17 Q194.317 1540.17 188.929 1532.15 Q183.582 1524.09 183.582 1508.82 Q183.582 1493.51 188.929 1485.49 Q194.317 1477.43 204.485 1477.43 Z\" fill=\"#000000\" fill-rule=\"evenodd\" fill-opacity=\"1\" /><path clip-path=\"url(#clip750)\" d=\"M255.85 1512.99 L244.427 1549.94 L237.54 1549.94 L248.964 1512.99 L237.54 1476.05 L244.427 1476.05 L255.85 1512.99 Z\" fill=\"#000000\" fill-rule=\"evenodd\" fill-opacity=\"1\" /><path clip-path=\"url(#clip750)\" d=\"M326.877 1475.6 L326.877 1558.57 L319.991 1558.57 L319.991 1475.6 L326.877 1475.6 Z\" fill=\"#000000\" fill-rule=\"evenodd\" fill-opacity=\"1\" /><path clip-path=\"url(#clip750)\" d=\"M363.781 1483.91 Q357.462 1483.91 354.261 1490.15 Q351.102 1496.34 351.102 1508.82 Q351.102 1521.26 354.261 1527.5 Q357.462 1533.69 363.781 1533.69 Q370.141 1533.69 373.301 1527.5 Q376.501 1521.26 376.501 1508.82 Q376.501 1496.34 373.301 1490.15 Q370.141 1483.91 363.781 1483.91 M363.781 1477.43 Q373.949 1477.43 379.296 1485.49 Q384.684 1493.51 384.684 1508.82 Q384.684 1524.09 379.296 1532.15 Q373.949 1540.17 363.781 1540.17 Q353.613 1540.17 348.226 1532.15 Q342.878 1524.09 342.878 1508.82 Q342.878 1493.51 348.226 1485.49 Q353.613 1477.43 363.781 1477.43 Z\" fill=\"#000000\" fill-rule=\"evenodd\" fill-opacity=\"1\" /><path clip-path=\"url(#clip750)\" d=\"M400.482 1532.11 L413.85 1532.11 L413.85 1485.97 L399.307 1488.89 L399.307 1481.44 L413.769 1478.52 L421.952 1478.52 L421.952 1532.11 L435.32 1532.11 L435.32 1539 L400.482 1539 L400.482 1532.11 Z\" fill=\"#000000\" fill-rule=\"evenodd\" fill-opacity=\"1\" /><path clip-path=\"url(#clip750)\" d=\"M467.93 1512.99 L456.506 1549.94 L449.62 1549.94 L461.043 1512.99 L449.62 1476.05 L456.506 1476.05 L467.93 1512.99 Z\" fill=\"#000000\" fill-rule=\"evenodd\" fill-opacity=\"1\" /><path clip-path=\"url(#clip750)\" d=\"M538.957 1475.6 L538.957 1558.57 L532.07 1558.57 L532.07 1475.6 L538.957 1475.6 Z\" fill=\"#000000\" fill-rule=\"evenodd\" fill-opacity=\"1\" /><path clip-path=\"url(#clip750)\" d=\"M559.778 1532.11 L573.146 1532.11 L573.146 1485.97 L558.604 1488.89 L558.604 1481.44 L573.065 1478.52 L581.248 1478.52 L581.248 1532.11 L594.616 1532.11 L594.616 1539 L559.778 1539 L559.778 1532.11 Z\" fill=\"#000000\" fill-rule=\"evenodd\" fill-opacity=\"1\" /><path clip-path=\"url(#clip750)\" d=\"M628.644 1483.91 Q622.324 1483.91 619.124 1490.15 Q615.964 1496.34 615.964 1508.82 Q615.964 1521.26 619.124 1527.5 Q622.324 1533.69 628.644 1533.69 Q635.004 1533.69 638.163 1527.5 Q641.364 1521.26 641.364 1508.82 Q641.364 1496.34 638.163 1490.15 Q635.004 1483.91 628.644 1483.91 M628.644 1477.43 Q638.812 1477.43 644.159 1485.49 Q649.546 1493.51 649.546 1508.82 Q649.546 1524.09 644.159 1532.15 Q638.812 1540.17 628.644 1540.17 Q618.476 1540.17 613.088 1532.15 Q607.741 1524.09 607.741 1508.82 Q607.741 1493.51 613.088 1485.49 Q618.476 1477.43 628.644 1477.43 Z\" fill=\"#000000\" fill-rule=\"evenodd\" fill-opacity=\"1\" /><path clip-path=\"url(#clip750)\" d=\"M680.009 1512.99 L668.586 1549.94 L661.699 1549.94 L673.123 1512.99 L661.699 1476.05 L668.586 1476.05 L680.009 1512.99 Z\" fill=\"#000000\" fill-rule=\"evenodd\" fill-opacity=\"1\" /><path clip-path=\"url(#clip750)\" d=\"M751.036 1475.6 L751.036 1558.57 L744.15 1558.57 L744.15 1475.6 L751.036 1475.6 Z\" fill=\"#000000\" fill-rule=\"evenodd\" fill-opacity=\"1\" /><path clip-path=\"url(#clip750)\" d=\"M771.858 1532.11 L785.226 1532.11 L785.226 1485.97 L770.683 1488.89 L770.683 1481.44 L785.145 1478.52 L793.328 1478.52 L793.328 1532.11 L806.696 1532.11 L806.696 1539 L771.858 1539 L771.858 1532.11 Z\" fill=\"#000000\" fill-rule=\"evenodd\" fill-opacity=\"1\" /><path clip-path=\"url(#clip750)\" d=\"M824.641 1532.11 L838.009 1532.11 L838.009 1485.97 L823.467 1488.89 L823.467 1481.44 L837.928 1478.52 L846.111 1478.52 L846.111 1532.11 L859.479 1532.11 L859.479 1539 L824.641 1539 L824.641 1532.11 Z\" fill=\"#000000\" fill-rule=\"evenodd\" fill-opacity=\"1\" /><path clip-path=\"url(#clip750)\" d=\"M892.089 1512.99 L880.665 1549.94 L873.779 1549.94 L885.202 1512.99 L873.779 1476.05 L880.665 1476.05 L892.089 1512.99 Z\" fill=\"#000000\" fill-rule=\"evenodd\" fill-opacity=\"1\" /><circle clip-path=\"url(#clip752)\" style=\"fill:#3da44d; stroke:none; fill-opacity:1\" cx=\"181.881\" cy=\"89.8529\" r=\"2\"/>\n",
       "<circle clip-path=\"url(#clip752)\" style=\"fill:#3da44d; stroke:none; fill-opacity:1\" cx=\"393.96\" cy=\"89.8529\" r=\"2\"/>\n",
       "<circle clip-path=\"url(#clip752)\" style=\"fill:#3da44d; stroke:none; fill-opacity:1\" cx=\"606.04\" cy=\"89.8529\" r=\"2\"/>\n",
       "<circle clip-path=\"url(#clip752)\" style=\"fill:#3da44d; stroke:none; fill-opacity:1\" cx=\"818.119\" cy=\"89.8529\" r=\"2\"/>\n",
       "<path clip-path=\"url(#clip750)\" d=\"M181.881 65.0006 Q175.561 65.0006 172.361 71.239 Q169.201 77.4369 169.201 89.9137 Q169.201 102.35 172.361 108.588 Q175.561 114.786 181.881 114.786 Q188.241 114.786 191.4 108.588 Q194.601 102.35 194.601 89.9137 Q194.601 77.4369 191.4 71.239 Q188.241 65.0006 181.881 65.0006 M181.881 58.5192 Q192.048 58.5192 197.396 66.5805 Q202.783 74.6013 202.783 89.9137 Q202.783 105.186 197.396 113.247 Q192.048 121.268 181.881 121.268 Q171.713 121.268 166.325 113.247 Q160.978 105.186 160.978 89.9137 Q160.978 74.6013 166.325 66.5805 Q171.713 58.5192 181.881 58.5192 Z\" fill=\"#000000\" fill-rule=\"evenodd\" fill-opacity=\"1\" /><path clip-path=\"url(#clip750)\" d=\"M393.96 65.0006 Q387.641 65.0006 384.441 71.239 Q381.281 77.4369 381.281 89.9137 Q381.281 102.35 384.441 108.588 Q387.641 114.786 393.96 114.786 Q400.32 114.786 403.48 108.588 Q406.68 102.35 406.68 89.9137 Q406.68 77.4369 403.48 71.239 Q400.32 65.0006 393.96 65.0006 M393.96 58.5192 Q404.128 58.5192 409.475 66.5805 Q414.863 74.6013 414.863 89.9137 Q414.863 105.186 409.475 113.247 Q404.128 121.268 393.96 121.268 Q383.792 121.268 378.405 113.247 Q373.058 105.186 373.058 89.9137 Q373.058 74.6013 378.405 66.5805 Q383.792 58.5192 393.96 58.5192 Z\" fill=\"#000000\" fill-rule=\"evenodd\" fill-opacity=\"1\" /><path clip-path=\"url(#clip750)\" d=\"M508.535 113.206 L521.902 113.206 L521.902 67.0666 L507.36 69.9832 L507.36 62.5296 L521.821 59.6129 L530.004 59.6129 L530.004 113.206 L543.372 113.206 L543.372 120.093 L508.535 120.093 L508.535 113.206 Z\" fill=\"#000000\" fill-rule=\"evenodd\" fill-opacity=\"1\" /><path clip-path=\"url(#clip750)\" d=\"M577.4 65.0006 Q571.08 65.0006 567.88 71.239 Q564.721 77.4369 564.721 89.9137 Q564.721 102.35 567.88 108.588 Q571.08 114.786 577.4 114.786 Q583.76 114.786 586.92 108.588 Q590.12 102.35 590.12 89.9137 Q590.12 77.4369 586.92 71.239 Q583.76 65.0006 577.4 65.0006 M577.4 58.5192 Q587.568 58.5192 592.915 66.5805 Q598.303 74.6013 598.303 89.9137 Q598.303 105.186 592.915 113.247 Q587.568 121.268 577.4 121.268 Q567.232 121.268 561.844 113.247 Q556.497 105.186 556.497 89.9137 Q556.497 74.6013 561.844 66.5805 Q567.232 58.5192 577.4 58.5192 Z\" fill=\"#000000\" fill-rule=\"evenodd\" fill-opacity=\"1\" /><path clip-path=\"url(#clip750)\" d=\"M619.732 113.206 L648.291 113.206 L648.291 120.093 L609.888 120.093 L609.888 113.206 Q614.547 108.386 622.567 100.284 Q630.629 92.1417 632.695 89.7922 Q636.624 85.3767 638.163 82.3385 Q639.743 79.2598 639.743 76.3026 Q639.743 71.4821 636.341 68.4439 Q632.978 65.4057 627.55 65.4057 Q623.702 65.4057 619.408 66.7425 Q615.154 68.0793 610.293 70.7934 L610.293 62.5296 Q615.235 60.5446 619.529 59.5319 Q623.823 58.5192 627.388 58.5192 Q636.786 58.5192 642.376 63.2182 Q647.967 67.9173 647.967 75.776 Q647.967 79.5029 646.549 82.8651 Q645.172 86.1869 641.485 90.7239 Q640.472 91.8986 635.044 97.5294 Q629.616 103.12 619.732 113.206 Z\" fill=\"#000000\" fill-rule=\"evenodd\" fill-opacity=\"1\" /><path clip-path=\"url(#clip750)\" d=\"M687.949 66.7425 L667.289 99.0282 L687.949 99.0282 L687.949 66.7425 M685.802 59.6129 L696.091 59.6129 L696.091 99.0282 L704.72 99.0282 L704.72 105.834 L696.091 105.834 L696.091 120.093 L687.949 120.093 L687.949 105.834 L660.646 105.834 L660.646 97.9345 L685.802 59.6129 Z\" fill=\"#000000\" fill-rule=\"evenodd\" fill-opacity=\"1\" /><path clip-path=\"url(#clip750)\" d=\"M818.119 65.0006 Q811.8 65.0006 808.6 71.239 Q805.44 77.4369 805.44 89.9137 Q805.44 102.35 808.6 108.588 Q811.8 114.786 818.119 114.786 Q824.479 114.786 827.639 108.588 Q830.839 102.35 830.839 89.9137 Q830.839 77.4369 827.639 71.239 Q824.479 65.0006 818.119 65.0006 M818.119 58.5192 Q828.287 58.5192 833.634 66.5805 Q839.022 74.6013 839.022 89.9137 Q839.022 105.186 833.634 113.247 Q828.287 121.268 818.119 121.268 Q807.952 121.268 802.564 113.247 Q797.217 105.186 797.217 89.9137 Q797.217 74.6013 802.564 66.5805 Q807.952 58.5192 818.119 58.5192 Z\" fill=\"#000000\" fill-rule=\"evenodd\" fill-opacity=\"1\" /></svg>\n"
      ]
     },
     "execution_count": 134,
     "metadata": {},
     "output_type": "execute_result"
    },
    {
     "name": "stderr",
     "output_type": "stream",
     "text": [
      "\u001b[33m\u001b[1m┌ \u001b[22m\u001b[39m\u001b[33m\u001b[1mWarning: \u001b[22m\u001b[39mInvalid limits for x axis. Limits should be a symbol, or a two-element tuple or vector of numbers.\n",
      "\u001b[33m\u001b[1m│ \u001b[22m\u001b[39mxlims = (0:4,)\n",
      "\u001b[33m\u001b[1m└ \u001b[22m\u001b[39m\u001b[90m@ Plots ~/.julia/packages/Plots/modjX/src/axes.jl:628\u001b[39m\n",
      "\u001b[33m\u001b[1m┌ \u001b[22m\u001b[39m\u001b[33m\u001b[1mWarning: \u001b[22m\u001b[39mInvalid limits for y axis. Limits should be a symbol, or a two-element tuple or vector of numbers.\n",
      "\u001b[33m\u001b[1m│ \u001b[22m\u001b[39mylims = (0:1024,)\n",
      "\u001b[33m\u001b[1m└ \u001b[22m\u001b[39m\u001b[90m@ Plots ~/.julia/packages/Plots/modjX/src/axes.jl:628\u001b[39m\n",
      "\u001b[33m\u001b[1m┌ \u001b[22m\u001b[39m\u001b[33m\u001b[1mWarning: \u001b[22m\u001b[39mInvalid limits for x axis. Limits should be a symbol, or a two-element tuple or vector of numbers.\n",
      "\u001b[33m\u001b[1m│ \u001b[22m\u001b[39mxlims = (0:4,)\n",
      "\u001b[33m\u001b[1m└ \u001b[22m\u001b[39m\u001b[90m@ Plots ~/.julia/packages/Plots/modjX/src/axes.jl:628\u001b[39m\n",
      "\u001b[33m\u001b[1m┌ \u001b[22m\u001b[39m\u001b[33m\u001b[1mWarning: \u001b[22m\u001b[39mInvalid limits for y axis. Limits should be a symbol, or a two-element tuple or vector of numbers.\n",
      "\u001b[33m\u001b[1m│ \u001b[22m\u001b[39mylims = (0:1024,)\n",
      "\u001b[33m\u001b[1m└ \u001b[22m\u001b[39m\u001b[90m@ Plots ~/.julia/packages/Plots/modjX/src/axes.jl:628\u001b[39m\n",
      "\u001b[33m\u001b[1m┌ \u001b[22m\u001b[39m\u001b[33m\u001b[1mWarning: \u001b[22m\u001b[39mInvalid limits for x axis. Limits should be a symbol, or a two-element tuple or vector of numbers.\n",
      "\u001b[33m\u001b[1m│ \u001b[22m\u001b[39mxlims = (0:4,)\n",
      "\u001b[33m\u001b[1m└ \u001b[22m\u001b[39m\u001b[90m@ Plots ~/.julia/packages/Plots/modjX/src/axes.jl:628\u001b[39m\n",
      "\u001b[33m\u001b[1m┌ \u001b[22m\u001b[39m\u001b[33m\u001b[1mWarning: \u001b[22m\u001b[39mInvalid limits for y axis. Limits should be a symbol, or a two-element tuple or vector of numbers.\n",
      "\u001b[33m\u001b[1m│ \u001b[22m\u001b[39mylims = (0:1024,)\n",
      "\u001b[33m\u001b[1m└ \u001b[22m\u001b[39m\u001b[90m@ Plots ~/.julia/packages/Plots/modjX/src/axes.jl:628\u001b[39m\n",
      "\u001b[33m\u001b[1m┌ \u001b[22m\u001b[39m\u001b[33m\u001b[1mWarning: \u001b[22m\u001b[39mInvalid limits for x axis. Limits should be a symbol, or a two-element tuple or vector of numbers.\n",
      "\u001b[33m\u001b[1m│ \u001b[22m\u001b[39mxlims = (0:4,)\n",
      "\u001b[33m\u001b[1m└ \u001b[22m\u001b[39m\u001b[90m@ Plots ~/.julia/packages/Plots/modjX/src/axes.jl:628\u001b[39m\n",
      "\u001b[33m\u001b[1m┌ \u001b[22m\u001b[39m\u001b[33m\u001b[1mWarning: \u001b[22m\u001b[39mInvalid limits for y axis. Limits should be a symbol, or a two-element tuple or vector of numbers.\n",
      "\u001b[33m\u001b[1m│ \u001b[22m\u001b[39mylims = (0:1024,)\n",
      "\u001b[33m\u001b[1m└ \u001b[22m\u001b[39m\u001b[90m@ Plots ~/.julia/packages/Plots/modjX/src/axes.jl:628\u001b[39m\n"
     ]
    }
   ],
   "source": [
    "plotmeasures(a)"
   ]
  },
  {
   "cell_type": "markdown",
   "id": "f6e1b836-07dd-40ef-931c-76d84baadc75",
   "metadata": {
    "slideshow": {
     "slide_type": "slide"
    }
   },
   "source": [
    "## The Toffoli gate\n",
    "\n",
    "he Toffoli has two control qubits, and behaves effectively like a controlled-CNOT, or controlled-NOT. Its matrix representation is below:\n",
    "\n",
    "\\begin{align}\n",
    "& TOF = \\begin{bmatrix} 1 & 0 & 0 & 0 & 0 & 0 & 0 & 0\\\\\n",
    " 0 & 1 & 0 & 0 & 0 & 0 & 0 & 0\\\\\n",
    " 0 & 0 & 1 & 0 & 0 & 0 & 0 & 0\\\\\n",
    " 0 & 0 & 0 & 1 & 0 & 0 & 0 & 0\\\\\n",
    " 0 & 0 & 0 & 0 & 1 & 0 & 0 & 0\\\\\n",
    " 0 & 0 & 0 & 0 & 0 & 1 & 0 & 0\\\\\n",
    " 0 & 0 & 0 & 0 & 0 & 0 & 0 & 1\\\\\n",
    " 0 & 0 & 0 & 0 & 0 & 0 & 1 & 0\\\\\n",
    "\\end{bmatrix} \\\\\n",
    "\\end{align}\n"
   ]
  },
  {
   "cell_type": "code",
   "execution_count": 135,
   "id": "9eee028c-96f2-4a90-9880-78a5ab78635c",
   "metadata": {},
   "outputs": [
    {
     "data": {
      "image/svg+xml": [
       "<?xml version=\"1.0\" encoding=\"UTF-8\"?>\n",
       "<svg xmlns=\"http://www.w3.org/2000/svg\" xmlns:xlink=\"http://www.w3.org/1999/xlink\" width=\"102pt\" height=\"135pt\" viewBox=\"0 0 102 135\" version=\"1.1\">\n",
       "<g id=\"surface94\">\n",
       "<path style=\" stroke:none;fill-rule:nonzero;fill:rgb(0%,0%,0%);fill-opacity:1;\" d=\"M 53.398438 22.5 C 53.398438 25.699219 48.601562 25.699219 48.601562 22.5 C 48.601562 19.300781 53.398438 19.300781 53.398438 22.5 \"/>\n",
       "<path style=\" stroke:none;fill-rule:nonzero;fill:rgb(0%,0%,0%);fill-opacity:1;\" d=\"M 53.398438 67.5 C 53.398438 70.699219 48.601562 70.699219 48.601562 67.5 C 48.601562 64.300781 53.398438 64.300781 53.398438 67.5 \"/>\n",
       "<path style=\"fill:none;stroke-width:1;stroke-linecap:butt;stroke-linejoin:miter;stroke:rgb(0%,0%,0%);stroke-opacity:1;stroke-miterlimit:10;\" d=\"M 51 65.101562 L 51 24.898438 \"/>\n",
       "<path style=\"fill:none;stroke-width:1;stroke-linecap:butt;stroke-linejoin:miter;stroke:rgb(0%,0%,0%);stroke-opacity:1;stroke-miterlimit:10;\" d=\"M 59.398438 112.5 C 59.398438 117.140625 55.640625 120.898438 51 120.898438 C 46.359375 120.898438 42.601562 117.140625 42.601562 112.5 C 42.601562 107.859375 46.359375 104.101562 51 104.101562 C 55.640625 104.101562 59.398438 107.859375 59.398438 112.5 \"/>\n",
       "<path style=\"fill:none;stroke-width:1;stroke-linecap:butt;stroke-linejoin:miter;stroke:rgb(0%,0%,0%);stroke-opacity:1;stroke-miterlimit:10;\" d=\"M 42.601562 112.5 L 59.398438 112.5 \"/>\n",
       "<path style=\"fill:none;stroke-width:1;stroke-linecap:butt;stroke-linejoin:miter;stroke:rgb(0%,0%,0%);stroke-opacity:1;stroke-miterlimit:10;\" d=\"M 51 104.101562 L 51 120.898438 \"/>\n",
       "<path style=\"fill:none;stroke-width:1;stroke-linecap:butt;stroke-linejoin:miter;stroke:rgb(0%,0%,0%);stroke-opacity:1;stroke-miterlimit:10;\" d=\"M 51 104.101562 L 51 69.898438 \"/>\n",
       "<path style=\"fill:none;stroke-width:1;stroke-linecap:butt;stroke-linejoin:miter;stroke:rgb(0%,0%,0%);stroke-opacity:1;stroke-miterlimit:10;\" d=\"M 25.5 22.5 L 48.601562 22.5 \"/>\n",
       "<path style=\"fill:none;stroke-width:1;stroke-linecap:butt;stroke-linejoin:miter;stroke:rgb(0%,0%,0%);stroke-opacity:1;stroke-miterlimit:10;\" d=\"M 53.398438 22.5 L 76.5 22.5 \"/>\n",
       "<path style=\"fill:none;stroke-width:1;stroke-linecap:butt;stroke-linejoin:miter;stroke:rgb(0%,0%,0%);stroke-opacity:1;stroke-miterlimit:10;\" d=\"M 25.5 67.5 L 48.601562 67.5 \"/>\n",
       "<path style=\"fill:none;stroke-width:1;stroke-linecap:butt;stroke-linejoin:miter;stroke:rgb(0%,0%,0%);stroke-opacity:1;stroke-miterlimit:10;\" d=\"M 53.398438 67.5 L 76.5 67.5 \"/>\n",
       "<path style=\"fill:none;stroke-width:1;stroke-linecap:butt;stroke-linejoin:miter;stroke:rgb(0%,0%,0%);stroke-opacity:1;stroke-miterlimit:10;\" d=\"M 25.5 112.5 L 42.601562 112.5 \"/>\n",
       "<path style=\"fill:none;stroke-width:1;stroke-linecap:butt;stroke-linejoin:miter;stroke:rgb(0%,0%,0%);stroke-opacity:1;stroke-miterlimit:10;\" d=\"M 59.398438 112.5 L 76.5 112.5 \"/>\n",
       "<path style=\"fill:none;stroke-width:1;stroke-linecap:butt;stroke-linejoin:miter;stroke:rgb(0%,0%,0%);stroke-opacity:1;stroke-miterlimit:10;\" d=\"M 76.5 22.5 L 76.5 22.5 \"/>\n",
       "<path style=\"fill:none;stroke-width:1;stroke-linecap:butt;stroke-linejoin:miter;stroke:rgb(0%,0%,0%);stroke-opacity:1;stroke-miterlimit:10;\" d=\"M 76.5 67.5 L 76.5 67.5 \"/>\n",
       "<path style=\"fill:none;stroke-width:1;stroke-linecap:butt;stroke-linejoin:miter;stroke:rgb(0%,0%,0%);stroke-opacity:1;stroke-miterlimit:10;\" d=\"M 76.5 112.5 L 76.5 112.5 \"/>\n",
       "</g>\n",
       "</svg>\n"
      ],
      "text/plain": []
     },
     "execution_count": 135,
     "metadata": {},
     "output_type": "execute_result"
    }
   ],
   "source": [
    "tof_cric = chain(3, cnot(3, (1,2), 3))\n",
    "plot(tof_cric)"
   ]
  },
  {
   "cell_type": "code",
   "execution_count": 136,
   "id": "aae500b1-5170-455f-9e5b-01119101e25a",
   "metadata": {
    "slideshow": {
     "slide_type": "subslide"
    }
   },
   "outputs": [
    {
     "data": {
      "text/plain": [
       "ArrayReg{2, ComplexF64, Array...}\n",
       "    active qubits: 3/3\n",
       "    nlevel: 2"
      ]
     },
     "execution_count": 136,
     "metadata": {},
     "output_type": "execute_result"
    }
   ],
   "source": [
    "q0 = ArrayReg(bit\"011\")"
   ]
  },
  {
   "cell_type": "code",
   "execution_count": 137,
   "id": "31c6a839-142a-479a-9a8d-f2970d21f96e",
   "metadata": {},
   "outputs": [
    {
     "data": {
      "text/plain": [
       "8×1 Matrix{ComplexF64}:\n",
       " 0.0 + 0.0im\n",
       " 0.0 + 0.0im\n",
       " 0.0 + 0.0im\n",
       " 1.0 + 0.0im\n",
       " 0.0 + 0.0im\n",
       " 0.0 + 0.0im\n",
       " 0.0 + 0.0im\n",
       " 0.0 + 0.0im"
      ]
     },
     "execution_count": 137,
     "metadata": {},
     "output_type": "execute_result"
    }
   ],
   "source": [
    "state(q0)"
   ]
  },
  {
   "cell_type": "code",
   "execution_count": 138,
   "id": "a85a3291-10ab-4b2f-9110-661870294ef4",
   "metadata": {},
   "outputs": [
    {
     "data": {
      "text/plain": [
       "ArrayReg{2, ComplexF64, Array...}\n",
       "    active qubits: 3/3\n",
       "    nlevel: 2"
      ]
     },
     "execution_count": 138,
     "metadata": {},
     "output_type": "execute_result"
    }
   ],
   "source": [
    "st = q0 |> tof_cric"
   ]
  },
  {
   "cell_type": "code",
   "execution_count": 139,
   "id": "05c923bd-87b8-441a-a472-04ed4a6a87d2",
   "metadata": {},
   "outputs": [
    {
     "data": {
      "text/plain": [
       "8×1 Matrix{ComplexF64}:\n",
       " 0.0 + 0.0im\n",
       " 0.0 + 0.0im\n",
       " 0.0 + 0.0im\n",
       " 0.0 + 0.0im\n",
       " 0.0 + 0.0im\n",
       " 0.0 + 0.0im\n",
       " 0.0 + 0.0im\n",
       " 1.0 + 0.0im"
      ]
     },
     "execution_count": 139,
     "metadata": {},
     "output_type": "execute_result"
    }
   ],
   "source": [
    "state(st)"
   ]
  },
  {
   "cell_type": "code",
   "execution_count": 140,
   "id": "dc095004-da44-42f5-8fce-fb53f121e025",
   "metadata": {
    "slideshow": {
     "slide_type": "subslide"
    }
   },
   "outputs": [],
   "source": [
    "a = (q0 |> tof_cric -> measure(tof_cric, nshots=1024));"
   ]
  },
  {
   "cell_type": "code",
   "execution_count": 141,
   "id": "da270472-e537-4f96-b829-0359c0138306",
   "metadata": {},
   "outputs": [
    {
     "data": {
      "image/svg+xml": [
       "<?xml version=\"1.0\" encoding=\"utf-8\"?>\n",
       "<svg xmlns=\"http://www.w3.org/2000/svg\" xmlns:xlink=\"http://www.w3.org/1999/xlink\" width=\"500\" height=\"400\" viewBox=\"0 0 2000 1600\">\n",
       "<defs>\n",
       "  <clipPath id=\"clip780\">\n",
       "    <rect x=\"0\" y=\"0\" width=\"2000\" height=\"1600\"/>\n",
       "  </clipPath>\n",
       "</defs>\n",
       "<path clip-path=\"url(#clip780)\" d=\"M0 1600 L2000 1600 L2000 0 L0 0  Z\" fill=\"#ffffff\" fill-rule=\"evenodd\" fill-opacity=\"1\"/>\n",
       "<defs>\n",
       "  <clipPath id=\"clip781\">\n",
       "    <rect x=\"400\" y=\"0\" width=\"1401\" height=\"1401\"/>\n",
       "  </clipPath>\n",
       "</defs>\n",
       "<path clip-path=\"url(#clip780)\" d=\"M47.2441 1552.76 L1952.76 1552.76 L1952.76 47.2441 L47.2441 47.2441  Z\" fill=\"#ffffff\" fill-rule=\"evenodd\" fill-opacity=\"1\"/>\n",
       "<defs>\n",
       "  <clipPath id=\"clip782\">\n",
       "    <rect x=\"47\" y=\"47\" width=\"1907\" height=\"1507\"/>\n",
       "  </clipPath>\n",
       "</defs>\n",
       "<path clip-path=\"url(#clip782)\" d=\"M152.051 1510.15 L152.051 1510.15 L325.989 1510.15 L325.989 1510.15 L152.051 1510.15 L152.051 1510.15  Z\" fill=\"#add8e6\" fill-rule=\"evenodd\" fill-opacity=\"1\"/>\n",
       "<polyline clip-path=\"url(#clip782)\" style=\"stroke:#add8e6; stroke-linecap:round; stroke-linejoin:round; stroke-width:4; stroke-opacity:1; fill:none\" points=\"152.051,1510.15 152.051,1510.15 325.989,1510.15 152.051,1510.15 \"/>\n",
       "<path clip-path=\"url(#clip782)\" d=\"M369.474 1510.15 L369.474 1510.15 L543.412 1510.15 L543.412 1510.15 L369.474 1510.15 L369.474 1510.15  Z\" fill=\"#add8e6\" fill-rule=\"evenodd\" fill-opacity=\"1\"/>\n",
       "<polyline clip-path=\"url(#clip782)\" style=\"stroke:#add8e6; stroke-linecap:round; stroke-linejoin:round; stroke-width:4; stroke-opacity:1; fill:none\" points=\"369.474,1510.15 369.474,1510.15 543.412,1510.15 369.474,1510.15 \"/>\n",
       "<path clip-path=\"url(#clip782)\" d=\"M586.896 1510.15 L586.896 1510.15 L760.835 1510.15 L760.835 1510.15 L586.896 1510.15 L586.896 1510.15  Z\" fill=\"#add8e6\" fill-rule=\"evenodd\" fill-opacity=\"1\"/>\n",
       "<polyline clip-path=\"url(#clip782)\" style=\"stroke:#add8e6; stroke-linecap:round; stroke-linejoin:round; stroke-width:4; stroke-opacity:1; fill:none\" points=\"586.896,1510.15 586.896,1510.15 760.835,1510.15 586.896,1510.15 \"/>\n",
       "<path clip-path=\"url(#clip782)\" d=\"M804.319 1510.15 L804.319 1510.15 L978.258 1510.15 L978.258 1510.15 L804.319 1510.15 L804.319 1510.15  Z\" fill=\"#add8e6\" fill-rule=\"evenodd\" fill-opacity=\"1\"/>\n",
       "<polyline clip-path=\"url(#clip782)\" style=\"stroke:#add8e6; stroke-linecap:round; stroke-linejoin:round; stroke-width:4; stroke-opacity:1; fill:none\" points=\"804.319,1510.15 804.319,1510.15 978.258,1510.15 804.319,1510.15 \"/>\n",
       "<path clip-path=\"url(#clip782)\" d=\"M1021.74 1510.15 L1021.74 1510.15 L1195.68 1510.15 L1195.68 1510.15 L1021.74 1510.15 L1021.74 1510.15  Z\" fill=\"#add8e6\" fill-rule=\"evenodd\" fill-opacity=\"1\"/>\n",
       "<polyline clip-path=\"url(#clip782)\" style=\"stroke:#add8e6; stroke-linecap:round; stroke-linejoin:round; stroke-width:4; stroke-opacity:1; fill:none\" points=\"1021.74,1510.15 1021.74,1510.15 1195.68,1510.15 1021.74,1510.15 \"/>\n",
       "<path clip-path=\"url(#clip782)\" d=\"M1239.17 1510.15 L1239.17 1510.15 L1413.1 1510.15 L1413.1 1510.15 L1239.17 1510.15 L1239.17 1510.15  Z\" fill=\"#add8e6\" fill-rule=\"evenodd\" fill-opacity=\"1\"/>\n",
       "<polyline clip-path=\"url(#clip782)\" style=\"stroke:#add8e6; stroke-linecap:round; stroke-linejoin:round; stroke-width:4; stroke-opacity:1; fill:none\" points=\"1239.17,1510.15 1239.17,1510.15 1413.1,1510.15 1239.17,1510.15 \"/>\n",
       "<path clip-path=\"url(#clip782)\" d=\"M1456.59 1510.15 L1456.59 1510.15 L1630.53 1510.15 L1630.53 1510.15 L1456.59 1510.15 L1456.59 1510.15  Z\" fill=\"#add8e6\" fill-rule=\"evenodd\" fill-opacity=\"1\"/>\n",
       "<polyline clip-path=\"url(#clip782)\" style=\"stroke:#add8e6; stroke-linecap:round; stroke-linejoin:round; stroke-width:4; stroke-opacity:1; fill:none\" points=\"1456.59,1510.15 1456.59,1510.15 1630.53,1510.15 1456.59,1510.15 \"/>\n",
       "<path clip-path=\"url(#clip782)\" d=\"M1674.01 89.8529 L1674.01 1510.15 L1847.95 1510.15 L1847.95 89.8529 L1674.01 89.8529 L1674.01 89.8529  Z\" fill=\"#add8e6\" fill-rule=\"evenodd\" fill-opacity=\"1\"/>\n",
       "<polyline clip-path=\"url(#clip782)\" style=\"stroke:#add8e6; stroke-linecap:round; stroke-linejoin:round; stroke-width:4; stroke-opacity:1; fill:none\" points=\"1674.01,89.8529 1674.01,1510.15 1847.95,1510.15 1847.95,89.8529 1674.01,89.8529 \"/>\n",
       "<circle clip-path=\"url(#clip782)\" style=\"fill:#add8e6; stroke:none; fill-opacity:0\" cx=\"130.308\" cy=\"1510.15\" r=\"2\"/>\n",
       "<circle clip-path=\"url(#clip782)\" style=\"fill:#add8e6; stroke:none; fill-opacity:0\" cx=\"347.731\" cy=\"1510.15\" r=\"2\"/>\n",
       "<circle clip-path=\"url(#clip782)\" style=\"fill:#add8e6; stroke:none; fill-opacity:0\" cx=\"565.154\" cy=\"1510.15\" r=\"2\"/>\n",
       "<circle clip-path=\"url(#clip782)\" style=\"fill:#add8e6; stroke:none; fill-opacity:0\" cx=\"782.577\" cy=\"1510.15\" r=\"2\"/>\n",
       "<circle clip-path=\"url(#clip782)\" style=\"fill:#add8e6; stroke:none; fill-opacity:0\" cx=\"1000\" cy=\"1510.15\" r=\"2\"/>\n",
       "<circle clip-path=\"url(#clip782)\" style=\"fill:#add8e6; stroke:none; fill-opacity:0\" cx=\"1217.42\" cy=\"1510.15\" r=\"2\"/>\n",
       "<circle clip-path=\"url(#clip782)\" style=\"fill:#add8e6; stroke:none; fill-opacity:0\" cx=\"1434.85\" cy=\"1510.15\" r=\"2\"/>\n",
       "<circle clip-path=\"url(#clip782)\" style=\"fill:#add8e6; stroke:none; fill-opacity:0\" cx=\"1652.27\" cy=\"89.8529\" r=\"2\"/>\n",
       "<circle clip-path=\"url(#clip782)\" style=\"fill:#add8e6; stroke:none; fill-opacity:0\" cx=\"1869.69\" cy=\"1510.15\" r=\"2\"/>\n",
       "<circle clip-path=\"url(#clip782)\" style=\"fill:#e26f46; stroke:none; fill-opacity:1\" cx=\"239.02\" cy=\"1508.76\" r=\"2\"/>\n",
       "<circle clip-path=\"url(#clip782)\" style=\"fill:#e26f46; stroke:none; fill-opacity:1\" cx=\"456.443\" cy=\"1508.76\" r=\"2\"/>\n",
       "<circle clip-path=\"url(#clip782)\" style=\"fill:#e26f46; stroke:none; fill-opacity:1\" cx=\"673.866\" cy=\"1508.76\" r=\"2\"/>\n",
       "<circle clip-path=\"url(#clip782)\" style=\"fill:#e26f46; stroke:none; fill-opacity:1\" cx=\"891.289\" cy=\"1508.76\" r=\"2\"/>\n",
       "<circle clip-path=\"url(#clip782)\" style=\"fill:#e26f46; stroke:none; fill-opacity:1\" cx=\"1108.71\" cy=\"1508.76\" r=\"2\"/>\n",
       "<circle clip-path=\"url(#clip782)\" style=\"fill:#e26f46; stroke:none; fill-opacity:1\" cx=\"1326.13\" cy=\"1508.76\" r=\"2\"/>\n",
       "<circle clip-path=\"url(#clip782)\" style=\"fill:#e26f46; stroke:none; fill-opacity:1\" cx=\"1543.56\" cy=\"1508.76\" r=\"2\"/>\n",
       "<circle clip-path=\"url(#clip782)\" style=\"fill:#e26f46; stroke:none; fill-opacity:1\" cx=\"1760.98\" cy=\"1508.76\" r=\"2\"/>\n",
       "<path clip-path=\"url(#clip780)\" d=\"M145.545 1475.6 L145.545 1558.57 L138.659 1558.57 L138.659 1475.6 L145.545 1475.6 Z\" fill=\"#000000\" fill-rule=\"evenodd\" fill-opacity=\"1\" /><path clip-path=\"url(#clip780)\" d=\"M182.449 1483.91 Q176.13 1483.91 172.929 1490.15 Q169.77 1496.34 169.77 1508.82 Q169.77 1521.26 172.929 1527.5 Q176.13 1533.69 182.449 1533.69 Q188.809 1533.69 191.969 1527.5 Q195.169 1521.26 195.169 1508.82 Q195.169 1496.34 191.969 1490.15 Q188.809 1483.91 182.449 1483.91 M182.449 1477.43 Q192.617 1477.43 197.964 1485.49 Q203.352 1493.51 203.352 1508.82 Q203.352 1524.09 197.964 1532.15 Q192.617 1540.17 182.449 1540.17 Q172.281 1540.17 166.893 1532.15 Q161.546 1524.09 161.546 1508.82 Q161.546 1493.51 166.893 1485.49 Q172.281 1477.43 182.449 1477.43 Z\" fill=\"#000000\" fill-rule=\"evenodd\" fill-opacity=\"1\" /><path clip-path=\"url(#clip780)\" d=\"M235.232 1483.91 Q228.913 1483.91 225.713 1490.15 Q222.553 1496.34 222.553 1508.82 Q222.553 1521.26 225.713 1527.5 Q228.913 1533.69 235.232 1533.69 Q241.592 1533.69 244.752 1527.5 Q247.952 1521.26 247.952 1508.82 Q247.952 1496.34 244.752 1490.15 Q241.592 1483.91 235.232 1483.91 M235.232 1477.43 Q245.4 1477.43 250.747 1485.49 Q256.135 1493.51 256.135 1508.82 Q256.135 1524.09 250.747 1532.15 Q245.4 1540.17 235.232 1540.17 Q225.064 1540.17 219.677 1532.15 Q214.33 1524.09 214.33 1508.82 Q214.33 1493.51 219.677 1485.49 Q225.064 1477.43 235.232 1477.43 Z\" fill=\"#000000\" fill-rule=\"evenodd\" fill-opacity=\"1\" /><path clip-path=\"url(#clip780)\" d=\"M288.015 1483.91 Q281.696 1483.91 278.496 1490.15 Q275.336 1496.34 275.336 1508.82 Q275.336 1521.26 278.496 1527.5 Q281.696 1533.69 288.015 1533.69 Q294.375 1533.69 297.535 1527.5 Q300.735 1521.26 300.735 1508.82 Q300.735 1496.34 297.535 1490.15 Q294.375 1483.91 288.015 1483.91 M288.015 1477.43 Q298.183 1477.43 303.53 1485.49 Q308.918 1493.51 308.918 1508.82 Q308.918 1524.09 303.53 1532.15 Q298.183 1540.17 288.015 1540.17 Q277.848 1540.17 272.46 1532.15 Q267.113 1524.09 267.113 1508.82 Q267.113 1493.51 272.46 1485.49 Q277.848 1477.43 288.015 1477.43 Z\" fill=\"#000000\" fill-rule=\"evenodd\" fill-opacity=\"1\" /><path clip-path=\"url(#clip780)\" d=\"M339.381 1512.99 L327.957 1549.94 L321.071 1549.94 L332.494 1512.99 L321.071 1476.05 L327.957 1476.05 L339.381 1512.99 Z\" fill=\"#000000\" fill-rule=\"evenodd\" fill-opacity=\"1\" /><path clip-path=\"url(#clip780)\" d=\"M362.968 1475.6 L362.968 1558.57 L356.082 1558.57 L356.082 1475.6 L362.968 1475.6 Z\" fill=\"#000000\" fill-rule=\"evenodd\" fill-opacity=\"1\" /><path clip-path=\"url(#clip780)\" d=\"M399.872 1483.91 Q393.552 1483.91 390.352 1490.15 Q387.193 1496.34 387.193 1508.82 Q387.193 1521.26 390.352 1527.5 Q393.552 1533.69 399.872 1533.69 Q406.232 1533.69 409.391 1527.5 Q412.592 1521.26 412.592 1508.82 Q412.592 1496.34 409.391 1490.15 Q406.232 1483.91 399.872 1483.91 M399.872 1477.43 Q410.04 1477.43 415.387 1485.49 Q420.775 1493.51 420.775 1508.82 Q420.775 1524.09 415.387 1532.15 Q410.04 1540.17 399.872 1540.17 Q389.704 1540.17 384.316 1532.15 Q378.969 1524.09 378.969 1508.82 Q378.969 1493.51 384.316 1485.49 Q389.704 1477.43 399.872 1477.43 Z\" fill=\"#000000\" fill-rule=\"evenodd\" fill-opacity=\"1\" /><path clip-path=\"url(#clip780)\" d=\"M452.655 1483.91 Q446.336 1483.91 443.135 1490.15 Q439.976 1496.34 439.976 1508.82 Q439.976 1521.26 443.135 1527.5 Q446.336 1533.69 452.655 1533.69 Q459.015 1533.69 462.175 1527.5 Q465.375 1521.26 465.375 1508.82 Q465.375 1496.34 462.175 1490.15 Q459.015 1483.91 452.655 1483.91 M452.655 1477.43 Q462.823 1477.43 468.17 1485.49 Q473.558 1493.51 473.558 1508.82 Q473.558 1524.09 468.17 1532.15 Q462.823 1540.17 452.655 1540.17 Q442.487 1540.17 437.1 1532.15 Q431.752 1524.09 431.752 1508.82 Q431.752 1493.51 437.1 1485.49 Q442.487 1477.43 452.655 1477.43 Z\" fill=\"#000000\" fill-rule=\"evenodd\" fill-opacity=\"1\" /><path clip-path=\"url(#clip780)\" d=\"M489.356 1532.11 L502.724 1532.11 L502.724 1485.97 L488.182 1488.89 L488.182 1481.44 L502.643 1478.52 L510.826 1478.52 L510.826 1532.11 L524.194 1532.11 L524.194 1539 L489.356 1539 L489.356 1532.11 Z\" fill=\"#000000\" fill-rule=\"evenodd\" fill-opacity=\"1\" /><path clip-path=\"url(#clip780)\" d=\"M556.804 1512.99 L545.38 1549.94 L538.494 1549.94 L549.917 1512.99 L538.494 1476.05 L545.38 1476.05 L556.804 1512.99 Z\" fill=\"#000000\" fill-rule=\"evenodd\" fill-opacity=\"1\" /><path clip-path=\"url(#clip780)\" d=\"M580.391 1475.6 L580.391 1558.57 L573.504 1558.57 L573.504 1475.6 L580.391 1475.6 Z\" fill=\"#000000\" fill-rule=\"evenodd\" fill-opacity=\"1\" /><path clip-path=\"url(#clip780)\" d=\"M617.295 1483.91 Q610.975 1483.91 607.775 1490.15 Q604.615 1496.34 604.615 1508.82 Q604.615 1521.26 607.775 1527.5 Q610.975 1533.69 617.295 1533.69 Q623.655 1533.69 626.814 1527.5 Q630.015 1521.26 630.015 1508.82 Q630.015 1496.34 626.814 1490.15 Q623.655 1483.91 617.295 1483.91 M617.295 1477.43 Q627.463 1477.43 632.81 1485.49 Q638.197 1493.51 638.197 1508.82 Q638.197 1524.09 632.81 1532.15 Q627.463 1540.17 617.295 1540.17 Q607.127 1540.17 601.739 1532.15 Q596.392 1524.09 596.392 1508.82 Q596.392 1493.51 601.739 1485.49 Q607.127 1477.43 617.295 1477.43 Z\" fill=\"#000000\" fill-rule=\"evenodd\" fill-opacity=\"1\" /><path clip-path=\"url(#clip780)\" d=\"M653.996 1532.11 L667.364 1532.11 L667.364 1485.97 L652.821 1488.89 L652.821 1481.44 L667.283 1478.52 L675.466 1478.52 L675.466 1532.11 L688.834 1532.11 L688.834 1539 L653.996 1539 L653.996 1532.11 Z\" fill=\"#000000\" fill-rule=\"evenodd\" fill-opacity=\"1\" /><path clip-path=\"url(#clip780)\" d=\"M722.861 1483.91 Q716.542 1483.91 713.342 1490.15 Q710.182 1496.34 710.182 1508.82 Q710.182 1521.26 713.342 1527.5 Q716.542 1533.69 722.861 1533.69 Q729.221 1533.69 732.381 1527.5 Q735.581 1521.26 735.581 1508.82 Q735.581 1496.34 732.381 1490.15 Q729.221 1483.91 722.861 1483.91 M722.861 1477.43 Q733.029 1477.43 738.376 1485.49 Q743.764 1493.51 743.764 1508.82 Q743.764 1524.09 738.376 1532.15 Q733.029 1540.17 722.861 1540.17 Q712.694 1540.17 707.306 1532.15 Q701.959 1524.09 701.959 1508.82 Q701.959 1493.51 707.306 1485.49 Q712.694 1477.43 722.861 1477.43 Z\" fill=\"#000000\" fill-rule=\"evenodd\" fill-opacity=\"1\" /><path clip-path=\"url(#clip780)\" d=\"M774.227 1512.99 L762.803 1549.94 L755.917 1549.94 L767.34 1512.99 L755.917 1476.05 L762.803 1476.05 L774.227 1512.99 Z\" fill=\"#000000\" fill-rule=\"evenodd\" fill-opacity=\"1\" /><path clip-path=\"url(#clip780)\" d=\"M797.814 1475.6 L797.814 1558.57 L790.927 1558.57 L790.927 1475.6 L797.814 1475.6 Z\" fill=\"#000000\" fill-rule=\"evenodd\" fill-opacity=\"1\" /><path clip-path=\"url(#clip780)\" d=\"M834.718 1483.91 Q828.398 1483.91 825.198 1490.15 Q822.038 1496.34 822.038 1508.82 Q822.038 1521.26 825.198 1527.5 Q828.398 1533.69 834.718 1533.69 Q841.078 1533.69 844.237 1527.5 Q847.438 1521.26 847.438 1508.82 Q847.438 1496.34 844.237 1490.15 Q841.078 1483.91 834.718 1483.91 M834.718 1477.43 Q844.885 1477.43 850.233 1485.49 Q855.62 1493.51 855.62 1508.82 Q855.62 1524.09 850.233 1532.15 Q844.885 1540.17 834.718 1540.17 Q824.55 1540.17 819.162 1532.15 Q813.815 1524.09 813.815 1508.82 Q813.815 1493.51 819.162 1485.49 Q824.55 1477.43 834.718 1477.43 Z\" fill=\"#000000\" fill-rule=\"evenodd\" fill-opacity=\"1\" /><path clip-path=\"url(#clip780)\" d=\"M871.419 1532.11 L884.787 1532.11 L884.787 1485.97 L870.244 1488.89 L870.244 1481.44 L884.706 1478.52 L892.889 1478.52 L892.889 1532.11 L906.257 1532.11 L906.257 1539 L871.419 1539 L871.419 1532.11 Z\" fill=\"#000000\" fill-rule=\"evenodd\" fill-opacity=\"1\" /><path clip-path=\"url(#clip780)\" d=\"M924.202 1532.11 L937.57 1532.11 L937.57 1485.97 L923.027 1488.89 L923.027 1481.44 L937.489 1478.52 L945.672 1478.52 L945.672 1532.11 L959.04 1532.11 L959.04 1539 L924.202 1539 L924.202 1532.11 Z\" fill=\"#000000\" fill-rule=\"evenodd\" fill-opacity=\"1\" /><path clip-path=\"url(#clip780)\" d=\"M991.65 1512.99 L980.226 1549.94 L973.34 1549.94 L984.763 1512.99 L973.34 1476.05 L980.226 1476.05 L991.65 1512.99 Z\" fill=\"#000000\" fill-rule=\"evenodd\" fill-opacity=\"1\" /><path clip-path=\"url(#clip780)\" d=\"M1015.24 1475.6 L1015.24 1558.57 L1008.35 1558.57 L1008.35 1475.6 L1015.24 1475.6 Z\" fill=\"#000000\" fill-rule=\"evenodd\" fill-opacity=\"1\" /><path clip-path=\"url(#clip780)\" d=\"M1036.06 1532.11 L1049.43 1532.11 L1049.43 1485.97 L1034.88 1488.89 L1034.88 1481.44 L1049.35 1478.52 L1057.53 1478.52 L1057.53 1532.11 L1070.9 1532.11 L1070.9 1539 L1036.06 1539 L1036.06 1532.11 Z\" fill=\"#000000\" fill-rule=\"evenodd\" fill-opacity=\"1\" /><path clip-path=\"url(#clip780)\" d=\"M1104.92 1483.91 Q1098.6 1483.91 1095.4 1490.15 Q1092.24 1496.34 1092.24 1508.82 Q1092.24 1521.26 1095.4 1527.5 Q1098.6 1533.69 1104.92 1533.69 Q1111.28 1533.69 1114.44 1527.5 Q1117.64 1521.26 1117.64 1508.82 Q1117.64 1496.34 1114.44 1490.15 Q1111.28 1483.91 1104.92 1483.91 M1104.92 1477.43 Q1115.09 1477.43 1120.44 1485.49 Q1125.83 1493.51 1125.83 1508.82 Q1125.83 1524.09 1120.44 1532.15 Q1115.09 1540.17 1104.92 1540.17 Q1094.76 1540.17 1089.37 1532.15 Q1084.02 1524.09 1084.02 1508.82 Q1084.02 1493.51 1089.37 1485.49 Q1094.76 1477.43 1104.92 1477.43 Z\" fill=\"#000000\" fill-rule=\"evenodd\" fill-opacity=\"1\" /><path clip-path=\"url(#clip780)\" d=\"M1157.71 1483.91 Q1151.39 1483.91 1148.19 1490.15 Q1145.03 1496.34 1145.03 1508.82 Q1145.03 1521.26 1148.19 1527.5 Q1151.39 1533.69 1157.71 1533.69 Q1164.07 1533.69 1167.23 1527.5 Q1170.43 1521.26 1170.43 1508.82 Q1170.43 1496.34 1167.23 1490.15 Q1164.07 1483.91 1157.71 1483.91 M1157.71 1477.43 Q1167.87 1477.43 1173.22 1485.49 Q1178.61 1493.51 1178.61 1508.82 Q1178.61 1524.09 1173.22 1532.15 Q1167.87 1540.17 1157.71 1540.17 Q1147.54 1540.17 1142.15 1532.15 Q1136.8 1524.09 1136.8 1508.82 Q1136.8 1493.51 1142.15 1485.49 Q1147.54 1477.43 1157.71 1477.43 Z\" fill=\"#000000\" fill-rule=\"evenodd\" fill-opacity=\"1\" /><path clip-path=\"url(#clip780)\" d=\"M1209.07 1512.99 L1197.65 1549.94 L1190.76 1549.94 L1202.19 1512.99 L1190.76 1476.05 L1197.65 1476.05 L1209.07 1512.99 Z\" fill=\"#000000\" fill-rule=\"evenodd\" fill-opacity=\"1\" /><path clip-path=\"url(#clip780)\" d=\"M1232.66 1475.6 L1232.66 1558.57 L1225.77 1558.57 L1225.77 1475.6 L1232.66 1475.6 Z\" fill=\"#000000\" fill-rule=\"evenodd\" fill-opacity=\"1\" /><path clip-path=\"url(#clip780)\" d=\"M1253.48 1532.11 L1266.85 1532.11 L1266.85 1485.97 L1252.31 1488.89 L1252.31 1481.44 L1266.77 1478.52 L1274.95 1478.52 L1274.95 1532.11 L1288.32 1532.11 L1288.32 1539 L1253.48 1539 L1253.48 1532.11 Z\" fill=\"#000000\" fill-rule=\"evenodd\" fill-opacity=\"1\" /><path clip-path=\"url(#clip780)\" d=\"M1322.35 1483.91 Q1316.03 1483.91 1312.83 1490.15 Q1309.67 1496.34 1309.67 1508.82 Q1309.67 1521.26 1312.83 1527.5 Q1316.03 1533.69 1322.35 1533.69 Q1328.71 1533.69 1331.87 1527.5 Q1335.07 1521.26 1335.07 1508.82 Q1335.07 1496.34 1331.87 1490.15 Q1328.71 1483.91 1322.35 1483.91 M1322.35 1477.43 Q1332.51 1477.43 1337.86 1485.49 Q1343.25 1493.51 1343.25 1508.82 Q1343.25 1524.09 1337.86 1532.15 Q1332.51 1540.17 1322.35 1540.17 Q1312.18 1540.17 1306.79 1532.15 Q1301.44 1524.09 1301.44 1508.82 Q1301.44 1493.51 1306.79 1485.49 Q1312.18 1477.43 1322.35 1477.43 Z\" fill=\"#000000\" fill-rule=\"evenodd\" fill-opacity=\"1\" /><path clip-path=\"url(#clip780)\" d=\"M1359.05 1532.11 L1372.42 1532.11 L1372.42 1485.97 L1357.87 1488.89 L1357.87 1481.44 L1372.33 1478.52 L1380.52 1478.52 L1380.52 1532.11 L1393.89 1532.11 L1393.89 1539 L1359.05 1539 L1359.05 1532.11 Z\" fill=\"#000000\" fill-rule=\"evenodd\" fill-opacity=\"1\" /><path clip-path=\"url(#clip780)\" d=\"M1426.5 1512.99 L1415.07 1549.94 L1408.19 1549.94 L1419.61 1512.99 L1408.19 1476.05 L1415.07 1476.05 L1426.5 1512.99 Z\" fill=\"#000000\" fill-rule=\"evenodd\" fill-opacity=\"1\" /><path clip-path=\"url(#clip780)\" d=\"M1450.08 1475.6 L1450.08 1558.57 L1443.2 1558.57 L1443.2 1475.6 L1450.08 1475.6 Z\" fill=\"#000000\" fill-rule=\"evenodd\" fill-opacity=\"1\" /><path clip-path=\"url(#clip780)\" d=\"M1470.9 1532.11 L1484.27 1532.11 L1484.27 1485.97 L1469.73 1488.89 L1469.73 1481.44 L1484.19 1478.52 L1492.37 1478.52 L1492.37 1532.11 L1505.74 1532.11 L1505.74 1539 L1470.9 1539 L1470.9 1532.11 Z\" fill=\"#000000\" fill-rule=\"evenodd\" fill-opacity=\"1\" /><path clip-path=\"url(#clip780)\" d=\"M1523.69 1532.11 L1537.06 1532.11 L1537.06 1485.97 L1522.51 1488.89 L1522.51 1481.44 L1536.97 1478.52 L1545.16 1478.52 L1545.16 1532.11 L1558.53 1532.11 L1558.53 1539 L1523.69 1539 L1523.69 1532.11 Z\" fill=\"#000000\" fill-rule=\"evenodd\" fill-opacity=\"1\" /><path clip-path=\"url(#clip780)\" d=\"M1592.55 1483.91 Q1586.23 1483.91 1583.03 1490.15 Q1579.87 1496.34 1579.87 1508.82 Q1579.87 1521.26 1583.03 1527.5 Q1586.23 1533.69 1592.55 1533.69 Q1598.91 1533.69 1602.07 1527.5 Q1605.27 1521.26 1605.27 1508.82 Q1605.27 1496.34 1602.07 1490.15 Q1598.91 1483.91 1592.55 1483.91 M1592.55 1477.43 Q1602.72 1477.43 1608.07 1485.49 Q1613.46 1493.51 1613.46 1508.82 Q1613.46 1524.09 1608.07 1532.15 Q1602.72 1540.17 1592.55 1540.17 Q1582.39 1540.17 1577 1532.15 Q1571.65 1524.09 1571.65 1508.82 Q1571.65 1493.51 1577 1485.49 Q1582.39 1477.43 1592.55 1477.43 Z\" fill=\"#000000\" fill-rule=\"evenodd\" fill-opacity=\"1\" /><path clip-path=\"url(#clip780)\" d=\"M1643.92 1512.99 L1632.49 1549.94 L1625.61 1549.94 L1637.03 1512.99 L1625.61 1476.05 L1632.49 1476.05 L1643.92 1512.99 Z\" fill=\"#000000\" fill-rule=\"evenodd\" fill-opacity=\"1\" /><path clip-path=\"url(#clip780)\" d=\"M1667.51 1475.6 L1667.51 1558.57 L1660.62 1558.57 L1660.62 1475.6 L1667.51 1475.6 Z\" fill=\"#000000\" fill-rule=\"evenodd\" fill-opacity=\"1\" /><path clip-path=\"url(#clip780)\" d=\"M1688.33 1532.11 L1701.7 1532.11 L1701.7 1485.97 L1687.15 1488.89 L1687.15 1481.44 L1701.61 1478.52 L1709.8 1478.52 L1709.8 1532.11 L1723.17 1532.11 L1723.17 1539 L1688.33 1539 L1688.33 1532.11 Z\" fill=\"#000000\" fill-rule=\"evenodd\" fill-opacity=\"1\" /><path clip-path=\"url(#clip780)\" d=\"M1741.11 1532.11 L1754.48 1532.11 L1754.48 1485.97 L1739.94 1488.89 L1739.94 1481.44 L1754.4 1478.52 L1762.58 1478.52 L1762.58 1532.11 L1775.95 1532.11 L1775.95 1539 L1741.11 1539 L1741.11 1532.11 Z\" fill=\"#000000\" fill-rule=\"evenodd\" fill-opacity=\"1\" /><path clip-path=\"url(#clip780)\" d=\"M1793.89 1532.11 L1807.26 1532.11 L1807.26 1485.97 L1792.72 1488.89 L1792.72 1481.44 L1807.18 1478.52 L1815.36 1478.52 L1815.36 1532.11 L1828.73 1532.11 L1828.73 1539 L1793.89 1539 L1793.89 1532.11 Z\" fill=\"#000000\" fill-rule=\"evenodd\" fill-opacity=\"1\" /><path clip-path=\"url(#clip780)\" d=\"M1861.34 1512.99 L1849.92 1549.94 L1843.03 1549.94 L1854.45 1512.99 L1843.03 1476.05 L1849.92 1476.05 L1861.34 1512.99 Z\" fill=\"#000000\" fill-rule=\"evenodd\" fill-opacity=\"1\" /><circle clip-path=\"url(#clip782)\" style=\"fill:#3da44d; stroke:none; fill-opacity:1\" cx=\"239.02\" cy=\"89.8529\" r=\"2\"/>\n",
       "<circle clip-path=\"url(#clip782)\" style=\"fill:#3da44d; stroke:none; fill-opacity:1\" cx=\"456.443\" cy=\"89.8529\" r=\"2\"/>\n",
       "<circle clip-path=\"url(#clip782)\" style=\"fill:#3da44d; stroke:none; fill-opacity:1\" cx=\"673.866\" cy=\"89.8529\" r=\"2\"/>\n",
       "<circle clip-path=\"url(#clip782)\" style=\"fill:#3da44d; stroke:none; fill-opacity:1\" cx=\"891.289\" cy=\"89.8529\" r=\"2\"/>\n",
       "<circle clip-path=\"url(#clip782)\" style=\"fill:#3da44d; stroke:none; fill-opacity:1\" cx=\"1108.71\" cy=\"89.8529\" r=\"2\"/>\n",
       "<circle clip-path=\"url(#clip782)\" style=\"fill:#3da44d; stroke:none; fill-opacity:1\" cx=\"1326.13\" cy=\"89.8529\" r=\"2\"/>\n",
       "<circle clip-path=\"url(#clip782)\" style=\"fill:#3da44d; stroke:none; fill-opacity:1\" cx=\"1543.56\" cy=\"89.8529\" r=\"2\"/>\n",
       "<circle clip-path=\"url(#clip782)\" style=\"fill:#3da44d; stroke:none; fill-opacity:1\" cx=\"1760.98\" cy=\"89.8529\" r=\"2\"/>\n",
       "<path clip-path=\"url(#clip780)\" d=\"M239.02 65.0006 Q232.7 65.0006 229.5 71.239 Q226.34 77.4369 226.34 89.9137 Q226.34 102.35 229.5 108.588 Q232.7 114.786 239.02 114.786 Q245.38 114.786 248.539 108.588 Q251.74 102.35 251.74 89.9137 Q251.74 77.4369 248.539 71.239 Q245.38 65.0006 239.02 65.0006 M239.02 58.5192 Q249.188 58.5192 254.535 66.5805 Q259.922 74.6013 259.922 89.9137 Q259.922 105.186 254.535 113.247 Q249.188 121.268 239.02 121.268 Q228.852 121.268 223.464 113.247 Q218.117 105.186 218.117 89.9137 Q218.117 74.6013 223.464 66.5805 Q228.852 58.5192 239.02 58.5192 Z\" fill=\"#000000\" fill-rule=\"evenodd\" fill-opacity=\"1\" /><path clip-path=\"url(#clip780)\" d=\"M456.443 65.0006 Q450.123 65.0006 446.923 71.239 Q443.763 77.4369 443.763 89.9137 Q443.763 102.35 446.923 108.588 Q450.123 114.786 456.443 114.786 Q462.803 114.786 465.962 108.588 Q469.163 102.35 469.163 89.9137 Q469.163 77.4369 465.962 71.239 Q462.803 65.0006 456.443 65.0006 M456.443 58.5192 Q466.61 58.5192 471.958 66.5805 Q477.345 74.6013 477.345 89.9137 Q477.345 105.186 471.958 113.247 Q466.61 121.268 456.443 121.268 Q446.275 121.268 440.887 113.247 Q435.54 105.186 435.54 89.9137 Q435.54 74.6013 440.887 66.5805 Q446.275 58.5192 456.443 58.5192 Z\" fill=\"#000000\" fill-rule=\"evenodd\" fill-opacity=\"1\" /><path clip-path=\"url(#clip780)\" d=\"M673.866 65.0006 Q667.546 65.0006 664.346 71.239 Q661.186 77.4369 661.186 89.9137 Q661.186 102.35 664.346 108.588 Q667.546 114.786 673.866 114.786 Q680.226 114.786 683.385 108.588 Q686.585 102.35 686.585 89.9137 Q686.585 77.4369 683.385 71.239 Q680.226 65.0006 673.866 65.0006 M673.866 58.5192 Q684.033 58.5192 689.381 66.5805 Q694.768 74.6013 694.768 89.9137 Q694.768 105.186 689.381 113.247 Q684.033 121.268 673.866 121.268 Q663.698 121.268 658.31 113.247 Q652.963 105.186 652.963 89.9137 Q652.963 74.6013 658.31 66.5805 Q663.698 58.5192 673.866 58.5192 Z\" fill=\"#000000\" fill-rule=\"evenodd\" fill-opacity=\"1\" /><path clip-path=\"url(#clip780)\" d=\"M891.289 65.0006 Q884.969 65.0006 881.769 71.239 Q878.609 77.4369 878.609 89.9137 Q878.609 102.35 881.769 108.588 Q884.969 114.786 891.289 114.786 Q897.648 114.786 900.808 108.588 Q904.008 102.35 904.008 89.9137 Q904.008 77.4369 900.808 71.239 Q897.648 65.0006 891.289 65.0006 M891.289 58.5192 Q901.456 58.5192 906.804 66.5805 Q912.191 74.6013 912.191 89.9137 Q912.191 105.186 906.804 113.247 Q901.456 121.268 891.289 121.268 Q881.121 121.268 875.733 113.247 Q870.386 105.186 870.386 89.9137 Q870.386 74.6013 875.733 66.5805 Q881.121 58.5192 891.289 58.5192 Z\" fill=\"#000000\" fill-rule=\"evenodd\" fill-opacity=\"1\" /><path clip-path=\"url(#clip780)\" d=\"M1108.71 65.0006 Q1102.39 65.0006 1099.19 71.239 Q1096.03 77.4369 1096.03 89.9137 Q1096.03 102.35 1099.19 108.588 Q1102.39 114.786 1108.71 114.786 Q1115.07 114.786 1118.23 108.588 Q1121.43 102.35 1121.43 89.9137 Q1121.43 77.4369 1118.23 71.239 Q1115.07 65.0006 1108.71 65.0006 M1108.71 58.5192 Q1118.88 58.5192 1124.23 66.5805 Q1129.61 74.6013 1129.61 89.9137 Q1129.61 105.186 1124.23 113.247 Q1118.88 121.268 1108.71 121.268 Q1098.54 121.268 1093.16 113.247 Q1087.81 105.186 1087.81 89.9137 Q1087.81 74.6013 1093.16 66.5805 Q1098.54 58.5192 1108.71 58.5192 Z\" fill=\"#000000\" fill-rule=\"evenodd\" fill-opacity=\"1\" /><path clip-path=\"url(#clip780)\" d=\"M1326.13 65.0006 Q1319.81 65.0006 1316.61 71.239 Q1313.46 77.4369 1313.46 89.9137 Q1313.46 102.35 1316.61 108.588 Q1319.81 114.786 1326.13 114.786 Q1332.49 114.786 1335.65 108.588 Q1338.85 102.35 1338.85 89.9137 Q1338.85 77.4369 1335.65 71.239 Q1332.49 65.0006 1326.13 65.0006 M1326.13 58.5192 Q1336.3 58.5192 1341.65 66.5805 Q1347.04 74.6013 1347.04 89.9137 Q1347.04 105.186 1341.65 113.247 Q1336.3 121.268 1326.13 121.268 Q1315.97 121.268 1310.58 113.247 Q1305.23 105.186 1305.23 89.9137 Q1305.23 74.6013 1310.58 66.5805 Q1315.97 58.5192 1326.13 58.5192 Z\" fill=\"#000000\" fill-rule=\"evenodd\" fill-opacity=\"1\" /><path clip-path=\"url(#clip780)\" d=\"M1543.56 65.0006 Q1537.24 65.0006 1534.04 71.239 Q1530.88 77.4369 1530.88 89.9137 Q1530.88 102.35 1534.04 108.588 Q1537.24 114.786 1543.56 114.786 Q1549.92 114.786 1553.08 108.588 Q1556.28 102.35 1556.28 89.9137 Q1556.28 77.4369 1553.08 71.239 Q1549.92 65.0006 1543.56 65.0006 M1543.56 58.5192 Q1553.73 58.5192 1559.07 66.5805 Q1564.46 74.6013 1564.46 89.9137 Q1564.46 105.186 1559.07 113.247 Q1553.73 121.268 1543.56 121.268 Q1533.39 121.268 1528 113.247 Q1522.65 105.186 1522.65 89.9137 Q1522.65 74.6013 1528 66.5805 Q1533.39 58.5192 1543.56 58.5192 Z\" fill=\"#000000\" fill-rule=\"evenodd\" fill-opacity=\"1\" /><path clip-path=\"url(#clip780)\" d=\"M1663.47 113.206 L1676.84 113.206 L1676.84 67.0666 L1662.3 69.9832 L1662.3 62.5296 L1676.76 59.6129 L1684.94 59.6129 L1684.94 113.206 L1698.31 113.206 L1698.31 120.093 L1663.47 120.093 L1663.47 113.206 Z\" fill=\"#000000\" fill-rule=\"evenodd\" fill-opacity=\"1\" /><path clip-path=\"url(#clip780)\" d=\"M1732.34 65.0006 Q1726.02 65.0006 1722.82 71.239 Q1719.66 77.4369 1719.66 89.9137 Q1719.66 102.35 1722.82 108.588 Q1726.02 114.786 1732.34 114.786 Q1738.7 114.786 1741.86 108.588 Q1745.06 102.35 1745.06 89.9137 Q1745.06 77.4369 1741.86 71.239 Q1738.7 65.0006 1732.34 65.0006 M1732.34 58.5192 Q1742.51 58.5192 1747.86 66.5805 Q1753.24 74.6013 1753.24 89.9137 Q1753.24 105.186 1747.86 113.247 Q1742.51 121.268 1732.34 121.268 Q1722.17 121.268 1716.78 113.247 Q1711.44 105.186 1711.44 89.9137 Q1711.44 74.6013 1716.78 66.5805 Q1722.17 58.5192 1732.34 58.5192 Z\" fill=\"#000000\" fill-rule=\"evenodd\" fill-opacity=\"1\" /><path clip-path=\"url(#clip780)\" d=\"M1774.67 113.206 L1803.23 113.206 L1803.23 120.093 L1764.83 120.093 L1764.83 113.206 Q1769.49 108.386 1777.51 100.284 Q1785.57 92.1417 1787.64 89.7922 Q1791.56 85.3767 1793.1 82.3385 Q1794.68 79.2598 1794.68 76.3026 Q1794.68 71.4821 1791.28 68.4439 Q1787.92 65.4057 1782.49 65.4057 Q1778.64 65.4057 1774.35 66.7425 Q1770.09 68.0793 1765.23 70.7934 L1765.23 62.5296 Q1770.18 60.5446 1774.47 59.5319 Q1778.76 58.5192 1782.33 58.5192 Q1791.73 58.5192 1797.32 63.2182 Q1802.91 67.9173 1802.91 75.776 Q1802.91 79.5029 1801.49 82.8651 Q1800.11 86.1869 1796.43 90.7239 Q1795.41 91.8986 1789.98 97.5294 Q1784.56 103.12 1774.67 113.206 Z\" fill=\"#000000\" fill-rule=\"evenodd\" fill-opacity=\"1\" /><path clip-path=\"url(#clip780)\" d=\"M1842.89 66.7425 L1822.23 99.0282 L1842.89 99.0282 L1842.89 66.7425 M1840.74 59.6129 L1851.03 59.6129 L1851.03 99.0282 L1859.66 99.0282 L1859.66 105.834 L1851.03 105.834 L1851.03 120.093 L1842.89 120.093 L1842.89 105.834 L1815.59 105.834 L1815.59 97.9345 L1840.74 59.6129 Z\" fill=\"#000000\" fill-rule=\"evenodd\" fill-opacity=\"1\" /></svg>\n"
      ]
     },
     "execution_count": 141,
     "metadata": {},
     "output_type": "execute_result"
    },
    {
     "name": "stderr",
     "output_type": "stream",
     "text": [
      "\u001b[33m\u001b[1m┌ \u001b[22m\u001b[39m\u001b[33m\u001b[1mWarning: \u001b[22m\u001b[39mInvalid limits for x axis. Limits should be a symbol, or a two-element tuple or vector of numbers.\n",
      "\u001b[33m\u001b[1m│ \u001b[22m\u001b[39mxlims = (0:8,)\n",
      "\u001b[33m\u001b[1m└ \u001b[22m\u001b[39m\u001b[90m@ Plots ~/.julia/packages/Plots/modjX/src/axes.jl:628\u001b[39m\n",
      "\u001b[33m\u001b[1m┌ \u001b[22m\u001b[39m\u001b[33m\u001b[1mWarning: \u001b[22m\u001b[39mInvalid limits for y axis. Limits should be a symbol, or a two-element tuple or vector of numbers.\n",
      "\u001b[33m\u001b[1m│ \u001b[22m\u001b[39mylims = (0:1024,)\n",
      "\u001b[33m\u001b[1m└ \u001b[22m\u001b[39m\u001b[90m@ Plots ~/.julia/packages/Plots/modjX/src/axes.jl:628\u001b[39m\n",
      "\u001b[33m\u001b[1m┌ \u001b[22m\u001b[39m\u001b[33m\u001b[1mWarning: \u001b[22m\u001b[39mInvalid limits for x axis. Limits should be a symbol, or a two-element tuple or vector of numbers.\n",
      "\u001b[33m\u001b[1m│ \u001b[22m\u001b[39mxlims = (0:8,)\n",
      "\u001b[33m\u001b[1m└ \u001b[22m\u001b[39m\u001b[90m@ Plots ~/.julia/packages/Plots/modjX/src/axes.jl:628\u001b[39m\n",
      "\u001b[33m\u001b[1m┌ \u001b[22m\u001b[39m\u001b[33m\u001b[1mWarning: \u001b[22m\u001b[39mInvalid limits for y axis. Limits should be a symbol, or a two-element tuple or vector of numbers.\n",
      "\u001b[33m\u001b[1m│ \u001b[22m\u001b[39mylims = (0:1024,)\n",
      "\u001b[33m\u001b[1m└ \u001b[22m\u001b[39m\u001b[90m@ Plots ~/.julia/packages/Plots/modjX/src/axes.jl:628\u001b[39m\n",
      "\u001b[33m\u001b[1m┌ \u001b[22m\u001b[39m\u001b[33m\u001b[1mWarning: \u001b[22m\u001b[39mInvalid limits for x axis. Limits should be a symbol, or a two-element tuple or vector of numbers.\n",
      "\u001b[33m\u001b[1m│ \u001b[22m\u001b[39mxlims = (0:8,)\n",
      "\u001b[33m\u001b[1m└ \u001b[22m\u001b[39m\u001b[90m@ Plots ~/.julia/packages/Plots/modjX/src/axes.jl:628\u001b[39m\n",
      "\u001b[33m\u001b[1m┌ \u001b[22m\u001b[39m\u001b[33m\u001b[1mWarning: \u001b[22m\u001b[39mInvalid limits for y axis. Limits should be a symbol, or a two-element tuple or vector of numbers.\n",
      "\u001b[33m\u001b[1m│ \u001b[22m\u001b[39mylims = (0:1024,)\n",
      "\u001b[33m\u001b[1m└ \u001b[22m\u001b[39m\u001b[90m@ Plots ~/.julia/packages/Plots/modjX/src/axes.jl:628\u001b[39m\n",
      "\u001b[33m\u001b[1m┌ \u001b[22m\u001b[39m\u001b[33m\u001b[1mWarning: \u001b[22m\u001b[39mInvalid limits for x axis. Limits should be a symbol, or a two-element tuple or vector of numbers.\n",
      "\u001b[33m\u001b[1m│ \u001b[22m\u001b[39mxlims = (0:8,)\n",
      "\u001b[33m\u001b[1m└ \u001b[22m\u001b[39m\u001b[90m@ Plots ~/.julia/packages/Plots/modjX/src/axes.jl:628\u001b[39m\n",
      "\u001b[33m\u001b[1m┌ \u001b[22m\u001b[39m\u001b[33m\u001b[1mWarning: \u001b[22m\u001b[39mInvalid limits for y axis. Limits should be a symbol, or a two-element tuple or vector of numbers.\n",
      "\u001b[33m\u001b[1m│ \u001b[22m\u001b[39mylims = (0:1024,)\n",
      "\u001b[33m\u001b[1m└ \u001b[22m\u001b[39m\u001b[90m@ Plots ~/.julia/packages/Plots/modjX/src/axes.jl:628\u001b[39m\n"
     ]
    }
   ],
   "source": [
    "plotmeasures(a)"
   ]
  },
  {
   "cell_type": "markdown",
   "id": "1eb1713c-7c25-4ab9-873b-2005ef58204e",
   "metadata": {
    "slideshow": {
     "slide_type": "slide"
    }
   },
   "source": [
    "# END of intro\n",
    "\n",
    "![]()\n",
    "\n",
    "<div>\n",
    "<center>\n",
    "<img src=\"https://geeksoncoffee.com/wp-content/uploads/2019/10/gaben_o_5591569.jpg\" width=\"700\"/>\n",
    "</center>\n",
    "</div>"
   ]
  },
  {
   "cell_type": "code",
   "execution_count": null,
   "id": "f50f39c5-2fa9-4d26-b48f-381bcd5d51f0",
   "metadata": {},
   "outputs": [],
   "source": []
  }
 ],
 "metadata": {
  "celltoolbar": "Slideshow",
  "kernelspec": {
   "display_name": "Julia 1.9.0-beta2",
   "language": "julia",
   "name": "julia-1.9"
  },
  "language_info": {
   "file_extension": ".jl",
   "mimetype": "application/julia",
   "name": "julia",
   "version": "1.9.0"
  }
 },
 "nbformat": 4,
 "nbformat_minor": 5
}
