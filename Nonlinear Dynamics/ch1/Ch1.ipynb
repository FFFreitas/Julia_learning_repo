{
 "cells": [
  {
   "cell_type": "code",
   "execution_count": 1,
   "id": "82a90488-5690-47fe-b2cc-daca01343917",
   "metadata": {},
   "outputs": [],
   "source": [
    "using Pkg"
   ]
  },
  {
   "cell_type": "code",
   "execution_count": 2,
   "id": "49a2310c-75f1-4088-9421-c2df428b38ad",
   "metadata": {},
   "outputs": [
    {
     "name": "stderr",
     "output_type": "stream",
     "text": [
      "\u001b[32m\u001b[1m  Activating\u001b[22m\u001b[39m project at `~/Julia_learning_repo/Nonlinear Dynamics/NonlinearDynamic_env`\n"
     ]
    }
   ],
   "source": [
    "Pkg.activate(\"../NonlinearDynamic_env/\")"
   ]
  },
  {
   "cell_type": "code",
   "execution_count": 3,
   "id": "fc046e41-808d-4a04-a61a-521159905910",
   "metadata": {},
   "outputs": [
    {
     "name": "stderr",
     "output_type": "stream",
     "text": [
      "\u001b[36m\u001b[1m[ \u001b[22m\u001b[39m\u001b[36m\u001b[1mInfo: \u001b[22m\u001b[39mPrecompiling DynamicalSystems [61744808-ddfa-5f27-97ff-6e42cc95d634]\n"
     ]
    }
   ],
   "source": [
    "using DynamicalSystems"
   ]
  },
  {
   "cell_type": "code",
   "execution_count": 4,
   "id": "be2dd711-5365-4a8e-9c70-57fa48a2a3c4",
   "metadata": {},
   "outputs": [
    {
     "data": {
      "text/plain": [
       "lorenz_rule (generic function with 1 method)"
      ]
     },
     "execution_count": 4,
     "metadata": {},
     "output_type": "execute_result"
    }
   ],
   "source": [
    "function lorenz_rule(u, p, t)\n",
    "    σ, ρ, β = p\n",
    "    x, y, z = u\n",
    "    dx = σ * (y - x)\n",
    "    dy = x * (ρ - z) - y\n",
    "    dz = x * y - β * z\n",
    "    return SVector(dx, dy, dz)\n",
    "end\n",
    "\n"
   ]
  },
  {
   "cell_type": "code",
   "execution_count": 5,
   "id": "975c0f20-9eff-44ed-9ea1-577682323b69",
   "metadata": {},
   "outputs": [
    {
     "data": {
      "text/plain": [
       "3-element Vector{Float64}:\n",
       "  0.0\n",
       " 10.0\n",
       "  0.0"
      ]
     },
     "execution_count": 5,
     "metadata": {},
     "output_type": "execute_result"
    }
   ],
   "source": [
    "# parameters and initial conditions\n",
    "p = [10.0, 28.0, 8/3]\n",
    "u₀ = [0.0, 10.0, 0.0]"
   ]
  },
  {
   "cell_type": "code",
   "execution_count": 6,
   "id": "e36c41e4-b071-49c9-bfd8-37dfe88e4afc",
   "metadata": {},
   "outputs": [
    {
     "data": {
      "text/plain": [
       "3-dimensional CoupledODEs\n",
       " deterministic: true\n",
       " discrete time: false\n",
       " in-place:      false\n",
       " dynamic rule:  lorenz_rule\n",
       " ODE solver:    Tsit5\n",
       " ODE kwargs:    (abstol = 1.0e-6, reltol = 1.0e-6)\n",
       " parameters:    [10.0, 28.0, 2.6666666666666665]\n",
       " time:          0.0\n",
       " state:         [0.0, 10.0, 0.0]\n"
      ]
     },
     "execution_count": 6,
     "metadata": {},
     "output_type": "execute_result"
    }
   ],
   "source": [
    "# create an instance of dynamicalsystem\n",
    "\n",
    "lorenz = ContinuousDynamicalSystem(lorenz_rule, u₀, p)"
   ]
  },
  {
   "cell_type": "code",
   "execution_count": 7,
   "id": "4c9280b9-ea99-45f2-ab41-88e3917ade3b",
   "metadata": {},
   "outputs": [
    {
     "data": {
      "text/plain": [
       "(3-dimensional StateSpaceSet{Float64} with 10001 points, 0.0:0.01:100.0)"
      ]
     },
     "execution_count": 7,
     "metadata": {},
     "output_type": "execute_result"
    }
   ],
   "source": [
    "T = 100.0\n",
    "Δt = 0.01\n",
    "A = trajectory(lorenz, T; Δt)"
   ]
  },
  {
   "cell_type": "code",
   "execution_count": 11,
   "id": "72407c56-d4de-4559-8bb9-22335c64d636",
   "metadata": {},
   "outputs": [
    {
     "data": {
      "text/plain": [
       "3-dimensional StateSpaceSet{Float64} with 10001 points\n",
       "  0.0       10.0       0.0\n",
       "  0.951226  10.0352    0.0479002\n",
       "  1.82768   10.3224    0.18683\n",
       "  2.6593    10.839     0.416592\n",
       "  3.47133   11.5678    0.744804\n",
       "  4.28518   12.496     1.18585\n",
       "  5.1191    13.6125    1.76047\n",
       "  5.98858   14.9063    2.49569\n",
       "  6.90648   16.3638    3.42487\n",
       "  7.88291   17.9659    4.58749\n",
       "  8.92478   19.6843    6.02839\n",
       " 10.035     21.4776    7.796\n",
       " 11.2116    23.2867    9.93892\n",
       "  ⋮                   \n",
       " -2.5714    -2.69645  19.6657\n",
       " -2.59254   -2.8894   19.2194\n",
       " -2.6306    -3.09433  18.7907\n",
       " -2.68518   -3.31247  18.3802\n",
       " -2.75601   -3.54517  17.9885\n",
       " -2.84301   -3.79391  17.6165\n",
       " -2.94623   -4.06024  17.2651\n",
       " -3.0659    -4.34582  16.9354\n",
       " -3.20236   -4.65237  16.6288\n",
       " -3.35608   -4.98166  16.3471\n",
       " -3.52769   -5.3355   16.0921\n",
       " -3.7179    -5.7157   15.8661"
      ]
     },
     "execution_count": 11,
     "metadata": {},
     "output_type": "execute_result"
    }
   ],
   "source": [
    "A[1]"
   ]
  },
  {
   "cell_type": "markdown",
   "id": "a7f26cbf-6433-44f9-afad-b7e550b0f9c7",
   "metadata": {},
   "source": [
    "the book repo -> https://github.com/JuliaDynamics/NonlinearDynamicsTextbook"
   ]
  },
  {
   "cell_type": "code",
   "execution_count": 12,
   "id": "741cdbd2-6171-48da-89c8-2c184dec45a3",
   "metadata": {},
   "outputs": [
    {
     "name": "stdout",
     "output_type": "stream",
     "text": [
      "search: \u001b[0m\u001b[1mp\u001b[22m\u001b[0m\u001b[1mo\u001b[22m\u001b[0m\u001b[1mi\u001b[22m\u001b[0m\u001b[1mn\u001b[22m\u001b[0m\u001b[1mc\u001b[22m\u001b[0m\u001b[1ma\u001b[22m\u001b[0m\u001b[1mr\u001b[22m\u001b[0m\u001b[1me\u001b[22m\u001b[0m\u001b[1mm\u001b[22m\u001b[0m\u001b[1ma\u001b[22m\u001b[0m\u001b[1mp\u001b[22m \u001b[0m\u001b[1mP\u001b[22m\u001b[0m\u001b[1mo\u001b[22m\u001b[0m\u001b[1mi\u001b[22m\u001b[0m\u001b[1mn\u001b[22m\u001b[0m\u001b[1mc\u001b[22m\u001b[0m\u001b[1ma\u001b[22m\u001b[0m\u001b[1mr\u001b[22m\u001b[0m\u001b[1me\u001b[22m\u001b[0m\u001b[1mM\u001b[22m\u001b[0m\u001b[1ma\u001b[22m\u001b[0m\u001b[1mp\u001b[22m \u001b[0m\u001b[1mp\u001b[22m\u001b[0m\u001b[1mo\u001b[22m\u001b[0m\u001b[1mi\u001b[22m\u001b[0m\u001b[1mn\u001b[22m\u001b[0m\u001b[1mc\u001b[22m\u001b[0m\u001b[1ma\u001b[22m\u001b[0m\u001b[1mr\u001b[22m\u001b[0m\u001b[1me\u001b[22msos interactive_\u001b[0m\u001b[1mp\u001b[22m\u001b[0m\u001b[1mo\u001b[22m\u001b[0m\u001b[1mi\u001b[22m\u001b[0m\u001b[1mn\u001b[22m\u001b[0m\u001b[1mc\u001b[22m\u001b[0m\u001b[1ma\u001b[22m\u001b[0m\u001b[1mr\u001b[22m\u001b[0m\u001b[1me\u001b[22msos\n",
      "\n"
     ]
    },
    {
     "data": {
      "text/latex": [
       "No documentation found.\n",
       "\n",
       "\\texttt{DynamicalSystemsBase.poincaremap} is a \\texttt{Function}.\n",
       "\n",
       "\\begin{verbatim}\n",
       "# 3 methods for generic function \"poincaremap\" from DynamicalSystemsBase:\n",
       " [1] poincaremap(ds::DynamicalSystem, plane)\n",
       "     @ ~/.julia/packages/DynamicalSystemsBase/Lx8dy/src/deprecations.jl:67\n",
       " [2] poincaremap(ds::DynamicalSystem, plane, Tmax; kwargs...)\n",
       "     @ ~/.julia/packages/DynamicalSystemsBase/Lx8dy/src/deprecations.jl:67\n",
       " [3] poincaremap(args...; kwargs...)\n",
       "     @ deprecated.jl:113\n",
       "\\end{verbatim}\n"
      ],
      "text/markdown": [
       "No documentation found.\n",
       "\n",
       "`DynamicalSystemsBase.poincaremap` is a `Function`.\n",
       "\n",
       "```\n",
       "# 3 methods for generic function \"poincaremap\" from DynamicalSystemsBase:\n",
       " [1] poincaremap(ds::DynamicalSystem, plane)\n",
       "     @ ~/.julia/packages/DynamicalSystemsBase/Lx8dy/src/deprecations.jl:67\n",
       " [2] poincaremap(ds::DynamicalSystem, plane, Tmax; kwargs...)\n",
       "     @ ~/.julia/packages/DynamicalSystemsBase/Lx8dy/src/deprecations.jl:67\n",
       " [3] poincaremap(args...; kwargs...)\n",
       "     @ deprecated.jl:113\n",
       "```\n"
      ],
      "text/plain": [
       "  No documentation found.\n",
       "\n",
       "  \u001b[36mDynamicalSystemsBase.poincaremap\u001b[39m is a \u001b[36mFunction\u001b[39m.\n",
       "\n",
       "\u001b[36m  # 3 methods for generic function \"poincaremap\" from DynamicalSystemsBase:\u001b[39m\n",
       "\u001b[36m   [1] poincaremap(ds::DynamicalSystem, plane)\u001b[39m\n",
       "\u001b[36m       @ ~/.julia/packages/DynamicalSystemsBase/Lx8dy/src/deprecations.jl:67\u001b[39m\n",
       "\u001b[36m   [2] poincaremap(ds::DynamicalSystem, plane, Tmax; kwargs...)\u001b[39m\n",
       "\u001b[36m       @ ~/.julia/packages/DynamicalSystemsBase/Lx8dy/src/deprecations.jl:67\u001b[39m\n",
       "\u001b[36m   [3] poincaremap(args...; kwargs...)\u001b[39m\n",
       "\u001b[36m       @ deprecated.jl:113\u001b[39m"
      ]
     },
     "execution_count": 12,
     "metadata": {},
     "output_type": "execute_result"
    }
   ],
   "source": [
    "?poincaremap"
   ]
  },
  {
   "cell_type": "code",
   "execution_count": null,
   "id": "b89ff567-6987-4230-ac26-5b146c0ea891",
   "metadata": {},
   "outputs": [],
   "source": []
  }
 ],
 "metadata": {
  "kernelspec": {
   "display_name": "Julia 1.9.2",
   "language": "julia",
   "name": "julia-1.9"
  },
  "language_info": {
   "file_extension": ".jl",
   "mimetype": "application/julia",
   "name": "julia",
   "version": "1.9.2"
  }
 },
 "nbformat": 4,
 "nbformat_minor": 5
}
